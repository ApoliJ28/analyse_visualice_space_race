{
  "cells": [
    {
      "cell_type": "markdown",
      "metadata": {
        "id": "ka_FkvXBiABo"
      },
      "source": [
        "# Introduction"
      ]
    },
    {
      "cell_type": "markdown",
      "metadata": {
        "id": "AWaMmfxXa-p0",
        "papermill": {
          "duration": 0.035434,
          "end_time": "2020-10-20T21:34:01.886225",
          "exception": false,
          "start_time": "2020-10-20T21:34:01.850791",
          "status": "completed"
        },
        "tags": []
      },
      "source": [
        "<center><img src=\"https://i.imgur.com/9hLRsjZ.jpg\" height=400></center>\n",
        "\n",
        "This dataset was scraped from [nextspaceflight.com](https://nextspaceflight.com/launches/past/?page=1) and includes all the space missions since the beginning of Space Race between the USA and the Soviet Union in 1957!"
      ]
    },
    {
      "cell_type": "markdown",
      "metadata": {
        "id": "ufzKRKS3bV0r"
      },
      "source": [
        "### Install Package with Country Codes"
      ]
    },
    {
      "cell_type": "code",
      "execution_count": 1,
      "metadata": {
        "colab": {
          "base_uri": "https://localhost:8080/"
        },
        "id": "0HxV9o6dbRUE",
        "outputId": "35464d43-d601-4b8f-81fd-6dbd400167f5"
      },
      "outputs": [
        {
          "name": "stdout",
          "output_type": "stream",
          "text": [
            "Requirement already satisfied: iso3166 in c:\\users\\finanzas01\\documents\\cursos\\professional portfolio\\day 99 - analyse and visualise the space race\\venv\\lib\\site-packages (2.1.1)\n",
            "Note: you may need to restart the kernel to use updated packages.\n"
          ]
        }
      ],
      "source": [
        "%pip install iso3166"
      ]
    },
    {
      "cell_type": "markdown",
      "metadata": {
        "id": "sghkhFoLbof8"
      },
      "source": [
        "### Upgrade Plotly\n",
        "\n",
        "Run the cell below if you are working with Google Colab."
      ]
    },
    {
      "cell_type": "code",
      "execution_count": 2,
      "metadata": {
        "colab": {
          "base_uri": "https://localhost:8080/"
        },
        "id": "gQ61wy9gbmxd",
        "outputId": "99185d87-acb8-4237-c0f7-bfb18bfd4d39"
      },
      "outputs": [
        {
          "name": "stdout",
          "output_type": "stream",
          "text": [
            "Requirement already satisfied: plotly in c:\\users\\finanzas01\\documents\\cursos\\professional portfolio\\day 99 - analyse and visualise the space race\\venv\\lib\\site-packages (5.24.1)\n",
            "Requirement already satisfied: tenacity>=6.2.0 in c:\\users\\finanzas01\\documents\\cursos\\professional portfolio\\day 99 - analyse and visualise the space race\\venv\\lib\\site-packages (from plotly) (9.0.0)\n",
            "Requirement already satisfied: packaging in c:\\users\\finanzas01\\documents\\cursos\\professional portfolio\\day 99 - analyse and visualise the space race\\venv\\lib\\site-packages (from plotly) (24.1)\n",
            "Note: you may need to restart the kernel to use updated packages.\n"
          ]
        }
      ],
      "source": [
        "%pip install --upgrade plotly"
      ]
    },
    {
      "cell_type": "markdown",
      "metadata": {
        "id": "ErFDBihUi1jN"
      },
      "source": [
        "### Import Statements"
      ]
    },
    {
      "cell_type": "code",
      "execution_count": 3,
      "metadata": {
        "_cell_guid": "b1076dfc-b9ad-4769-8c92-a6c4dae69d19",
        "_kg_hide-input": true,
        "_kg_hide-output": true,
        "_uuid": "8f2839f25d086af736a60e9eeb907d3b93b6e0e5",
        "colab": {
          "base_uri": "https://localhost:8080/"
        },
        "execution": {
          "iopub.execute_input": "2020-10-20T21:34:02.101551Z",
          "iopub.status.busy": "2020-10-20T21:34:02.101085Z",
          "iopub.status.idle": "2020-10-20T21:34:03.726868Z",
          "shell.execute_reply": "2020-10-20T21:34:03.725783Z"
        },
        "id": "xdolY0-Sa-p1",
        "outputId": "7142dedb-82e9-457d-db44-cea4e121bdfe",
        "papermill": {
          "duration": 1.665326,
          "end_time": "2020-10-20T21:34:03.726995",
          "exception": false,
          "start_time": "2020-10-20T21:34:02.061669",
          "status": "completed"
        },
        "tags": []
      },
      "outputs": [],
      "source": [
        "import numpy as np\n",
        "import pandas as pd\n",
        "import plotly.express as px\n",
        "import matplotlib.pyplot as plt\n",
        "import seaborn as sns\n",
        "\n",
        "# These might be helpful:\n",
        "from iso3166 import countries\n",
        "from datetime import datetime, timedelta"
      ]
    },
    {
      "cell_type": "markdown",
      "metadata": {
        "id": "lovGPRgKxIgo"
      },
      "source": [
        "### Notebook Presentation"
      ]
    },
    {
      "cell_type": "code",
      "execution_count": 4,
      "metadata": {
        "id": "DHEULCOjxIIm"
      },
      "outputs": [],
      "source": [
        "pd.options.display.float_format = '{:,.2f}'.format"
      ]
    },
    {
      "cell_type": "markdown",
      "metadata": {
        "id": "yaT3QbjEa-p4",
        "papermill": {
          "duration": 0.034606,
          "end_time": "2020-10-20T21:34:03.798396",
          "exception": false,
          "start_time": "2020-10-20T21:34:03.763790",
          "status": "completed"
        },
        "tags": []
      },
      "source": [
        "### Load the Data"
      ]
    },
    {
      "cell_type": "code",
      "execution_count": 93,
      "metadata": {
        "_cell_guid": "79c7e3d0-c299-4dcb-8224-4455121ee9b0",
        "_kg_hide-input": true,
        "_uuid": "d629ff2d2480ee46fbb7e2d37f6b5fab8052498a",
        "execution": {
          "iopub.execute_input": "2020-10-20T21:34:03.874195Z",
          "iopub.status.busy": "2020-10-20T21:34:03.873775Z",
          "iopub.status.idle": "2020-10-20T21:34:03.921919Z",
          "shell.execute_reply": "2020-10-20T21:34:03.921418Z"
        },
        "id": "0lDOu8aka-p4",
        "papermill": {
          "duration": 0.08876,
          "end_time": "2020-10-20T21:34:03.922028",
          "exception": false,
          "start_time": "2020-10-20T21:34:03.833268",
          "status": "completed"
        },
        "tags": []
      },
      "outputs": [],
      "source": [
        "df_data = pd.read_csv('mission_launches.csv')"
      ]
    },
    {
      "cell_type": "markdown",
      "metadata": {
        "id": "jAnMiVcVjuKB"
      },
      "source": [
        "# Preliminary Data Exploration\n",
        "\n",
        "* What is the shape of `df_data`? \n",
        "* How many rows and columns does it have?\n",
        "* What are the column names?\n",
        "* Are there any NaN values or duplicates?"
      ]
    },
    {
      "cell_type": "code",
      "execution_count": 94,
      "metadata": {
        "id": "0tIuYcYNlPFQ"
      },
      "outputs": [
        {
          "data": {
            "text/html": [
              "<div>\n",
              "<style scoped>\n",
              "    .dataframe tbody tr th:only-of-type {\n",
              "        vertical-align: middle;\n",
              "    }\n",
              "\n",
              "    .dataframe tbody tr th {\n",
              "        vertical-align: top;\n",
              "    }\n",
              "\n",
              "    .dataframe thead th {\n",
              "        text-align: right;\n",
              "    }\n",
              "</style>\n",
              "<table border=\"1\" class=\"dataframe\">\n",
              "  <thead>\n",
              "    <tr style=\"text-align: right;\">\n",
              "      <th></th>\n",
              "      <th>Unnamed: 0.1</th>\n",
              "      <th>Unnamed: 0</th>\n",
              "      <th>Organisation</th>\n",
              "      <th>Location</th>\n",
              "      <th>Date</th>\n",
              "      <th>Detail</th>\n",
              "      <th>Rocket_Status</th>\n",
              "      <th>Price</th>\n",
              "      <th>Mission_Status</th>\n",
              "    </tr>\n",
              "  </thead>\n",
              "  <tbody>\n",
              "    <tr>\n",
              "      <th>0</th>\n",
              "      <td>0</td>\n",
              "      <td>0</td>\n",
              "      <td>SpaceX</td>\n",
              "      <td>LC-39A, Kennedy Space Center, Florida, USA</td>\n",
              "      <td>Fri Aug 07, 2020 05:12 UTC</td>\n",
              "      <td>Falcon 9 Block 5 | Starlink V1 L9 &amp; BlackSky</td>\n",
              "      <td>StatusActive</td>\n",
              "      <td>50.0</td>\n",
              "      <td>Success</td>\n",
              "    </tr>\n",
              "    <tr>\n",
              "      <th>1</th>\n",
              "      <td>1</td>\n",
              "      <td>1</td>\n",
              "      <td>CASC</td>\n",
              "      <td>Site 9401 (SLS-2), Jiuquan Satellite Launch Ce...</td>\n",
              "      <td>Thu Aug 06, 2020 04:01 UTC</td>\n",
              "      <td>Long March 2D | Gaofen-9 04 &amp; Q-SAT</td>\n",
              "      <td>StatusActive</td>\n",
              "      <td>29.75</td>\n",
              "      <td>Success</td>\n",
              "    </tr>\n",
              "    <tr>\n",
              "      <th>2</th>\n",
              "      <td>2</td>\n",
              "      <td>2</td>\n",
              "      <td>SpaceX</td>\n",
              "      <td>Pad A, Boca Chica, Texas, USA</td>\n",
              "      <td>Tue Aug 04, 2020 23:57 UTC</td>\n",
              "      <td>Starship Prototype | 150 Meter Hop</td>\n",
              "      <td>StatusActive</td>\n",
              "      <td>NaN</td>\n",
              "      <td>Success</td>\n",
              "    </tr>\n",
              "    <tr>\n",
              "      <th>3</th>\n",
              "      <td>3</td>\n",
              "      <td>3</td>\n",
              "      <td>Roscosmos</td>\n",
              "      <td>Site 200/39, Baikonur Cosmodrome, Kazakhstan</td>\n",
              "      <td>Thu Jul 30, 2020 21:25 UTC</td>\n",
              "      <td>Proton-M/Briz-M | Ekspress-80 &amp; Ekspress-103</td>\n",
              "      <td>StatusActive</td>\n",
              "      <td>65.0</td>\n",
              "      <td>Success</td>\n",
              "    </tr>\n",
              "    <tr>\n",
              "      <th>4</th>\n",
              "      <td>4</td>\n",
              "      <td>4</td>\n",
              "      <td>ULA</td>\n",
              "      <td>SLC-41, Cape Canaveral AFS, Florida, USA</td>\n",
              "      <td>Thu Jul 30, 2020 11:50 UTC</td>\n",
              "      <td>Atlas V 541 | Perseverance</td>\n",
              "      <td>StatusActive</td>\n",
              "      <td>145.0</td>\n",
              "      <td>Success</td>\n",
              "    </tr>\n",
              "    <tr>\n",
              "      <th>...</th>\n",
              "      <td>...</td>\n",
              "      <td>...</td>\n",
              "      <td>...</td>\n",
              "      <td>...</td>\n",
              "      <td>...</td>\n",
              "      <td>...</td>\n",
              "      <td>...</td>\n",
              "      <td>...</td>\n",
              "      <td>...</td>\n",
              "    </tr>\n",
              "    <tr>\n",
              "      <th>4319</th>\n",
              "      <td>4319</td>\n",
              "      <td>4319</td>\n",
              "      <td>US Navy</td>\n",
              "      <td>LC-18A, Cape Canaveral AFS, Florida, USA</td>\n",
              "      <td>Wed Feb 05, 1958 07:33 UTC</td>\n",
              "      <td>Vanguard | Vanguard TV3BU</td>\n",
              "      <td>StatusRetired</td>\n",
              "      <td>NaN</td>\n",
              "      <td>Failure</td>\n",
              "    </tr>\n",
              "    <tr>\n",
              "      <th>4320</th>\n",
              "      <td>4320</td>\n",
              "      <td>4320</td>\n",
              "      <td>AMBA</td>\n",
              "      <td>LC-26A, Cape Canaveral AFS, Florida, USA</td>\n",
              "      <td>Sat Feb 01, 1958 03:48 UTC</td>\n",
              "      <td>Juno I | Explorer 1</td>\n",
              "      <td>StatusRetired</td>\n",
              "      <td>NaN</td>\n",
              "      <td>Success</td>\n",
              "    </tr>\n",
              "    <tr>\n",
              "      <th>4321</th>\n",
              "      <td>4321</td>\n",
              "      <td>4321</td>\n",
              "      <td>US Navy</td>\n",
              "      <td>LC-18A, Cape Canaveral AFS, Florida, USA</td>\n",
              "      <td>Fri Dec 06, 1957 16:44 UTC</td>\n",
              "      <td>Vanguard | Vanguard TV3</td>\n",
              "      <td>StatusRetired</td>\n",
              "      <td>NaN</td>\n",
              "      <td>Failure</td>\n",
              "    </tr>\n",
              "    <tr>\n",
              "      <th>4322</th>\n",
              "      <td>4322</td>\n",
              "      <td>4322</td>\n",
              "      <td>RVSN USSR</td>\n",
              "      <td>Site 1/5, Baikonur Cosmodrome, Kazakhstan</td>\n",
              "      <td>Sun Nov 03, 1957 02:30 UTC</td>\n",
              "      <td>Sputnik 8K71PS | Sputnik-2</td>\n",
              "      <td>StatusRetired</td>\n",
              "      <td>NaN</td>\n",
              "      <td>Success</td>\n",
              "    </tr>\n",
              "    <tr>\n",
              "      <th>4323</th>\n",
              "      <td>4323</td>\n",
              "      <td>4323</td>\n",
              "      <td>RVSN USSR</td>\n",
              "      <td>Site 1/5, Baikonur Cosmodrome, Kazakhstan</td>\n",
              "      <td>Fri Oct 04, 1957 19:28 UTC</td>\n",
              "      <td>Sputnik 8K71PS | Sputnik-1</td>\n",
              "      <td>StatusRetired</td>\n",
              "      <td>NaN</td>\n",
              "      <td>Success</td>\n",
              "    </tr>\n",
              "  </tbody>\n",
              "</table>\n",
              "<p>4324 rows × 9 columns</p>\n",
              "</div>"
            ],
            "text/plain": [
              "      Unnamed: 0.1  Unnamed: 0 Organisation  \\\n",
              "0                0           0       SpaceX   \n",
              "1                1           1         CASC   \n",
              "2                2           2       SpaceX   \n",
              "3                3           3    Roscosmos   \n",
              "4                4           4          ULA   \n",
              "...            ...         ...          ...   \n",
              "4319          4319        4319      US Navy   \n",
              "4320          4320        4320         AMBA   \n",
              "4321          4321        4321      US Navy   \n",
              "4322          4322        4322    RVSN USSR   \n",
              "4323          4323        4323    RVSN USSR   \n",
              "\n",
              "                                               Location  \\\n",
              "0            LC-39A, Kennedy Space Center, Florida, USA   \n",
              "1     Site 9401 (SLS-2), Jiuquan Satellite Launch Ce...   \n",
              "2                         Pad A, Boca Chica, Texas, USA   \n",
              "3          Site 200/39, Baikonur Cosmodrome, Kazakhstan   \n",
              "4              SLC-41, Cape Canaveral AFS, Florida, USA   \n",
              "...                                                 ...   \n",
              "4319           LC-18A, Cape Canaveral AFS, Florida, USA   \n",
              "4320           LC-26A, Cape Canaveral AFS, Florida, USA   \n",
              "4321           LC-18A, Cape Canaveral AFS, Florida, USA   \n",
              "4322          Site 1/5, Baikonur Cosmodrome, Kazakhstan   \n",
              "4323          Site 1/5, Baikonur Cosmodrome, Kazakhstan   \n",
              "\n",
              "                            Date  \\\n",
              "0     Fri Aug 07, 2020 05:12 UTC   \n",
              "1     Thu Aug 06, 2020 04:01 UTC   \n",
              "2     Tue Aug 04, 2020 23:57 UTC   \n",
              "3     Thu Jul 30, 2020 21:25 UTC   \n",
              "4     Thu Jul 30, 2020 11:50 UTC   \n",
              "...                          ...   \n",
              "4319  Wed Feb 05, 1958 07:33 UTC   \n",
              "4320  Sat Feb 01, 1958 03:48 UTC   \n",
              "4321  Fri Dec 06, 1957 16:44 UTC   \n",
              "4322  Sun Nov 03, 1957 02:30 UTC   \n",
              "4323  Fri Oct 04, 1957 19:28 UTC   \n",
              "\n",
              "                                            Detail  Rocket_Status  Price  \\\n",
              "0     Falcon 9 Block 5 | Starlink V1 L9 & BlackSky   StatusActive   50.0   \n",
              "1              Long March 2D | Gaofen-9 04 & Q-SAT   StatusActive  29.75   \n",
              "2               Starship Prototype | 150 Meter Hop   StatusActive    NaN   \n",
              "3     Proton-M/Briz-M | Ekspress-80 & Ekspress-103   StatusActive   65.0   \n",
              "4                       Atlas V 541 | Perseverance   StatusActive  145.0   \n",
              "...                                            ...            ...    ...   \n",
              "4319                     Vanguard | Vanguard TV3BU  StatusRetired    NaN   \n",
              "4320                           Juno I | Explorer 1  StatusRetired    NaN   \n",
              "4321                       Vanguard | Vanguard TV3  StatusRetired    NaN   \n",
              "4322                    Sputnik 8K71PS | Sputnik-2  StatusRetired    NaN   \n",
              "4323                    Sputnik 8K71PS | Sputnik-1  StatusRetired    NaN   \n",
              "\n",
              "     Mission_Status  \n",
              "0           Success  \n",
              "1           Success  \n",
              "2           Success  \n",
              "3           Success  \n",
              "4           Success  \n",
              "...             ...  \n",
              "4319        Failure  \n",
              "4320        Success  \n",
              "4321        Failure  \n",
              "4322        Success  \n",
              "4323        Success  \n",
              "\n",
              "[4324 rows x 9 columns]"
            ]
          },
          "execution_count": 94,
          "metadata": {},
          "output_type": "execute_result"
        }
      ],
      "source": [
        "df_data"
      ]
    },
    {
      "cell_type": "code",
      "execution_count": 95,
      "metadata": {
        "id": "0dw2hd9UlPmP"
      },
      "outputs": [
        {
          "name": "stdout",
          "output_type": "stream",
          "text": [
            "Tiene una forma de: (4324, 9)\n",
            "Columnas: 9, filas: 4324\n",
            "Nombre de las columnas: ['Unnamed: 0.1', 'Unnamed: 0', 'Organisation', 'Location', 'Date', 'Detail', 'Rocket_Status', 'Price', 'Mission_Status']\n",
            "Values NaN: True\n",
            "Values duplicated: False\n"
          ]
        }
      ],
      "source": [
        "print(f\"Tiene una forma de: {df_data.shape}\")\n",
        "print(f\"Columnas: {df_data.shape[1]}, filas: {df_data.shape[0]}\")\n",
        "print(f\"Nombre de las columnas: {list(df_data.columns)}\")\n",
        "print(f\"Values NaN: {df_data.isna().values.any()}\")\n",
        "print(f\"Values duplicated: {df_data.duplicated().any()}\")"
      ]
    },
    {
      "cell_type": "markdown",
      "metadata": {
        "id": "KUN30y6ja-p9",
        "papermill": {
          "duration": 0.05406,
          "end_time": "2020-10-20T21:34:04.149973",
          "exception": false,
          "start_time": "2020-10-20T21:34:04.095913",
          "status": "completed"
        },
        "tags": []
      },
      "source": [
        "## Data Cleaning - Check for Missing Values and Duplicates\n",
        "\n",
        "Consider removing columns containing junk data. "
      ]
    },
    {
      "cell_type": "code",
      "execution_count": 96,
      "metadata": {
        "id": "wWQvnJb0k2Ig"
      },
      "outputs": [],
      "source": [
        "df_data.drop(columns=['Unnamed: 0.1', 'Unnamed: 0'], inplace=True)"
      ]
    },
    {
      "cell_type": "code",
      "execution_count": 97,
      "metadata": {
        "id": "SfxVooCYk2As"
      },
      "outputs": [
        {
          "data": {
            "text/html": [
              "<div>\n",
              "<style scoped>\n",
              "    .dataframe tbody tr th:only-of-type {\n",
              "        vertical-align: middle;\n",
              "    }\n",
              "\n",
              "    .dataframe tbody tr th {\n",
              "        vertical-align: top;\n",
              "    }\n",
              "\n",
              "    .dataframe thead th {\n",
              "        text-align: right;\n",
              "    }\n",
              "</style>\n",
              "<table border=\"1\" class=\"dataframe\">\n",
              "  <thead>\n",
              "    <tr style=\"text-align: right;\">\n",
              "      <th></th>\n",
              "      <th>Organisation</th>\n",
              "      <th>Location</th>\n",
              "      <th>Date</th>\n",
              "      <th>Detail</th>\n",
              "      <th>Rocket_Status</th>\n",
              "      <th>Price</th>\n",
              "      <th>Mission_Status</th>\n",
              "    </tr>\n",
              "  </thead>\n",
              "  <tbody>\n",
              "    <tr>\n",
              "      <th>0</th>\n",
              "      <td>SpaceX</td>\n",
              "      <td>LC-39A, Kennedy Space Center, Florida, USA</td>\n",
              "      <td>Fri Aug 07, 2020 05:12 UTC</td>\n",
              "      <td>Falcon 9 Block 5 | Starlink V1 L9 &amp; BlackSky</td>\n",
              "      <td>StatusActive</td>\n",
              "      <td>50.0</td>\n",
              "      <td>Success</td>\n",
              "    </tr>\n",
              "    <tr>\n",
              "      <th>1</th>\n",
              "      <td>CASC</td>\n",
              "      <td>Site 9401 (SLS-2), Jiuquan Satellite Launch Ce...</td>\n",
              "      <td>Thu Aug 06, 2020 04:01 UTC</td>\n",
              "      <td>Long March 2D | Gaofen-9 04 &amp; Q-SAT</td>\n",
              "      <td>StatusActive</td>\n",
              "      <td>29.75</td>\n",
              "      <td>Success</td>\n",
              "    </tr>\n",
              "    <tr>\n",
              "      <th>2</th>\n",
              "      <td>SpaceX</td>\n",
              "      <td>Pad A, Boca Chica, Texas, USA</td>\n",
              "      <td>Tue Aug 04, 2020 23:57 UTC</td>\n",
              "      <td>Starship Prototype | 150 Meter Hop</td>\n",
              "      <td>StatusActive</td>\n",
              "      <td>NaN</td>\n",
              "      <td>Success</td>\n",
              "    </tr>\n",
              "    <tr>\n",
              "      <th>3</th>\n",
              "      <td>Roscosmos</td>\n",
              "      <td>Site 200/39, Baikonur Cosmodrome, Kazakhstan</td>\n",
              "      <td>Thu Jul 30, 2020 21:25 UTC</td>\n",
              "      <td>Proton-M/Briz-M | Ekspress-80 &amp; Ekspress-103</td>\n",
              "      <td>StatusActive</td>\n",
              "      <td>65.0</td>\n",
              "      <td>Success</td>\n",
              "    </tr>\n",
              "    <tr>\n",
              "      <th>4</th>\n",
              "      <td>ULA</td>\n",
              "      <td>SLC-41, Cape Canaveral AFS, Florida, USA</td>\n",
              "      <td>Thu Jul 30, 2020 11:50 UTC</td>\n",
              "      <td>Atlas V 541 | Perseverance</td>\n",
              "      <td>StatusActive</td>\n",
              "      <td>145.0</td>\n",
              "      <td>Success</td>\n",
              "    </tr>\n",
              "  </tbody>\n",
              "</table>\n",
              "</div>"
            ],
            "text/plain": [
              "  Organisation                                           Location  \\\n",
              "0       SpaceX         LC-39A, Kennedy Space Center, Florida, USA   \n",
              "1         CASC  Site 9401 (SLS-2), Jiuquan Satellite Launch Ce...   \n",
              "2       SpaceX                      Pad A, Boca Chica, Texas, USA   \n",
              "3    Roscosmos       Site 200/39, Baikonur Cosmodrome, Kazakhstan   \n",
              "4          ULA           SLC-41, Cape Canaveral AFS, Florida, USA   \n",
              "\n",
              "                         Date                                        Detail  \\\n",
              "0  Fri Aug 07, 2020 05:12 UTC  Falcon 9 Block 5 | Starlink V1 L9 & BlackSky   \n",
              "1  Thu Aug 06, 2020 04:01 UTC           Long March 2D | Gaofen-9 04 & Q-SAT   \n",
              "2  Tue Aug 04, 2020 23:57 UTC            Starship Prototype | 150 Meter Hop   \n",
              "3  Thu Jul 30, 2020 21:25 UTC  Proton-M/Briz-M | Ekspress-80 & Ekspress-103   \n",
              "4  Thu Jul 30, 2020 11:50 UTC                    Atlas V 541 | Perseverance   \n",
              "\n",
              "  Rocket_Status  Price Mission_Status  \n",
              "0  StatusActive   50.0        Success  \n",
              "1  StatusActive  29.75        Success  \n",
              "2  StatusActive    NaN        Success  \n",
              "3  StatusActive   65.0        Success  \n",
              "4  StatusActive  145.0        Success  "
            ]
          },
          "execution_count": 97,
          "metadata": {},
          "output_type": "execute_result"
        }
      ],
      "source": [
        "df_data.head()"
      ]
    },
    {
      "cell_type": "code",
      "execution_count": 99,
      "metadata": {},
      "outputs": [],
      "source": [
        "index_of_nan = df_data[df_data['Price'].isna()].index"
      ]
    },
    {
      "cell_type": "code",
      "execution_count": 100,
      "metadata": {},
      "outputs": [],
      "source": [
        "df_data.drop(index=index_of_nan, axis=0, inplace=True)"
      ]
    },
    {
      "cell_type": "code",
      "execution_count": 101,
      "metadata": {},
      "outputs": [
        {
          "data": {
            "text/html": [
              "<div>\n",
              "<style scoped>\n",
              "    .dataframe tbody tr th:only-of-type {\n",
              "        vertical-align: middle;\n",
              "    }\n",
              "\n",
              "    .dataframe tbody tr th {\n",
              "        vertical-align: top;\n",
              "    }\n",
              "\n",
              "    .dataframe thead th {\n",
              "        text-align: right;\n",
              "    }\n",
              "</style>\n",
              "<table border=\"1\" class=\"dataframe\">\n",
              "  <thead>\n",
              "    <tr style=\"text-align: right;\">\n",
              "      <th></th>\n",
              "      <th>Organisation</th>\n",
              "      <th>Location</th>\n",
              "      <th>Date</th>\n",
              "      <th>Detail</th>\n",
              "      <th>Rocket_Status</th>\n",
              "      <th>Price</th>\n",
              "      <th>Mission_Status</th>\n",
              "    </tr>\n",
              "  </thead>\n",
              "  <tbody>\n",
              "    <tr>\n",
              "      <th>0</th>\n",
              "      <td>SpaceX</td>\n",
              "      <td>LC-39A, Kennedy Space Center, Florida, USA</td>\n",
              "      <td>Fri Aug 07, 2020 05:12 UTC</td>\n",
              "      <td>Falcon 9 Block 5 | Starlink V1 L9 &amp; BlackSky</td>\n",
              "      <td>StatusActive</td>\n",
              "      <td>50.0</td>\n",
              "      <td>Success</td>\n",
              "    </tr>\n",
              "    <tr>\n",
              "      <th>1</th>\n",
              "      <td>CASC</td>\n",
              "      <td>Site 9401 (SLS-2), Jiuquan Satellite Launch Ce...</td>\n",
              "      <td>Thu Aug 06, 2020 04:01 UTC</td>\n",
              "      <td>Long March 2D | Gaofen-9 04 &amp; Q-SAT</td>\n",
              "      <td>StatusActive</td>\n",
              "      <td>29.75</td>\n",
              "      <td>Success</td>\n",
              "    </tr>\n",
              "    <tr>\n",
              "      <th>3</th>\n",
              "      <td>Roscosmos</td>\n",
              "      <td>Site 200/39, Baikonur Cosmodrome, Kazakhstan</td>\n",
              "      <td>Thu Jul 30, 2020 21:25 UTC</td>\n",
              "      <td>Proton-M/Briz-M | Ekspress-80 &amp; Ekspress-103</td>\n",
              "      <td>StatusActive</td>\n",
              "      <td>65.0</td>\n",
              "      <td>Success</td>\n",
              "    </tr>\n",
              "    <tr>\n",
              "      <th>4</th>\n",
              "      <td>ULA</td>\n",
              "      <td>SLC-41, Cape Canaveral AFS, Florida, USA</td>\n",
              "      <td>Thu Jul 30, 2020 11:50 UTC</td>\n",
              "      <td>Atlas V 541 | Perseverance</td>\n",
              "      <td>StatusActive</td>\n",
              "      <td>145.0</td>\n",
              "      <td>Success</td>\n",
              "    </tr>\n",
              "    <tr>\n",
              "      <th>5</th>\n",
              "      <td>CASC</td>\n",
              "      <td>LC-9, Taiyuan Satellite Launch Center, China</td>\n",
              "      <td>Sat Jul 25, 2020 03:13 UTC</td>\n",
              "      <td>Long March 4B | Ziyuan-3 03, Apocalypse-10 &amp; N...</td>\n",
              "      <td>StatusActive</td>\n",
              "      <td>64.68</td>\n",
              "      <td>Success</td>\n",
              "    </tr>\n",
              "  </tbody>\n",
              "</table>\n",
              "</div>"
            ],
            "text/plain": [
              "  Organisation                                           Location  \\\n",
              "0       SpaceX         LC-39A, Kennedy Space Center, Florida, USA   \n",
              "1         CASC  Site 9401 (SLS-2), Jiuquan Satellite Launch Ce...   \n",
              "3    Roscosmos       Site 200/39, Baikonur Cosmodrome, Kazakhstan   \n",
              "4          ULA           SLC-41, Cape Canaveral AFS, Florida, USA   \n",
              "5         CASC       LC-9, Taiyuan Satellite Launch Center, China   \n",
              "\n",
              "                         Date  \\\n",
              "0  Fri Aug 07, 2020 05:12 UTC   \n",
              "1  Thu Aug 06, 2020 04:01 UTC   \n",
              "3  Thu Jul 30, 2020 21:25 UTC   \n",
              "4  Thu Jul 30, 2020 11:50 UTC   \n",
              "5  Sat Jul 25, 2020 03:13 UTC   \n",
              "\n",
              "                                              Detail Rocket_Status  Price  \\\n",
              "0       Falcon 9 Block 5 | Starlink V1 L9 & BlackSky  StatusActive   50.0   \n",
              "1                Long March 2D | Gaofen-9 04 & Q-SAT  StatusActive  29.75   \n",
              "3       Proton-M/Briz-M | Ekspress-80 & Ekspress-103  StatusActive   65.0   \n",
              "4                         Atlas V 541 | Perseverance  StatusActive  145.0   \n",
              "5  Long March 4B | Ziyuan-3 03, Apocalypse-10 & N...  StatusActive  64.68   \n",
              "\n",
              "  Mission_Status  \n",
              "0        Success  \n",
              "1        Success  \n",
              "3        Success  \n",
              "4        Success  \n",
              "5        Success  "
            ]
          },
          "execution_count": 101,
          "metadata": {},
          "output_type": "execute_result"
        }
      ],
      "source": [
        "df_data.head()"
      ]
    },
    {
      "cell_type": "code",
      "execution_count": 102,
      "metadata": {},
      "outputs": [],
      "source": [
        "# Convert 'Price' column to numeric, coerce errors to NaN\n",
        "df_data['Price'] = pd.to_numeric(df_data['Price'], errors='coerce')"
      ]
    },
    {
      "cell_type": "code",
      "execution_count": 103,
      "metadata": {},
      "outputs": [],
      "source": [
        "# df_data.groupby('Organisation').agg({\"Price\":\"mean\"})\n",
        "df_data['Price'] = df_data.groupby('Organisation')['Price'].transform(lambda x: x.fillna(x.mean()))"
      ]
    },
    {
      "cell_type": "code",
      "execution_count": 104,
      "metadata": {},
      "outputs": [
        {
          "data": {
            "text/html": [
              "<div>\n",
              "<style scoped>\n",
              "    .dataframe tbody tr th:only-of-type {\n",
              "        vertical-align: middle;\n",
              "    }\n",
              "\n",
              "    .dataframe tbody tr th {\n",
              "        vertical-align: top;\n",
              "    }\n",
              "\n",
              "    .dataframe thead th {\n",
              "        text-align: right;\n",
              "    }\n",
              "</style>\n",
              "<table border=\"1\" class=\"dataframe\">\n",
              "  <thead>\n",
              "    <tr style=\"text-align: right;\">\n",
              "      <th></th>\n",
              "      <th>Organisation</th>\n",
              "      <th>Location</th>\n",
              "      <th>Date</th>\n",
              "      <th>Detail</th>\n",
              "      <th>Rocket_Status</th>\n",
              "      <th>Price</th>\n",
              "      <th>Mission_Status</th>\n",
              "    </tr>\n",
              "  </thead>\n",
              "  <tbody>\n",
              "    <tr>\n",
              "      <th>1916</th>\n",
              "      <td>RVSN USSR</td>\n",
              "      <td>Site 110/37, Baikonur Cosmodrome, Kazakhstan</td>\n",
              "      <td>Tue Nov 15, 1988 03:00 UTC</td>\n",
              "      <td>Energiya/Buran | Buran</td>\n",
              "      <td>StatusRetired</td>\n",
              "      <td>NaN</td>\n",
              "      <td>Success</td>\n",
              "    </tr>\n",
              "    <tr>\n",
              "      <th>2000</th>\n",
              "      <td>RVSN USSR</td>\n",
              "      <td>Site 250, Baikonur Cosmodrome, Kazakhstan</td>\n",
              "      <td>Fri May 15, 1987 17:30 UTC</td>\n",
              "      <td>Energiya/Polyus | Polyus Space Station</td>\n",
              "      <td>StatusRetired</td>\n",
              "      <td>NaN</td>\n",
              "      <td>Success</td>\n",
              "    </tr>\n",
              "  </tbody>\n",
              "</table>\n",
              "</div>"
            ],
            "text/plain": [
              "     Organisation                                      Location  \\\n",
              "1916    RVSN USSR  Site 110/37, Baikonur Cosmodrome, Kazakhstan   \n",
              "2000    RVSN USSR     Site 250, Baikonur Cosmodrome, Kazakhstan   \n",
              "\n",
              "                            Date                                  Detail  \\\n",
              "1916  Tue Nov 15, 1988 03:00 UTC                  Energiya/Buran | Buran   \n",
              "2000  Fri May 15, 1987 17:30 UTC  Energiya/Polyus | Polyus Space Station   \n",
              "\n",
              "      Rocket_Status  Price Mission_Status  \n",
              "1916  StatusRetired    NaN        Success  \n",
              "2000  StatusRetired    NaN        Success  "
            ]
          },
          "execution_count": 104,
          "metadata": {},
          "output_type": "execute_result"
        }
      ],
      "source": [
        "\n",
        "df_data[df_data[\"Price\"].isna()]"
      ]
    },
    {
      "cell_type": "code",
      "execution_count": 105,
      "metadata": {},
      "outputs": [],
      "source": [
        "df_data.drop(index=df_data[df_data[\"Price\"].isna()].index, inplace=True)"
      ]
    },
    {
      "cell_type": "code",
      "execution_count": 106,
      "metadata": {},
      "outputs": [
        {
          "data": {
            "text/html": [
              "<div>\n",
              "<style scoped>\n",
              "    .dataframe tbody tr th:only-of-type {\n",
              "        vertical-align: middle;\n",
              "    }\n",
              "\n",
              "    .dataframe tbody tr th {\n",
              "        vertical-align: top;\n",
              "    }\n",
              "\n",
              "    .dataframe thead th {\n",
              "        text-align: right;\n",
              "    }\n",
              "</style>\n",
              "<table border=\"1\" class=\"dataframe\">\n",
              "  <thead>\n",
              "    <tr style=\"text-align: right;\">\n",
              "      <th></th>\n",
              "      <th>Organisation</th>\n",
              "      <th>Location</th>\n",
              "      <th>Date</th>\n",
              "      <th>Detail</th>\n",
              "      <th>Rocket_Status</th>\n",
              "      <th>Price</th>\n",
              "      <th>Mission_Status</th>\n",
              "    </tr>\n",
              "  </thead>\n",
              "  <tbody>\n",
              "    <tr>\n",
              "      <th>0</th>\n",
              "      <td>SpaceX</td>\n",
              "      <td>LC-39A, Kennedy Space Center, Florida, USA</td>\n",
              "      <td>Fri Aug 07, 2020 05:12 UTC</td>\n",
              "      <td>Falcon 9 Block 5 | Starlink V1 L9 &amp; BlackSky</td>\n",
              "      <td>StatusActive</td>\n",
              "      <td>50.00</td>\n",
              "      <td>Success</td>\n",
              "    </tr>\n",
              "    <tr>\n",
              "      <th>1</th>\n",
              "      <td>CASC</td>\n",
              "      <td>Site 9401 (SLS-2), Jiuquan Satellite Launch Ce...</td>\n",
              "      <td>Thu Aug 06, 2020 04:01 UTC</td>\n",
              "      <td>Long March 2D | Gaofen-9 04 &amp; Q-SAT</td>\n",
              "      <td>StatusActive</td>\n",
              "      <td>29.75</td>\n",
              "      <td>Success</td>\n",
              "    </tr>\n",
              "    <tr>\n",
              "      <th>3</th>\n",
              "      <td>Roscosmos</td>\n",
              "      <td>Site 200/39, Baikonur Cosmodrome, Kazakhstan</td>\n",
              "      <td>Thu Jul 30, 2020 21:25 UTC</td>\n",
              "      <td>Proton-M/Briz-M | Ekspress-80 &amp; Ekspress-103</td>\n",
              "      <td>StatusActive</td>\n",
              "      <td>65.00</td>\n",
              "      <td>Success</td>\n",
              "    </tr>\n",
              "    <tr>\n",
              "      <th>4</th>\n",
              "      <td>ULA</td>\n",
              "      <td>SLC-41, Cape Canaveral AFS, Florida, USA</td>\n",
              "      <td>Thu Jul 30, 2020 11:50 UTC</td>\n",
              "      <td>Atlas V 541 | Perseverance</td>\n",
              "      <td>StatusActive</td>\n",
              "      <td>145.00</td>\n",
              "      <td>Success</td>\n",
              "    </tr>\n",
              "    <tr>\n",
              "      <th>5</th>\n",
              "      <td>CASC</td>\n",
              "      <td>LC-9, Taiyuan Satellite Launch Center, China</td>\n",
              "      <td>Sat Jul 25, 2020 03:13 UTC</td>\n",
              "      <td>Long March 4B | Ziyuan-3 03, Apocalypse-10 &amp; N...</td>\n",
              "      <td>StatusActive</td>\n",
              "      <td>64.68</td>\n",
              "      <td>Success</td>\n",
              "    </tr>\n",
              "  </tbody>\n",
              "</table>\n",
              "</div>"
            ],
            "text/plain": [
              "  Organisation                                           Location  \\\n",
              "0       SpaceX         LC-39A, Kennedy Space Center, Florida, USA   \n",
              "1         CASC  Site 9401 (SLS-2), Jiuquan Satellite Launch Ce...   \n",
              "3    Roscosmos       Site 200/39, Baikonur Cosmodrome, Kazakhstan   \n",
              "4          ULA           SLC-41, Cape Canaveral AFS, Florida, USA   \n",
              "5         CASC       LC-9, Taiyuan Satellite Launch Center, China   \n",
              "\n",
              "                         Date  \\\n",
              "0  Fri Aug 07, 2020 05:12 UTC   \n",
              "1  Thu Aug 06, 2020 04:01 UTC   \n",
              "3  Thu Jul 30, 2020 21:25 UTC   \n",
              "4  Thu Jul 30, 2020 11:50 UTC   \n",
              "5  Sat Jul 25, 2020 03:13 UTC   \n",
              "\n",
              "                                              Detail Rocket_Status  Price  \\\n",
              "0       Falcon 9 Block 5 | Starlink V1 L9 & BlackSky  StatusActive  50.00   \n",
              "1                Long March 2D | Gaofen-9 04 & Q-SAT  StatusActive  29.75   \n",
              "3       Proton-M/Briz-M | Ekspress-80 & Ekspress-103  StatusActive  65.00   \n",
              "4                         Atlas V 541 | Perseverance  StatusActive 145.00   \n",
              "5  Long March 4B | Ziyuan-3 03, Apocalypse-10 & N...  StatusActive  64.68   \n",
              "\n",
              "  Mission_Status  \n",
              "0        Success  \n",
              "1        Success  \n",
              "3        Success  \n",
              "4        Success  \n",
              "5        Success  "
            ]
          },
          "execution_count": 106,
          "metadata": {},
          "output_type": "execute_result"
        }
      ],
      "source": [
        "df_data.head()"
      ]
    },
    {
      "cell_type": "markdown",
      "metadata": {
        "id": "QHon_T5sa-p_",
        "papermill": {
          "duration": 0.036712,
          "end_time": "2020-10-20T21:34:05.227032",
          "exception": false,
          "start_time": "2020-10-20T21:34:05.190320",
          "status": "completed"
        },
        "tags": []
      },
      "source": [
        "## Descriptive Statistics"
      ]
    },
    {
      "cell_type": "code",
      "execution_count": 107,
      "metadata": {
        "id": "Fh1-libjkJIK"
      },
      "outputs": [
        {
          "data": {
            "text/html": [
              "<div>\n",
              "<style scoped>\n",
              "    .dataframe tbody tr th:only-of-type {\n",
              "        vertical-align: middle;\n",
              "    }\n",
              "\n",
              "    .dataframe tbody tr th {\n",
              "        vertical-align: top;\n",
              "    }\n",
              "\n",
              "    .dataframe thead th {\n",
              "        text-align: right;\n",
              "    }\n",
              "</style>\n",
              "<table border=\"1\" class=\"dataframe\">\n",
              "  <thead>\n",
              "    <tr style=\"text-align: right;\">\n",
              "      <th></th>\n",
              "      <th>Price</th>\n",
              "    </tr>\n",
              "  </thead>\n",
              "  <tbody>\n",
              "    <tr>\n",
              "      <th>count</th>\n",
              "      <td>962.00</td>\n",
              "    </tr>\n",
              "    <tr>\n",
              "      <th>mean</th>\n",
              "      <td>134.12</td>\n",
              "    </tr>\n",
              "    <tr>\n",
              "      <th>std</th>\n",
              "      <td>146.98</td>\n",
              "    </tr>\n",
              "    <tr>\n",
              "      <th>min</th>\n",
              "      <td>5.30</td>\n",
              "    </tr>\n",
              "    <tr>\n",
              "      <th>25%</th>\n",
              "      <td>40.00</td>\n",
              "    </tr>\n",
              "    <tr>\n",
              "      <th>50%</th>\n",
              "      <td>62.00</td>\n",
              "    </tr>\n",
              "    <tr>\n",
              "      <th>75%</th>\n",
              "      <td>164.00</td>\n",
              "    </tr>\n",
              "    <tr>\n",
              "      <th>max</th>\n",
              "      <td>450.00</td>\n",
              "    </tr>\n",
              "  </tbody>\n",
              "</table>\n",
              "</div>"
            ],
            "text/plain": [
              "       Price\n",
              "count 962.00\n",
              "mean  134.12\n",
              "std   146.98\n",
              "min     5.30\n",
              "25%    40.00\n",
              "50%    62.00\n",
              "75%   164.00\n",
              "max   450.00"
            ]
          },
          "execution_count": 107,
          "metadata": {},
          "output_type": "execute_result"
        }
      ],
      "source": [
        "df_data.describe()"
      ]
    },
    {
      "cell_type": "code",
      "execution_count": null,
      "metadata": {
        "id": "dGZa5HdbkJBT"
      },
      "outputs": [],
      "source": []
    },
    {
      "cell_type": "markdown",
      "metadata": {
        "id": "cgCjcpeUkKPW"
      },
      "source": [
        "# Number of Launches per Company\n",
        "\n",
        "Create a chart that shows the number of space mission launches by organisation."
      ]
    },
    {
      "cell_type": "code",
      "execution_count": 108,
      "metadata": {
        "id": "rxvcIrtskxYB"
      },
      "outputs": [
        {
          "data": {
            "text/html": [
              "<div>\n",
              "<style scoped>\n",
              "    .dataframe tbody tr th:only-of-type {\n",
              "        vertical-align: middle;\n",
              "    }\n",
              "\n",
              "    .dataframe tbody tr th {\n",
              "        vertical-align: top;\n",
              "    }\n",
              "\n",
              "    .dataframe thead th {\n",
              "        text-align: right;\n",
              "    }\n",
              "</style>\n",
              "<table border=\"1\" class=\"dataframe\">\n",
              "  <thead>\n",
              "    <tr style=\"text-align: right;\">\n",
              "      <th></th>\n",
              "      <th>Organisation</th>\n",
              "      <th>Location</th>\n",
              "      <th>Date</th>\n",
              "      <th>Detail</th>\n",
              "      <th>Rocket_Status</th>\n",
              "      <th>Price</th>\n",
              "      <th>Mission_Status</th>\n",
              "    </tr>\n",
              "  </thead>\n",
              "  <tbody>\n",
              "    <tr>\n",
              "      <th>0</th>\n",
              "      <td>SpaceX</td>\n",
              "      <td>LC-39A, Kennedy Space Center, Florida, USA</td>\n",
              "      <td>Fri Aug 07, 2020 05:12 UTC</td>\n",
              "      <td>Falcon 9 Block 5 | Starlink V1 L9 &amp; BlackSky</td>\n",
              "      <td>StatusActive</td>\n",
              "      <td>50.00</td>\n",
              "      <td>Success</td>\n",
              "    </tr>\n",
              "    <tr>\n",
              "      <th>1</th>\n",
              "      <td>CASC</td>\n",
              "      <td>Site 9401 (SLS-2), Jiuquan Satellite Launch Ce...</td>\n",
              "      <td>Thu Aug 06, 2020 04:01 UTC</td>\n",
              "      <td>Long March 2D | Gaofen-9 04 &amp; Q-SAT</td>\n",
              "      <td>StatusActive</td>\n",
              "      <td>29.75</td>\n",
              "      <td>Success</td>\n",
              "    </tr>\n",
              "    <tr>\n",
              "      <th>3</th>\n",
              "      <td>Roscosmos</td>\n",
              "      <td>Site 200/39, Baikonur Cosmodrome, Kazakhstan</td>\n",
              "      <td>Thu Jul 30, 2020 21:25 UTC</td>\n",
              "      <td>Proton-M/Briz-M | Ekspress-80 &amp; Ekspress-103</td>\n",
              "      <td>StatusActive</td>\n",
              "      <td>65.00</td>\n",
              "      <td>Success</td>\n",
              "    </tr>\n",
              "    <tr>\n",
              "      <th>4</th>\n",
              "      <td>ULA</td>\n",
              "      <td>SLC-41, Cape Canaveral AFS, Florida, USA</td>\n",
              "      <td>Thu Jul 30, 2020 11:50 UTC</td>\n",
              "      <td>Atlas V 541 | Perseverance</td>\n",
              "      <td>StatusActive</td>\n",
              "      <td>145.00</td>\n",
              "      <td>Success</td>\n",
              "    </tr>\n",
              "    <tr>\n",
              "      <th>5</th>\n",
              "      <td>CASC</td>\n",
              "      <td>LC-9, Taiyuan Satellite Launch Center, China</td>\n",
              "      <td>Sat Jul 25, 2020 03:13 UTC</td>\n",
              "      <td>Long March 4B | Ziyuan-3 03, Apocalypse-10 &amp; N...</td>\n",
              "      <td>StatusActive</td>\n",
              "      <td>64.68</td>\n",
              "      <td>Success</td>\n",
              "    </tr>\n",
              "  </tbody>\n",
              "</table>\n",
              "</div>"
            ],
            "text/plain": [
              "  Organisation                                           Location  \\\n",
              "0       SpaceX         LC-39A, Kennedy Space Center, Florida, USA   \n",
              "1         CASC  Site 9401 (SLS-2), Jiuquan Satellite Launch Ce...   \n",
              "3    Roscosmos       Site 200/39, Baikonur Cosmodrome, Kazakhstan   \n",
              "4          ULA           SLC-41, Cape Canaveral AFS, Florida, USA   \n",
              "5         CASC       LC-9, Taiyuan Satellite Launch Center, China   \n",
              "\n",
              "                         Date  \\\n",
              "0  Fri Aug 07, 2020 05:12 UTC   \n",
              "1  Thu Aug 06, 2020 04:01 UTC   \n",
              "3  Thu Jul 30, 2020 21:25 UTC   \n",
              "4  Thu Jul 30, 2020 11:50 UTC   \n",
              "5  Sat Jul 25, 2020 03:13 UTC   \n",
              "\n",
              "                                              Detail Rocket_Status  Price  \\\n",
              "0       Falcon 9 Block 5 | Starlink V1 L9 & BlackSky  StatusActive  50.00   \n",
              "1                Long March 2D | Gaofen-9 04 & Q-SAT  StatusActive  29.75   \n",
              "3       Proton-M/Briz-M | Ekspress-80 & Ekspress-103  StatusActive  65.00   \n",
              "4                         Atlas V 541 | Perseverance  StatusActive 145.00   \n",
              "5  Long March 4B | Ziyuan-3 03, Apocalypse-10 & N...  StatusActive  64.68   \n",
              "\n",
              "  Mission_Status  \n",
              "0        Success  \n",
              "1        Success  \n",
              "3        Success  \n",
              "4        Success  \n",
              "5        Success  "
            ]
          },
          "execution_count": 108,
          "metadata": {},
          "output_type": "execute_result"
        }
      ],
      "source": [
        "df_data.head()"
      ]
    },
    {
      "cell_type": "code",
      "execution_count": 109,
      "metadata": {
        "id": "qgneHUbWkw5v"
      },
      "outputs": [],
      "source": [
        "number_launches_per_company = df_data.groupby('Organisation').size().reset_index(name='count')\n"
      ]
    },
    {
      "cell_type": "code",
      "execution_count": 110,
      "metadata": {},
      "outputs": [
        {
          "data": {
            "text/html": [
              "<div>\n",
              "<style scoped>\n",
              "    .dataframe tbody tr th:only-of-type {\n",
              "        vertical-align: middle;\n",
              "    }\n",
              "\n",
              "    .dataframe tbody tr th {\n",
              "        vertical-align: top;\n",
              "    }\n",
              "\n",
              "    .dataframe thead th {\n",
              "        text-align: right;\n",
              "    }\n",
              "</style>\n",
              "<table border=\"1\" class=\"dataframe\">\n",
              "  <thead>\n",
              "    <tr style=\"text-align: right;\">\n",
              "      <th></th>\n",
              "      <th>Organisation</th>\n",
              "      <th>count</th>\n",
              "    </tr>\n",
              "  </thead>\n",
              "  <tbody>\n",
              "    <tr>\n",
              "      <th>0</th>\n",
              "      <td>Arianespace</td>\n",
              "      <td>96</td>\n",
              "    </tr>\n",
              "    <tr>\n",
              "      <th>1</th>\n",
              "      <td>Boeing</td>\n",
              "      <td>7</td>\n",
              "    </tr>\n",
              "    <tr>\n",
              "      <th>2</th>\n",
              "      <td>CASC</td>\n",
              "      <td>158</td>\n",
              "    </tr>\n",
              "    <tr>\n",
              "      <th>3</th>\n",
              "      <td>EER</td>\n",
              "      <td>1</td>\n",
              "    </tr>\n",
              "    <tr>\n",
              "      <th>4</th>\n",
              "      <td>ESA</td>\n",
              "      <td>1</td>\n",
              "    </tr>\n",
              "    <tr>\n",
              "      <th>5</th>\n",
              "      <td>Eurockot</td>\n",
              "      <td>13</td>\n",
              "    </tr>\n",
              "    <tr>\n",
              "      <th>6</th>\n",
              "      <td>ExPace</td>\n",
              "      <td>1</td>\n",
              "    </tr>\n",
              "    <tr>\n",
              "      <th>7</th>\n",
              "      <td>ILS</td>\n",
              "      <td>13</td>\n",
              "    </tr>\n",
              "    <tr>\n",
              "      <th>8</th>\n",
              "      <td>ISRO</td>\n",
              "      <td>67</td>\n",
              "    </tr>\n",
              "    <tr>\n",
              "      <th>9</th>\n",
              "      <td>JAXA</td>\n",
              "      <td>3</td>\n",
              "    </tr>\n",
              "    <tr>\n",
              "      <th>10</th>\n",
              "      <td>Kosmotras</td>\n",
              "      <td>22</td>\n",
              "    </tr>\n",
              "    <tr>\n",
              "      <th>11</th>\n",
              "      <td>Lockheed</td>\n",
              "      <td>8</td>\n",
              "    </tr>\n",
              "    <tr>\n",
              "      <th>12</th>\n",
              "      <td>MHI</td>\n",
              "      <td>37</td>\n",
              "    </tr>\n",
              "    <tr>\n",
              "      <th>13</th>\n",
              "      <td>Martin Marietta</td>\n",
              "      <td>9</td>\n",
              "    </tr>\n",
              "    <tr>\n",
              "      <th>14</th>\n",
              "      <td>NASA</td>\n",
              "      <td>149</td>\n",
              "    </tr>\n",
              "    <tr>\n",
              "      <th>15</th>\n",
              "      <td>Northrop</td>\n",
              "      <td>83</td>\n",
              "    </tr>\n",
              "    <tr>\n",
              "      <th>16</th>\n",
              "      <td>Rocket Lab</td>\n",
              "      <td>13</td>\n",
              "    </tr>\n",
              "    <tr>\n",
              "      <th>17</th>\n",
              "      <td>Roscosmos</td>\n",
              "      <td>23</td>\n",
              "    </tr>\n",
              "    <tr>\n",
              "      <th>18</th>\n",
              "      <td>Sandia</td>\n",
              "      <td>1</td>\n",
              "    </tr>\n",
              "    <tr>\n",
              "      <th>19</th>\n",
              "      <td>SpaceX</td>\n",
              "      <td>99</td>\n",
              "    </tr>\n",
              "    <tr>\n",
              "      <th>20</th>\n",
              "      <td>ULA</td>\n",
              "      <td>98</td>\n",
              "    </tr>\n",
              "    <tr>\n",
              "      <th>21</th>\n",
              "      <td>US Air Force</td>\n",
              "      <td>26</td>\n",
              "    </tr>\n",
              "    <tr>\n",
              "      <th>22</th>\n",
              "      <td>VKS RF</td>\n",
              "      <td>33</td>\n",
              "    </tr>\n",
              "    <tr>\n",
              "      <th>23</th>\n",
              "      <td>Virgin Orbit</td>\n",
              "      <td>1</td>\n",
              "    </tr>\n",
              "  </tbody>\n",
              "</table>\n",
              "</div>"
            ],
            "text/plain": [
              "       Organisation  count\n",
              "0       Arianespace     96\n",
              "1            Boeing      7\n",
              "2              CASC    158\n",
              "3               EER      1\n",
              "4               ESA      1\n",
              "5          Eurockot     13\n",
              "6            ExPace      1\n",
              "7               ILS     13\n",
              "8              ISRO     67\n",
              "9              JAXA      3\n",
              "10        Kosmotras     22\n",
              "11         Lockheed      8\n",
              "12              MHI     37\n",
              "13  Martin Marietta      9\n",
              "14             NASA    149\n",
              "15         Northrop     83\n",
              "16       Rocket Lab     13\n",
              "17        Roscosmos     23\n",
              "18           Sandia      1\n",
              "19           SpaceX     99\n",
              "20              ULA     98\n",
              "21     US Air Force     26\n",
              "22           VKS RF     33\n",
              "23     Virgin Orbit      1"
            ]
          },
          "execution_count": 110,
          "metadata": {},
          "output_type": "execute_result"
        }
      ],
      "source": [
        "number_launches_per_company"
      ]
    },
    {
      "cell_type": "code",
      "execution_count": 116,
      "metadata": {},
      "outputs": [
        {
          "data": {
            "image/png": "[encoded data removed]",
            "text/plain": [
              "<Figure size 1400x800 with 1 Axes>"
            ]
          },
          "metadata": {},
          "output_type": "display_data"
        }
      ],
      "source": [
        "fig, ax = plt.subplots(figsize=(14,8))\n",
        "\n",
        "plt.barh(data=number_launches_per_company.sort_values('count'), y='Organisation', width='count')\n",
        "\n",
        "plt.title(\"Number of Launches per Company\", fontsize=15)\n",
        "plt.xlabel(\"Counts\" , fontsize=12)\n",
        "plt.ylabel(\"Organisation\" , fontsize=12)\n",
        "\n",
        "plt.show()"
      ]
    },
    {
      "cell_type": "markdown",
      "metadata": {
        "id": "7Gwteht2kR_h"
      },
      "source": [
        "# Number of Active versus Retired Rockets\n",
        "\n",
        "How many rockets are active compared to those that are decomissioned? "
      ]
    },
    {
      "cell_type": "code",
      "execution_count": 117,
      "metadata": {
        "id": "SxmOWS9cmTq6"
      },
      "outputs": [
        {
          "data": {
            "text/html": [
              "<div>\n",
              "<style scoped>\n",
              "    .dataframe tbody tr th:only-of-type {\n",
              "        vertical-align: middle;\n",
              "    }\n",
              "\n",
              "    .dataframe tbody tr th {\n",
              "        vertical-align: top;\n",
              "    }\n",
              "\n",
              "    .dataframe thead th {\n",
              "        text-align: right;\n",
              "    }\n",
              "</style>\n",
              "<table border=\"1\" class=\"dataframe\">\n",
              "  <thead>\n",
              "    <tr style=\"text-align: right;\">\n",
              "      <th></th>\n",
              "      <th>Organisation</th>\n",
              "      <th>Location</th>\n",
              "      <th>Date</th>\n",
              "      <th>Detail</th>\n",
              "      <th>Rocket_Status</th>\n",
              "      <th>Price</th>\n",
              "      <th>Mission_Status</th>\n",
              "    </tr>\n",
              "  </thead>\n",
              "  <tbody>\n",
              "    <tr>\n",
              "      <th>0</th>\n",
              "      <td>SpaceX</td>\n",
              "      <td>LC-39A, Kennedy Space Center, Florida, USA</td>\n",
              "      <td>Fri Aug 07, 2020 05:12 UTC</td>\n",
              "      <td>Falcon 9 Block 5 | Starlink V1 L9 &amp; BlackSky</td>\n",
              "      <td>StatusActive</td>\n",
              "      <td>50.00</td>\n",
              "      <td>Success</td>\n",
              "    </tr>\n",
              "    <tr>\n",
              "      <th>1</th>\n",
              "      <td>CASC</td>\n",
              "      <td>Site 9401 (SLS-2), Jiuquan Satellite Launch Ce...</td>\n",
              "      <td>Thu Aug 06, 2020 04:01 UTC</td>\n",
              "      <td>Long March 2D | Gaofen-9 04 &amp; Q-SAT</td>\n",
              "      <td>StatusActive</td>\n",
              "      <td>29.75</td>\n",
              "      <td>Success</td>\n",
              "    </tr>\n",
              "    <tr>\n",
              "      <th>3</th>\n",
              "      <td>Roscosmos</td>\n",
              "      <td>Site 200/39, Baikonur Cosmodrome, Kazakhstan</td>\n",
              "      <td>Thu Jul 30, 2020 21:25 UTC</td>\n",
              "      <td>Proton-M/Briz-M | Ekspress-80 &amp; Ekspress-103</td>\n",
              "      <td>StatusActive</td>\n",
              "      <td>65.00</td>\n",
              "      <td>Success</td>\n",
              "    </tr>\n",
              "    <tr>\n",
              "      <th>4</th>\n",
              "      <td>ULA</td>\n",
              "      <td>SLC-41, Cape Canaveral AFS, Florida, USA</td>\n",
              "      <td>Thu Jul 30, 2020 11:50 UTC</td>\n",
              "      <td>Atlas V 541 | Perseverance</td>\n",
              "      <td>StatusActive</td>\n",
              "      <td>145.00</td>\n",
              "      <td>Success</td>\n",
              "    </tr>\n",
              "    <tr>\n",
              "      <th>5</th>\n",
              "      <td>CASC</td>\n",
              "      <td>LC-9, Taiyuan Satellite Launch Center, China</td>\n",
              "      <td>Sat Jul 25, 2020 03:13 UTC</td>\n",
              "      <td>Long March 4B | Ziyuan-3 03, Apocalypse-10 &amp; N...</td>\n",
              "      <td>StatusActive</td>\n",
              "      <td>64.68</td>\n",
              "      <td>Success</td>\n",
              "    </tr>\n",
              "  </tbody>\n",
              "</table>\n",
              "</div>"
            ],
            "text/plain": [
              "  Organisation                                           Location  \\\n",
              "0       SpaceX         LC-39A, Kennedy Space Center, Florida, USA   \n",
              "1         CASC  Site 9401 (SLS-2), Jiuquan Satellite Launch Ce...   \n",
              "3    Roscosmos       Site 200/39, Baikonur Cosmodrome, Kazakhstan   \n",
              "4          ULA           SLC-41, Cape Canaveral AFS, Florida, USA   \n",
              "5         CASC       LC-9, Taiyuan Satellite Launch Center, China   \n",
              "\n",
              "                         Date  \\\n",
              "0  Fri Aug 07, 2020 05:12 UTC   \n",
              "1  Thu Aug 06, 2020 04:01 UTC   \n",
              "3  Thu Jul 30, 2020 21:25 UTC   \n",
              "4  Thu Jul 30, 2020 11:50 UTC   \n",
              "5  Sat Jul 25, 2020 03:13 UTC   \n",
              "\n",
              "                                              Detail Rocket_Status  Price  \\\n",
              "0       Falcon 9 Block 5 | Starlink V1 L9 & BlackSky  StatusActive  50.00   \n",
              "1                Long March 2D | Gaofen-9 04 & Q-SAT  StatusActive  29.75   \n",
              "3       Proton-M/Briz-M | Ekspress-80 & Ekspress-103  StatusActive  65.00   \n",
              "4                         Atlas V 541 | Perseverance  StatusActive 145.00   \n",
              "5  Long March 4B | Ziyuan-3 03, Apocalypse-10 & N...  StatusActive  64.68   \n",
              "\n",
              "  Mission_Status  \n",
              "0        Success  \n",
              "1        Success  \n",
              "3        Success  \n",
              "4        Success  \n",
              "5        Success  "
            ]
          },
          "execution_count": 117,
          "metadata": {},
          "output_type": "execute_result"
        }
      ],
      "source": [
        "df_data.head()"
      ]
    },
    {
      "cell_type": "code",
      "execution_count": 118,
      "metadata": {
        "id": "ydj0-OZ6mToH"
      },
      "outputs": [],
      "source": [
        "\n",
        "rockets_status = df_data.groupby('Rocket_Status').size().reset_index(name=\"count\")"
      ]
    },
    {
      "cell_type": "code",
      "execution_count": 119,
      "metadata": {},
      "outputs": [
        {
          "data": {
            "text/html": [
              "<div>\n",
              "<style scoped>\n",
              "    .dataframe tbody tr th:only-of-type {\n",
              "        vertical-align: middle;\n",
              "    }\n",
              "\n",
              "    .dataframe tbody tr th {\n",
              "        vertical-align: top;\n",
              "    }\n",
              "\n",
              "    .dataframe thead th {\n",
              "        text-align: right;\n",
              "    }\n",
              "</style>\n",
              "<table border=\"1\" class=\"dataframe\">\n",
              "  <thead>\n",
              "    <tr style=\"text-align: right;\">\n",
              "      <th></th>\n",
              "      <th>Rocket_Status</th>\n",
              "      <th>count</th>\n",
              "    </tr>\n",
              "  </thead>\n",
              "  <tbody>\n",
              "    <tr>\n",
              "      <th>0</th>\n",
              "      <td>StatusActive</td>\n",
              "      <td>586</td>\n",
              "    </tr>\n",
              "    <tr>\n",
              "      <th>1</th>\n",
              "      <td>StatusRetired</td>\n",
              "      <td>376</td>\n",
              "    </tr>\n",
              "  </tbody>\n",
              "</table>\n",
              "</div>"
            ],
            "text/plain": [
              "   Rocket_Status  count\n",
              "0   StatusActive    586\n",
              "1  StatusRetired    376"
            ]
          },
          "execution_count": 119,
          "metadata": {},
          "output_type": "execute_result"
        }
      ],
      "source": [
        "rockets_status"
      ]
    },
    {
      "cell_type": "code",
      "execution_count": 120,
      "metadata": {},
      "outputs": [
        {
          "name": "stdout",
          "output_type": "stream",
          "text": [
            "Hay 586 cohetes activos y 376 retirados\n"
          ]
        }
      ],
      "source": [
        "print(f\"Hay {rockets_status['count'][0]} cohetes activos y {rockets_status['count'][1]} retirados\")"
      ]
    },
    {
      "cell_type": "markdown",
      "metadata": {
        "id": "y9WtP5xWkYkp"
      },
      "source": [
        "# Distribution of Mission Status\n",
        "\n",
        "How many missions were successful?\n",
        "How many missions failed?"
      ]
    },
    {
      "cell_type": "code",
      "execution_count": 121,
      "metadata": {
        "id": "83kY1alqmUhb"
      },
      "outputs": [
        {
          "data": {
            "text/html": [
              "<div>\n",
              "<style scoped>\n",
              "    .dataframe tbody tr th:only-of-type {\n",
              "        vertical-align: middle;\n",
              "    }\n",
              "\n",
              "    .dataframe tbody tr th {\n",
              "        vertical-align: top;\n",
              "    }\n",
              "\n",
              "    .dataframe thead th {\n",
              "        text-align: right;\n",
              "    }\n",
              "</style>\n",
              "<table border=\"1\" class=\"dataframe\">\n",
              "  <thead>\n",
              "    <tr style=\"text-align: right;\">\n",
              "      <th></th>\n",
              "      <th>Organisation</th>\n",
              "      <th>Location</th>\n",
              "      <th>Date</th>\n",
              "      <th>Detail</th>\n",
              "      <th>Rocket_Status</th>\n",
              "      <th>Price</th>\n",
              "      <th>Mission_Status</th>\n",
              "    </tr>\n",
              "  </thead>\n",
              "  <tbody>\n",
              "    <tr>\n",
              "      <th>0</th>\n",
              "      <td>SpaceX</td>\n",
              "      <td>LC-39A, Kennedy Space Center, Florida, USA</td>\n",
              "      <td>Fri Aug 07, 2020 05:12 UTC</td>\n",
              "      <td>Falcon 9 Block 5 | Starlink V1 L9 &amp; BlackSky</td>\n",
              "      <td>StatusActive</td>\n",
              "      <td>50.00</td>\n",
              "      <td>Success</td>\n",
              "    </tr>\n",
              "    <tr>\n",
              "      <th>1</th>\n",
              "      <td>CASC</td>\n",
              "      <td>Site 9401 (SLS-2), Jiuquan Satellite Launch Ce...</td>\n",
              "      <td>Thu Aug 06, 2020 04:01 UTC</td>\n",
              "      <td>Long March 2D | Gaofen-9 04 &amp; Q-SAT</td>\n",
              "      <td>StatusActive</td>\n",
              "      <td>29.75</td>\n",
              "      <td>Success</td>\n",
              "    </tr>\n",
              "    <tr>\n",
              "      <th>3</th>\n",
              "      <td>Roscosmos</td>\n",
              "      <td>Site 200/39, Baikonur Cosmodrome, Kazakhstan</td>\n",
              "      <td>Thu Jul 30, 2020 21:25 UTC</td>\n",
              "      <td>Proton-M/Briz-M | Ekspress-80 &amp; Ekspress-103</td>\n",
              "      <td>StatusActive</td>\n",
              "      <td>65.00</td>\n",
              "      <td>Success</td>\n",
              "    </tr>\n",
              "    <tr>\n",
              "      <th>4</th>\n",
              "      <td>ULA</td>\n",
              "      <td>SLC-41, Cape Canaveral AFS, Florida, USA</td>\n",
              "      <td>Thu Jul 30, 2020 11:50 UTC</td>\n",
              "      <td>Atlas V 541 | Perseverance</td>\n",
              "      <td>StatusActive</td>\n",
              "      <td>145.00</td>\n",
              "      <td>Success</td>\n",
              "    </tr>\n",
              "    <tr>\n",
              "      <th>5</th>\n",
              "      <td>CASC</td>\n",
              "      <td>LC-9, Taiyuan Satellite Launch Center, China</td>\n",
              "      <td>Sat Jul 25, 2020 03:13 UTC</td>\n",
              "      <td>Long March 4B | Ziyuan-3 03, Apocalypse-10 &amp; N...</td>\n",
              "      <td>StatusActive</td>\n",
              "      <td>64.68</td>\n",
              "      <td>Success</td>\n",
              "    </tr>\n",
              "  </tbody>\n",
              "</table>\n",
              "</div>"
            ],
            "text/plain": [
              "  Organisation                                           Location  \\\n",
              "0       SpaceX         LC-39A, Kennedy Space Center, Florida, USA   \n",
              "1         CASC  Site 9401 (SLS-2), Jiuquan Satellite Launch Ce...   \n",
              "3    Roscosmos       Site 200/39, Baikonur Cosmodrome, Kazakhstan   \n",
              "4          ULA           SLC-41, Cape Canaveral AFS, Florida, USA   \n",
              "5         CASC       LC-9, Taiyuan Satellite Launch Center, China   \n",
              "\n",
              "                         Date  \\\n",
              "0  Fri Aug 07, 2020 05:12 UTC   \n",
              "1  Thu Aug 06, 2020 04:01 UTC   \n",
              "3  Thu Jul 30, 2020 21:25 UTC   \n",
              "4  Thu Jul 30, 2020 11:50 UTC   \n",
              "5  Sat Jul 25, 2020 03:13 UTC   \n",
              "\n",
              "                                              Detail Rocket_Status  Price  \\\n",
              "0       Falcon 9 Block 5 | Starlink V1 L9 & BlackSky  StatusActive  50.00   \n",
              "1                Long March 2D | Gaofen-9 04 & Q-SAT  StatusActive  29.75   \n",
              "3       Proton-M/Briz-M | Ekspress-80 & Ekspress-103  StatusActive  65.00   \n",
              "4                         Atlas V 541 | Perseverance  StatusActive 145.00   \n",
              "5  Long March 4B | Ziyuan-3 03, Apocalypse-10 & N...  StatusActive  64.68   \n",
              "\n",
              "  Mission_Status  \n",
              "0        Success  \n",
              "1        Success  \n",
              "3        Success  \n",
              "4        Success  \n",
              "5        Success  "
            ]
          },
          "execution_count": 121,
          "metadata": {},
          "output_type": "execute_result"
        }
      ],
      "source": [
        "df_data.head()"
      ]
    },
    {
      "cell_type": "code",
      "execution_count": 122,
      "metadata": {
        "id": "bdmXcaopmUeZ"
      },
      "outputs": [],
      "source": [
        "mission_status =  df_data.groupby('Mission_Status').size().reset_index(name=\"count\")"
      ]
    },
    {
      "cell_type": "code",
      "execution_count": 134,
      "metadata": {},
      "outputs": [
        {
          "data": {
            "text/html": [
              "<div>\n",
              "<style scoped>\n",
              "    .dataframe tbody tr th:only-of-type {\n",
              "        vertical-align: middle;\n",
              "    }\n",
              "\n",
              "    .dataframe tbody tr th {\n",
              "        vertical-align: top;\n",
              "    }\n",
              "\n",
              "    .dataframe thead th {\n",
              "        text-align: right;\n",
              "    }\n",
              "</style>\n",
              "<table border=\"1\" class=\"dataframe\">\n",
              "  <thead>\n",
              "    <tr style=\"text-align: right;\">\n",
              "      <th></th>\n",
              "      <th>Mission_Status</th>\n",
              "      <th>count</th>\n",
              "    </tr>\n",
              "  </thead>\n",
              "  <tbody>\n",
              "    <tr>\n",
              "      <th>0</th>\n",
              "      <td>Failure</td>\n",
              "      <td>36</td>\n",
              "    </tr>\n",
              "    <tr>\n",
              "      <th>1</th>\n",
              "      <td>Partial Failure</td>\n",
              "      <td>17</td>\n",
              "    </tr>\n",
              "    <tr>\n",
              "      <th>2</th>\n",
              "      <td>Prelaunch Failure</td>\n",
              "      <td>1</td>\n",
              "    </tr>\n",
              "    <tr>\n",
              "      <th>3</th>\n",
              "      <td>Success</td>\n",
              "      <td>908</td>\n",
              "    </tr>\n",
              "  </tbody>\n",
              "</table>\n",
              "</div>"
            ],
            "text/plain": [
              "      Mission_Status  count\n",
              "0            Failure     36\n",
              "1    Partial Failure     17\n",
              "2  Prelaunch Failure      1\n",
              "3            Success    908"
            ]
          },
          "execution_count": 134,
          "metadata": {},
          "output_type": "execute_result"
        }
      ],
      "source": [
        "mission_status"
      ]
    },
    {
      "cell_type": "code",
      "execution_count": 132,
      "metadata": {},
      "outputs": [],
      "source": [
        "failure = mission_status[mission_status['Mission_Status'].str.contains('Failure')]['count'].sum()\n",
        "success = mission_status[mission_status['Mission_Status'] == 'Success']['count'].sum()\n"
      ]
    },
    {
      "cell_type": "code",
      "execution_count": 133,
      "metadata": {},
      "outputs": [
        {
          "name": "stdout",
          "output_type": "stream",
          "text": [
            "Misiones cumplidas: 908, Misiones Fallidas: 54\n"
          ]
        }
      ],
      "source": [
        "print(f\"Misiones cumplidas: {success}, Misiones Fallidas: {failure}\")"
      ]
    },
    {
      "cell_type": "markdown",
      "metadata": {
        "id": "jgTCihuoa-qH",
        "papermill": {
          "duration": 0.03854,
          "end_time": "2020-10-20T21:34:05.968626",
          "exception": false,
          "start_time": "2020-10-20T21:34:05.930086",
          "status": "completed"
        },
        "tags": []
      },
      "source": [
        "# How Expensive are the Launches? \n",
        "\n",
        "Create a histogram and visualise the distribution. The price column is given in USD millions (careful of missing values). "
      ]
    },
    {
      "cell_type": "code",
      "execution_count": 135,
      "metadata": {
        "id": "PLOMhzZFnSCO"
      },
      "outputs": [
        {
          "data": {
            "image/png": "[encoded data removed]",
            "text/plain": [
              "<Figure size 1400x800 with 1 Axes>"
            ]
          },
          "metadata": {},
          "output_type": "display_data"
        }
      ],
      "source": [
        "fig, ax = plt.subplots(figsize=(14,8))\n",
        "\n",
        "plt.hist(data=df_data, x='Price', bins=10, color='skyblue', edgecolor='black')\n",
        "\n",
        "plt.title(\"Distribution of Rocket Launch Prices\", fontsize=15)\n",
        "plt.xlabel(\"Price (Millones)\" , fontsize=12)\n",
        "plt.ylabel(\"Number of Launches\" , fontsize=12)\n",
        "\n",
        "plt.show()"
      ]
    },
    {
      "cell_type": "code",
      "execution_count": null,
      "metadata": {
        "id": "ru0IcY4nnSFU"
      },
      "outputs": [],
      "source": []
    },
    {
      "cell_type": "markdown",
      "metadata": {
        "id": "QiNtigQDne3E"
      },
      "source": [
        "# Use a Choropleth Map to Show the Number of Launches by Country\n",
        "\n",
        "* Create a choropleth map using [the plotly documentation](https://plotly.com/python/choropleth-maps/)\n",
        "* Experiment with [plotly's available colours](https://plotly.com/python/builtin-colorscales/). I quite like the sequential colour `matter` on this map. \n",
        "* You'll need to extract a `country` feature as well as change the country names that no longer exist.\n",
        "\n",
        "Wrangle the Country Names\n",
        "\n",
        "You'll need to use a 3 letter country code for each country. You might have to change some country names.\n",
        "\n",
        "* Russia is the Russian Federation\n",
        "* New Mexico should be USA\n",
        "* Yellow Sea refers to China\n",
        "* Shahrud Missile Test Site should be Iran\n",
        "* Pacific Missile Range Facility should be USA\n",
        "* Barents Sea should be Russian Federation\n",
        "* Gran Canaria should be USA\n",
        "\n",
        "\n",
        "You can use the iso3166 package to convert the country names to Alpha3 format."
      ]
    },
    {
      "cell_type": "code",
      "execution_count": 136,
      "metadata": {
        "id": "Y46-4GHrozhF"
      },
      "outputs": [
        {
          "data": {
            "text/plain": [
              "(962, 7)"
            ]
          },
          "execution_count": 136,
          "metadata": {},
          "output_type": "execute_result"
        }
      ],
      "source": [
        "df_data.shape"
      ]
    },
    {
      "cell_type": "code",
      "execution_count": 138,
      "metadata": {},
      "outputs": [
        {
          "name": "stdout",
          "output_type": "stream",
          "text": [
            "Requirement already satisfied: pycountry in c:\\users\\finanzas01\\documents\\cursos\\professional portfolio\\day 99 - analyse and visualise the space race\\venv\\lib\\site-packages (24.6.1)\n",
            "Note: you may need to restart the kernel to use updated packages.\n"
          ]
        }
      ],
      "source": [
        "%pip install pycountry"
      ]
    },
    {
      "cell_type": "code",
      "execution_count": 154,
      "metadata": {},
      "outputs": [
        {
          "name": "stdout",
          "output_type": "stream",
          "text": [
            "Collecting nbformatNote: you may need to restart the kernel to use updated packages.\n",
            "\n",
            "  Downloading nbformat-5.10.4-py3-none-any.whl.metadata (3.6 kB)\n",
            "Collecting fastjsonschema>=2.15 (from nbformat)\n",
            "  Downloading fastjsonschema-2.20.0-py3-none-any.whl.metadata (2.1 kB)\n",
            "Collecting jsonschema>=2.6 (from nbformat)\n",
            "  Downloading jsonschema-4.23.0-py3-none-any.whl.metadata (7.9 kB)\n",
            "Requirement already satisfied: jupyter-core!=5.0.*,>=4.12 in c:\\users\\finanzas01\\documents\\cursos\\professional portfolio\\day 99 - analyse and visualise the space race\\venv\\lib\\site-packages (from nbformat) (5.7.2)\n",
            "Requirement already satisfied: traitlets>=5.1 in c:\\users\\finanzas01\\documents\\cursos\\professional portfolio\\day 99 - analyse and visualise the space race\\venv\\lib\\site-packages (from nbformat) (5.14.3)\n",
            "Collecting attrs>=22.2.0 (from jsonschema>=2.6->nbformat)\n",
            "  Using cached attrs-24.2.0-py3-none-any.whl.metadata (11 kB)\n",
            "Collecting jsonschema-specifications>=2023.03.6 (from jsonschema>=2.6->nbformat)\n",
            "  Downloading jsonschema_specifications-2023.12.1-py3-none-any.whl.metadata (3.0 kB)\n",
            "Collecting referencing>=0.28.4 (from jsonschema>=2.6->nbformat)\n",
            "  Downloading referencing-0.35.1-py3-none-any.whl.metadata (2.8 kB)\n",
            "Collecting rpds-py>=0.7.1 (from jsonschema>=2.6->nbformat)\n",
            "  Downloading rpds_py-0.20.0-cp311-none-win_amd64.whl.metadata (4.2 kB)\n",
            "Requirement already satisfied: platformdirs>=2.5 in c:\\users\\finanzas01\\documents\\cursos\\professional portfolio\\day 99 - analyse and visualise the space race\\venv\\lib\\site-packages (from jupyter-core!=5.0.*,>=4.12->nbformat) (4.3.2)\n",
            "Requirement already satisfied: pywin32>=300 in c:\\users\\finanzas01\\documents\\cursos\\professional portfolio\\day 99 - analyse and visualise the space race\\venv\\lib\\site-packages (from jupyter-core!=5.0.*,>=4.12->nbformat) (306)\n",
            "Downloading nbformat-5.10.4-py3-none-any.whl (78 kB)\n",
            "Downloading fastjsonschema-2.20.0-py3-none-any.whl (23 kB)\n",
            "Downloading jsonschema-4.23.0-py3-none-any.whl (88 kB)\n",
            "Using cached attrs-24.2.0-py3-none-any.whl (63 kB)\n",
            "Downloading jsonschema_specifications-2023.12.1-py3-none-any.whl (18 kB)\n",
            "Downloading referencing-0.35.1-py3-none-any.whl (26 kB)\n",
            "Downloading rpds_py-0.20.0-cp311-none-win_amd64.whl (213 kB)\n",
            "Installing collected packages: fastjsonschema, rpds-py, attrs, referencing, jsonschema-specifications, jsonschema, nbformat\n",
            "Successfully installed attrs-24.2.0 fastjsonschema-2.20.0 jsonschema-4.23.0 jsonschema-specifications-2023.12.1 nbformat-5.10.4 referencing-0.35.1 rpds-py-0.20.0\n"
          ]
        }
      ],
      "source": [
        "%pip install --upgrade nbformat"
      ]
    },
    {
      "cell_type": "code",
      "execution_count": 139,
      "metadata": {},
      "outputs": [],
      "source": [
        "import pycountry"
      ]
    },
    {
      "cell_type": "code",
      "execution_count": 144,
      "metadata": {},
      "outputs": [],
      "source": [
        "df_data_orig = df_data.copy()"
      ]
    },
    {
      "cell_type": "code",
      "execution_count": 145,
      "metadata": {
        "id": "ESGRWiX6ozZG"
      },
      "outputs": [
        {
          "name": "stdout",
          "output_type": "stream",
          "text": [
            "['USA', 'CHN', 'Kazakhstan', 'USA', 'CHN', 'Kazakhstan', 'USA', 'Japan', 'USA', 'CHN']\n"
          ]
        },
        {
          "data": {
            "text/html": [
              "<div>\n",
              "<style scoped>\n",
              "    .dataframe tbody tr th:only-of-type {\n",
              "        vertical-align: middle;\n",
              "    }\n",
              "\n",
              "    .dataframe tbody tr th {\n",
              "        vertical-align: top;\n",
              "    }\n",
              "\n",
              "    .dataframe thead th {\n",
              "        text-align: right;\n",
              "    }\n",
              "</style>\n",
              "<table border=\"1\" class=\"dataframe\">\n",
              "  <thead>\n",
              "    <tr style=\"text-align: right;\">\n",
              "      <th></th>\n",
              "      <th>Organisation</th>\n",
              "      <th>Location</th>\n",
              "      <th>Date</th>\n",
              "      <th>Detail</th>\n",
              "      <th>Rocket_Status</th>\n",
              "      <th>Price</th>\n",
              "      <th>Mission_Status</th>\n",
              "    </tr>\n",
              "  </thead>\n",
              "  <tbody>\n",
              "    <tr>\n",
              "      <th>0</th>\n",
              "      <td>SpaceX</td>\n",
              "      <td>LC-39A, Kennedy Space Center, Florida, USA</td>\n",
              "      <td>Fri Aug 07, 2020 05:12 UTC</td>\n",
              "      <td>Falcon 9 Block 5 | Starlink V1 L9 &amp; BlackSky</td>\n",
              "      <td>StatusActive</td>\n",
              "      <td>50.00</td>\n",
              "      <td>Success</td>\n",
              "    </tr>\n",
              "    <tr>\n",
              "      <th>1</th>\n",
              "      <td>CASC</td>\n",
              "      <td>Site 9401 (SLS-2), Jiuquan Satellite Launch Ce...</td>\n",
              "      <td>Thu Aug 06, 2020 04:01 UTC</td>\n",
              "      <td>Long March 2D | Gaofen-9 04 &amp; Q-SAT</td>\n",
              "      <td>StatusActive</td>\n",
              "      <td>29.75</td>\n",
              "      <td>Success</td>\n",
              "    </tr>\n",
              "    <tr>\n",
              "      <th>3</th>\n",
              "      <td>Roscosmos</td>\n",
              "      <td>Site 200/39, Baikonur Cosmodrome, Kazakhstan</td>\n",
              "      <td>Thu Jul 30, 2020 21:25 UTC</td>\n",
              "      <td>Proton-M/Briz-M | Ekspress-80 &amp; Ekspress-103</td>\n",
              "      <td>StatusActive</td>\n",
              "      <td>65.00</td>\n",
              "      <td>Success</td>\n",
              "    </tr>\n",
              "  </tbody>\n",
              "</table>\n",
              "</div>"
            ],
            "text/plain": [
              "  Organisation                                           Location  \\\n",
              "0       SpaceX         LC-39A, Kennedy Space Center, Florida, USA   \n",
              "1         CASC  Site 9401 (SLS-2), Jiuquan Satellite Launch Ce...   \n",
              "3    Roscosmos       Site 200/39, Baikonur Cosmodrome, Kazakhstan   \n",
              "\n",
              "                         Date                                        Detail  \\\n",
              "0  Fri Aug 07, 2020 05:12 UTC  Falcon 9 Block 5 | Starlink V1 L9 & BlackSky   \n",
              "1  Thu Aug 06, 2020 04:01 UTC           Long March 2D | Gaofen-9 04 & Q-SAT   \n",
              "3  Thu Jul 30, 2020 21:25 UTC  Proton-M/Briz-M | Ekspress-80 & Ekspress-103   \n",
              "\n",
              "  Rocket_Status  Price Mission_Status  \n",
              "0  StatusActive  50.00        Success  \n",
              "1  StatusActive  29.75        Success  \n",
              "3  StatusActive  65.00        Success  "
            ]
          },
          "execution_count": 145,
          "metadata": {},
          "output_type": "execute_result"
        }
      ],
      "source": [
        "remap_location = df_data_orig.copy()\n",
        "remap_location = remap_location[\"Location\"]\n",
        "\n",
        "remap_data_cleaned = []\n",
        "\n",
        "for location in remap_location:\n",
        "    if \"Russia\" in location or \"Barents Sea\" in location:\n",
        "        remap_data_cleaned.append(\"RUS\")\n",
        "    elif \"New Mexico\" in location or \"Gran Canaria\" in location or \"Pacific Missile Range Facility\" in location or \"USA\" in location:\n",
        "        remap_data_cleaned.append(\"USA\")\n",
        "    elif \"Yellow Sea\" in location or \"China\" in location:\n",
        "        remap_data_cleaned.append(\"CHN\")\n",
        "    elif \"Shahrud Missile Test Site\" in location:\n",
        "        remap_data_cleaned.append(\"IRN\")\n",
        "    else:\n",
        "        country_split = location.split(\",\")[-1].strip()\n",
        "        remap_data_cleaned.append(country_split)\n",
        "\n",
        "print(remap_data_cleaned[:10])\n",
        "\n",
        "\n",
        "\n",
        "\n",
        "countries = {}\n",
        "for country in pycountry.countries:\n",
        "    countries[country.name] = country.alpha_3\n",
        "\n",
        "codes = [countries.get(country, country) for country in remap_data_cleaned]\n",
        "\n",
        "# df_data[\"Country_ISO\"] = codes\n",
        "df_data_orig[\"Country_ISO\"] = codes\n",
        "\n",
        "df_data.head(3)"
      ]
    },
    {
      "cell_type": "code",
      "execution_count": 146,
      "metadata": {},
      "outputs": [
        {
          "data": {
            "text/html": [
              "<div>\n",
              "<style scoped>\n",
              "    .dataframe tbody tr th:only-of-type {\n",
              "        vertical-align: middle;\n",
              "    }\n",
              "\n",
              "    .dataframe tbody tr th {\n",
              "        vertical-align: top;\n",
              "    }\n",
              "\n",
              "    .dataframe thead th {\n",
              "        text-align: right;\n",
              "    }\n",
              "</style>\n",
              "<table border=\"1\" class=\"dataframe\">\n",
              "  <thead>\n",
              "    <tr style=\"text-align: right;\">\n",
              "      <th></th>\n",
              "      <th>Country_ISO</th>\n",
              "      <th>Launch_Counts</th>\n",
              "    </tr>\n",
              "  </thead>\n",
              "  <tbody>\n",
              "    <tr>\n",
              "      <th>7</th>\n",
              "      <td>USA</td>\n",
              "      <td>490</td>\n",
              "    </tr>\n",
              "    <tr>\n",
              "      <th>0</th>\n",
              "      <td>CHN</td>\n",
              "      <td>159</td>\n",
              "    </tr>\n",
              "    <tr>\n",
              "      <th>1</th>\n",
              "      <td>FRA</td>\n",
              "      <td>95</td>\n",
              "    </tr>\n",
              "    <tr>\n",
              "      <th>2</th>\n",
              "      <td>IND</td>\n",
              "      <td>67</td>\n",
              "    </tr>\n",
              "    <tr>\n",
              "      <th>6</th>\n",
              "      <td>RUS</td>\n",
              "      <td>54</td>\n",
              "    </tr>\n",
              "    <tr>\n",
              "      <th>4</th>\n",
              "      <td>KAZ</td>\n",
              "      <td>44</td>\n",
              "    </tr>\n",
              "    <tr>\n",
              "      <th>3</th>\n",
              "      <td>JPN</td>\n",
              "      <td>40</td>\n",
              "    </tr>\n",
              "    <tr>\n",
              "      <th>5</th>\n",
              "      <td>NZL</td>\n",
              "      <td>13</td>\n",
              "    </tr>\n",
              "  </tbody>\n",
              "</table>\n",
              "</div>"
            ],
            "text/plain": [
              "  Country_ISO  Launch_Counts\n",
              "7         USA            490\n",
              "0         CHN            159\n",
              "1         FRA             95\n",
              "2         IND             67\n",
              "6         RUS             54\n",
              "4         KAZ             44\n",
              "3         JPN             40\n",
              "5         NZL             13"
            ]
          },
          "execution_count": 146,
          "metadata": {},
          "output_type": "execute_result"
        }
      ],
      "source": [
        "choro_df_launches = df_data_orig.groupby([\"Country_ISO\"], as_index=False).agg({\"Detail\":pd.Series.count})\n",
        "choro_df_launches.rename(columns={\"Detail\":\"Launch_Counts\"}, inplace=True)\n",
        "choro_df_launches.sort_values(\"Launch_Counts\", ascending=False)"
      ]
    },
    {
      "cell_type": "code",
      "execution_count": 156,
      "metadata": {},
      "outputs": [],
      "source": [
        "import plotly.express as px"
      ]
    },
    {
      "cell_type": "code",
      "execution_count": 159,
      "metadata": {},
      "outputs": [
        {
          "ename": "ValueError",
          "evalue": "Mime type rendering requires nbformat>=4.2.0 but it is not installed",
          "output_type": "error",
          "traceback": [
            "\u001b[1;31m---------------------------------------------------------------------------\u001b[0m",
            "\u001b[1;31mValueError\u001b[0m                                Traceback (most recent call last)",
            "Cell \u001b[1;32mIn[159], line 9\u001b[0m\n\u001b[0;32m      1\u001b[0m plt\u001b[38;5;241m.\u001b[39mfigure(figsize\u001b[38;5;241m=\u001b[39m(\u001b[38;5;241m20\u001b[39m,\u001b[38;5;241m10\u001b[39m), dpi\u001b[38;5;241m=\u001b[39m\u001b[38;5;241m120\u001b[39m)\n\u001b[0;32m      3\u001b[0m fig \u001b[38;5;241m=\u001b[39m px\u001b[38;5;241m.\u001b[39mchoropleth(choro_df_launches, locations\u001b[38;5;241m=\u001b[39m\u001b[38;5;124m\"\u001b[39m\u001b[38;5;124mCountry_ISO\u001b[39m\u001b[38;5;124m\"\u001b[39m, \n\u001b[0;32m      4\u001b[0m                     hover_name\u001b[38;5;241m=\u001b[39m\u001b[38;5;124m\"\u001b[39m\u001b[38;5;124mCountry_ISO\u001b[39m\u001b[38;5;124m\"\u001b[39m,\n\u001b[0;32m      5\u001b[0m                     color\u001b[38;5;241m=\u001b[39m\u001b[38;5;124m\"\u001b[39m\u001b[38;5;124mLaunch_Counts\u001b[39m\u001b[38;5;124m\"\u001b[39m,                   \n\u001b[0;32m      6\u001b[0m                     color_continuous_scale\u001b[38;5;241m=\u001b[39m\u001b[38;5;124m\"\u001b[39m\u001b[38;5;124msunsetdark\u001b[39m\u001b[38;5;124m\"\u001b[39m)\n\u001b[1;32m----> 9\u001b[0m \u001b[43mfig\u001b[49m\u001b[38;5;241;43m.\u001b[39;49m\u001b[43mshow\u001b[49m\u001b[43m(\u001b[49m\u001b[43m)\u001b[49m\n",
            "File \u001b[1;32mc:\\Users\\FINANZAS01\\Documents\\Cursos\\Professional Portfolio\\Day 99 - Analyse and Visualise the Space Race\\venv\\Lib\\site-packages\\plotly\\basedatatypes.py:3410\u001b[0m, in \u001b[0;36mBaseFigure.show\u001b[1;34m(self, *args, **kwargs)\u001b[0m\n\u001b[0;32m   3377\u001b[0m \u001b[38;5;250m\u001b[39m\u001b[38;5;124;03m\"\"\"\u001b[39;00m\n\u001b[0;32m   3378\u001b[0m \u001b[38;5;124;03mShow a figure using either the default renderer(s) or the renderer(s)\u001b[39;00m\n\u001b[0;32m   3379\u001b[0m \u001b[38;5;124;03mspecified by the renderer argument\u001b[39;00m\n\u001b[1;32m   (...)\u001b[0m\n\u001b[0;32m   3406\u001b[0m \u001b[38;5;124;03mNone\u001b[39;00m\n\u001b[0;32m   3407\u001b[0m \u001b[38;5;124;03m\"\"\"\u001b[39;00m\n\u001b[0;32m   3408\u001b[0m \u001b[38;5;28;01mimport\u001b[39;00m \u001b[38;5;21;01mplotly\u001b[39;00m\u001b[38;5;21;01m.\u001b[39;00m\u001b[38;5;21;01mio\u001b[39;00m \u001b[38;5;28;01mas\u001b[39;00m \u001b[38;5;21;01mpio\u001b[39;00m\n\u001b[1;32m-> 3410\u001b[0m \u001b[38;5;28;01mreturn\u001b[39;00m \u001b[43mpio\u001b[49m\u001b[38;5;241;43m.\u001b[39;49m\u001b[43mshow\u001b[49m\u001b[43m(\u001b[49m\u001b[38;5;28;43mself\u001b[39;49m\u001b[43m,\u001b[49m\u001b[43m \u001b[49m\u001b[38;5;241;43m*\u001b[39;49m\u001b[43margs\u001b[49m\u001b[43m,\u001b[49m\u001b[43m \u001b[49m\u001b[38;5;241;43m*\u001b[39;49m\u001b[38;5;241;43m*\u001b[39;49m\u001b[43mkwargs\u001b[49m\u001b[43m)\u001b[49m\n",
            "File \u001b[1;32mc:\\Users\\FINANZAS01\\Documents\\Cursos\\Professional Portfolio\\Day 99 - Analyse and Visualise the Space Race\\venv\\Lib\\site-packages\\plotly\\io\\_renderers.py:394\u001b[0m, in \u001b[0;36mshow\u001b[1;34m(fig, renderer, validate, **kwargs)\u001b[0m\n\u001b[0;32m    389\u001b[0m         \u001b[38;5;28;01mraise\u001b[39;00m \u001b[38;5;167;01mValueError\u001b[39;00m(\n\u001b[0;32m    390\u001b[0m             \u001b[38;5;124m\"\u001b[39m\u001b[38;5;124mMime type rendering requires ipython but it is not installed\u001b[39m\u001b[38;5;124m\"\u001b[39m\n\u001b[0;32m    391\u001b[0m         )\n\u001b[0;32m    393\u001b[0m     \u001b[38;5;28;01mif\u001b[39;00m \u001b[38;5;129;01mnot\u001b[39;00m nbformat \u001b[38;5;129;01mor\u001b[39;00m Version(nbformat\u001b[38;5;241m.\u001b[39m__version__) \u001b[38;5;241m<\u001b[39m Version(\u001b[38;5;124m\"\u001b[39m\u001b[38;5;124m4.2.0\u001b[39m\u001b[38;5;124m\"\u001b[39m):\n\u001b[1;32m--> 394\u001b[0m         \u001b[38;5;28;01mraise\u001b[39;00m \u001b[38;5;167;01mValueError\u001b[39;00m(\n\u001b[0;32m    395\u001b[0m             \u001b[38;5;124m\"\u001b[39m\u001b[38;5;124mMime type rendering requires nbformat>=4.2.0 but it is not installed\u001b[39m\u001b[38;5;124m\"\u001b[39m\n\u001b[0;32m    396\u001b[0m         )\n\u001b[0;32m    398\u001b[0m     ipython_display\u001b[38;5;241m.\u001b[39mdisplay(bundle, raw\u001b[38;5;241m=\u001b[39m\u001b[38;5;28;01mTrue\u001b[39;00m)\n\u001b[0;32m    400\u001b[0m \u001b[38;5;66;03m# external renderers\u001b[39;00m\n",
            "\u001b[1;31mValueError\u001b[0m: Mime type rendering requires nbformat>=4.2.0 but it is not installed"
          ]
        },
        {
          "data": {
            "text/plain": [
              "<Figure size 2400x1200 with 0 Axes>"
            ]
          },
          "metadata": {},
          "output_type": "display_data"
        }
      ],
      "source": [
        "plt.figure(figsize=(20,10), dpi=120)\n",
        "\n",
        "fig = px.choropleth(choro_df_launches, locations=\"Country_ISO\", \n",
        "                    hover_name=\"Country_ISO\",\n",
        "                    color=\"Launch_Counts\",                   \n",
        "                    color_continuous_scale=\"sunsetdark\")\n",
        "\n",
        "\n",
        "fig.show()"
      ]
    },
    {
      "cell_type": "markdown",
      "metadata": {
        "id": "F3pwYSUlo_AK"
      },
      "source": [
        "# Use a Choropleth Map to Show the Number of Failures by Country\n"
      ]
    },
    {
      "cell_type": "code",
      "execution_count": 160,
      "metadata": {
        "id": "8BH4ICtro9I0"
      },
      "outputs": [],
      "source": [
        "df_failures = df_data_orig.copy()\n",
        "\n",
        "cleaned_failure_col = []\n",
        "for failure in df_failures[\"Mission_Status\"]:\n",
        "    if \"Failure\" in failure:\n",
        "        cleaned_failure_col.append(\"Failure\")\n",
        "    else:\n",
        "        cleaned_failure_col.append(failure)\n",
        "\n",
        "\n",
        "df_failures[\"Mission_Status\"] = cleaned_failure_col"
      ]
    },
    {
      "cell_type": "code",
      "execution_count": 161,
      "metadata": {
        "id": "sfw-q7Obo9GM"
      },
      "outputs": [
        {
          "data": {
            "text/html": [
              "<div>\n",
              "<style scoped>\n",
              "    .dataframe tbody tr th:only-of-type {\n",
              "        vertical-align: middle;\n",
              "    }\n",
              "\n",
              "    .dataframe tbody tr th {\n",
              "        vertical-align: top;\n",
              "    }\n",
              "\n",
              "    .dataframe thead th {\n",
              "        text-align: right;\n",
              "    }\n",
              "</style>\n",
              "<table border=\"1\" class=\"dataframe\">\n",
              "  <thead>\n",
              "    <tr style=\"text-align: right;\">\n",
              "      <th></th>\n",
              "      <th>Country_ISO</th>\n",
              "      <th>Mission_Status</th>\n",
              "      <th>Launch_Counts</th>\n",
              "    </tr>\n",
              "  </thead>\n",
              "  <tbody>\n",
              "    <tr>\n",
              "      <th>14</th>\n",
              "      <td>USA</td>\n",
              "      <td>Success</td>\n",
              "      <td>462</td>\n",
              "    </tr>\n",
              "    <tr>\n",
              "      <th>1</th>\n",
              "      <td>CHN</td>\n",
              "      <td>Success</td>\n",
              "      <td>152</td>\n",
              "    </tr>\n",
              "    <tr>\n",
              "      <th>3</th>\n",
              "      <td>FRA</td>\n",
              "      <td>Success</td>\n",
              "      <td>92</td>\n",
              "    </tr>\n",
              "    <tr>\n",
              "      <th>5</th>\n",
              "      <td>IND</td>\n",
              "      <td>Success</td>\n",
              "      <td>59</td>\n",
              "    </tr>\n",
              "    <tr>\n",
              "      <th>12</th>\n",
              "      <td>RUS</td>\n",
              "      <td>Success</td>\n",
              "      <td>51</td>\n",
              "    </tr>\n",
              "  </tbody>\n",
              "</table>\n",
              "</div>"
            ],
            "text/plain": [
              "   Country_ISO Mission_Status  Launch_Counts\n",
              "14         USA        Success            462\n",
              "1          CHN        Success            152\n",
              "3          FRA        Success             92\n",
              "5          IND        Success             59\n",
              "12         RUS        Success             51"
            ]
          },
          "execution_count": 161,
          "metadata": {},
          "output_type": "execute_result"
        }
      ],
      "source": [
        "\n",
        "choro_df_failures = df_failures.groupby([\"Country_ISO\",\"Mission_Status\"], as_index=False).agg({\"Detail\":pd.Series.count})\n",
        "choro_df_failures.rename(columns={\"Detail\":\"Launch_Counts\"}, inplace=True)\n",
        "choro_df_failures.sort_values(\"Launch_Counts\", ascending=False).head(5)"
      ]
    },
    {
      "cell_type": "code",
      "execution_count": 162,
      "metadata": {},
      "outputs": [
        {
          "ename": "ValueError",
          "evalue": "Mime type rendering requires nbformat>=4.2.0 but it is not installed",
          "output_type": "error",
          "traceback": [
            "\u001b[1;31m---------------------------------------------------------------------------\u001b[0m",
            "\u001b[1;31mValueError\u001b[0m                                Traceback (most recent call last)",
            "Cell \u001b[1;32mIn[162], line 11\u001b[0m\n\u001b[0;32m      3\u001b[0m plt\u001b[38;5;241m.\u001b[39mfigure(figsize\u001b[38;5;241m=\u001b[39m(\u001b[38;5;241m20\u001b[39m,\u001b[38;5;241m10\u001b[39m), dpi\u001b[38;5;241m=\u001b[39m\u001b[38;5;241m120\u001b[39m)\n\u001b[0;32m      5\u001b[0m fig \u001b[38;5;241m=\u001b[39m px\u001b[38;5;241m.\u001b[39mchoropleth(choro_df_failures[choro_df_failures[\u001b[38;5;124m\"\u001b[39m\u001b[38;5;124mMission_Status\u001b[39m\u001b[38;5;124m\"\u001b[39m] \u001b[38;5;241m==\u001b[39m \u001b[38;5;124m\"\u001b[39m\u001b[38;5;124mFailure\u001b[39m\u001b[38;5;124m\"\u001b[39m], locations\u001b[38;5;241m=\u001b[39m\u001b[38;5;124m\"\u001b[39m\u001b[38;5;124mCountry_ISO\u001b[39m\u001b[38;5;124m\"\u001b[39m, \n\u001b[0;32m      6\u001b[0m                     \u001b[38;5;66;03m# hover_name=\"Mission_Status\",\u001b[39;00m\n\u001b[0;32m      7\u001b[0m                     color\u001b[38;5;241m=\u001b[39m\u001b[38;5;124m\"\u001b[39m\u001b[38;5;124mLaunch_Counts\u001b[39m\u001b[38;5;124m\"\u001b[39m,                   \n\u001b[0;32m      8\u001b[0m                     color_continuous_scale\u001b[38;5;241m=\u001b[39mpx\u001b[38;5;241m.\u001b[39mcolors\u001b[38;5;241m.\u001b[39msequential\u001b[38;5;241m.\u001b[39mPlasma)\n\u001b[1;32m---> 11\u001b[0m \u001b[43mfig\u001b[49m\u001b[38;5;241;43m.\u001b[39;49m\u001b[43mshow\u001b[49m\u001b[43m(\u001b[49m\u001b[43m)\u001b[49m\n",
            "File \u001b[1;32mc:\\Users\\FINANZAS01\\Documents\\Cursos\\Professional Portfolio\\Day 99 - Analyse and Visualise the Space Race\\venv\\Lib\\site-packages\\plotly\\basedatatypes.py:3410\u001b[0m, in \u001b[0;36mBaseFigure.show\u001b[1;34m(self, *args, **kwargs)\u001b[0m\n\u001b[0;32m   3377\u001b[0m \u001b[38;5;250m\u001b[39m\u001b[38;5;124;03m\"\"\"\u001b[39;00m\n\u001b[0;32m   3378\u001b[0m \u001b[38;5;124;03mShow a figure using either the default renderer(s) or the renderer(s)\u001b[39;00m\n\u001b[0;32m   3379\u001b[0m \u001b[38;5;124;03mspecified by the renderer argument\u001b[39;00m\n\u001b[1;32m   (...)\u001b[0m\n\u001b[0;32m   3406\u001b[0m \u001b[38;5;124;03mNone\u001b[39;00m\n\u001b[0;32m   3407\u001b[0m \u001b[38;5;124;03m\"\"\"\u001b[39;00m\n\u001b[0;32m   3408\u001b[0m \u001b[38;5;28;01mimport\u001b[39;00m \u001b[38;5;21;01mplotly\u001b[39;00m\u001b[38;5;21;01m.\u001b[39;00m\u001b[38;5;21;01mio\u001b[39;00m \u001b[38;5;28;01mas\u001b[39;00m \u001b[38;5;21;01mpio\u001b[39;00m\n\u001b[1;32m-> 3410\u001b[0m \u001b[38;5;28;01mreturn\u001b[39;00m \u001b[43mpio\u001b[49m\u001b[38;5;241;43m.\u001b[39;49m\u001b[43mshow\u001b[49m\u001b[43m(\u001b[49m\u001b[38;5;28;43mself\u001b[39;49m\u001b[43m,\u001b[49m\u001b[43m \u001b[49m\u001b[38;5;241;43m*\u001b[39;49m\u001b[43margs\u001b[49m\u001b[43m,\u001b[49m\u001b[43m \u001b[49m\u001b[38;5;241;43m*\u001b[39;49m\u001b[38;5;241;43m*\u001b[39;49m\u001b[43mkwargs\u001b[49m\u001b[43m)\u001b[49m\n",
            "File \u001b[1;32mc:\\Users\\FINANZAS01\\Documents\\Cursos\\Professional Portfolio\\Day 99 - Analyse and Visualise the Space Race\\venv\\Lib\\site-packages\\plotly\\io\\_renderers.py:394\u001b[0m, in \u001b[0;36mshow\u001b[1;34m(fig, renderer, validate, **kwargs)\u001b[0m\n\u001b[0;32m    389\u001b[0m         \u001b[38;5;28;01mraise\u001b[39;00m \u001b[38;5;167;01mValueError\u001b[39;00m(\n\u001b[0;32m    390\u001b[0m             \u001b[38;5;124m\"\u001b[39m\u001b[38;5;124mMime type rendering requires ipython but it is not installed\u001b[39m\u001b[38;5;124m\"\u001b[39m\n\u001b[0;32m    391\u001b[0m         )\n\u001b[0;32m    393\u001b[0m     \u001b[38;5;28;01mif\u001b[39;00m \u001b[38;5;129;01mnot\u001b[39;00m nbformat \u001b[38;5;129;01mor\u001b[39;00m Version(nbformat\u001b[38;5;241m.\u001b[39m__version__) \u001b[38;5;241m<\u001b[39m Version(\u001b[38;5;124m\"\u001b[39m\u001b[38;5;124m4.2.0\u001b[39m\u001b[38;5;124m\"\u001b[39m):\n\u001b[1;32m--> 394\u001b[0m         \u001b[38;5;28;01mraise\u001b[39;00m \u001b[38;5;167;01mValueError\u001b[39;00m(\n\u001b[0;32m    395\u001b[0m             \u001b[38;5;124m\"\u001b[39m\u001b[38;5;124mMime type rendering requires nbformat>=4.2.0 but it is not installed\u001b[39m\u001b[38;5;124m\"\u001b[39m\n\u001b[0;32m    396\u001b[0m         )\n\u001b[0;32m    398\u001b[0m     ipython_display\u001b[38;5;241m.\u001b[39mdisplay(bundle, raw\u001b[38;5;241m=\u001b[39m\u001b[38;5;28;01mTrue\u001b[39;00m)\n\u001b[0;32m    400\u001b[0m \u001b[38;5;66;03m# external renderers\u001b[39;00m\n",
            "\u001b[1;31mValueError\u001b[0m: Mime type rendering requires nbformat>=4.2.0 but it is not installed"
          ]
        },
        {
          "data": {
            "text/plain": [
              "<Figure size 2400x1200 with 0 Axes>"
            ]
          },
          "metadata": {},
          "output_type": "display_data"
        }
      ],
      "source": [
        "import plotly.express as px\n",
        "\n",
        "plt.figure(figsize=(20,10), dpi=120)\n",
        "\n",
        "fig = px.choropleth(choro_df_failures[choro_df_failures[\"Mission_Status\"] == \"Failure\"], locations=\"Country_ISO\", \n",
        "                    color=\"Launch_Counts\",                   \n",
        "                    color_continuous_scale=px.colors.sequential.Plasma)\n",
        "\n",
        "\n",
        "fig.show()"
      ]
    },
    {
      "cell_type": "markdown",
      "metadata": {
        "id": "9LqcqSrKa-qN",
        "papermill": {
          "duration": 0.039343,
          "end_time": "2020-10-20T21:34:06.591694",
          "exception": false,
          "start_time": "2020-10-20T21:34:06.552351",
          "status": "completed"
        },
        "tags": []
      },
      "source": [
        "# Create a Plotly Sunburst Chart of the countries, organisations, and mission status. "
      ]
    },
    {
      "cell_type": "code",
      "execution_count": 163,
      "metadata": {
        "id": "MwUfpoByo3_J"
      },
      "outputs": [
        {
          "ename": "ValueError",
          "evalue": "Mime type rendering requires nbformat>=4.2.0 but it is not installed",
          "output_type": "error",
          "traceback": [
            "\u001b[1;31m---------------------------------------------------------------------------\u001b[0m",
            "\u001b[1;31mValueError\u001b[0m                                Traceback (most recent call last)",
            "Cell \u001b[1;32mIn[163], line 2\u001b[0m\n\u001b[0;32m      1\u001b[0m fig \u001b[38;5;241m=\u001b[39m px\u001b[38;5;241m.\u001b[39msunburst(df_data_orig, path\u001b[38;5;241m=\u001b[39m[\u001b[38;5;124m'\u001b[39m\u001b[38;5;124mCountry_ISO\u001b[39m\u001b[38;5;124m'\u001b[39m, \u001b[38;5;124m'\u001b[39m\u001b[38;5;124mOrganisation\u001b[39m\u001b[38;5;124m'\u001b[39m, \u001b[38;5;124m'\u001b[39m\u001b[38;5;124mMission_Status\u001b[39m\u001b[38;5;124m'\u001b[39m])\n\u001b[1;32m----> 2\u001b[0m \u001b[43mfig\u001b[49m\u001b[38;5;241;43m.\u001b[39;49m\u001b[43mshow\u001b[49m\u001b[43m(\u001b[49m\u001b[43m)\u001b[49m\n",
            "File \u001b[1;32mc:\\Users\\FINANZAS01\\Documents\\Cursos\\Professional Portfolio\\Day 99 - Analyse and Visualise the Space Race\\venv\\Lib\\site-packages\\plotly\\basedatatypes.py:3410\u001b[0m, in \u001b[0;36mBaseFigure.show\u001b[1;34m(self, *args, **kwargs)\u001b[0m\n\u001b[0;32m   3377\u001b[0m \u001b[38;5;250m\u001b[39m\u001b[38;5;124;03m\"\"\"\u001b[39;00m\n\u001b[0;32m   3378\u001b[0m \u001b[38;5;124;03mShow a figure using either the default renderer(s) or the renderer(s)\u001b[39;00m\n\u001b[0;32m   3379\u001b[0m \u001b[38;5;124;03mspecified by the renderer argument\u001b[39;00m\n\u001b[1;32m   (...)\u001b[0m\n\u001b[0;32m   3406\u001b[0m \u001b[38;5;124;03mNone\u001b[39;00m\n\u001b[0;32m   3407\u001b[0m \u001b[38;5;124;03m\"\"\"\u001b[39;00m\n\u001b[0;32m   3408\u001b[0m \u001b[38;5;28;01mimport\u001b[39;00m \u001b[38;5;21;01mplotly\u001b[39;00m\u001b[38;5;21;01m.\u001b[39;00m\u001b[38;5;21;01mio\u001b[39;00m \u001b[38;5;28;01mas\u001b[39;00m \u001b[38;5;21;01mpio\u001b[39;00m\n\u001b[1;32m-> 3410\u001b[0m \u001b[38;5;28;01mreturn\u001b[39;00m \u001b[43mpio\u001b[49m\u001b[38;5;241;43m.\u001b[39;49m\u001b[43mshow\u001b[49m\u001b[43m(\u001b[49m\u001b[38;5;28;43mself\u001b[39;49m\u001b[43m,\u001b[49m\u001b[43m \u001b[49m\u001b[38;5;241;43m*\u001b[39;49m\u001b[43margs\u001b[49m\u001b[43m,\u001b[49m\u001b[43m \u001b[49m\u001b[38;5;241;43m*\u001b[39;49m\u001b[38;5;241;43m*\u001b[39;49m\u001b[43mkwargs\u001b[49m\u001b[43m)\u001b[49m\n",
            "File \u001b[1;32mc:\\Users\\FINANZAS01\\Documents\\Cursos\\Professional Portfolio\\Day 99 - Analyse and Visualise the Space Race\\venv\\Lib\\site-packages\\plotly\\io\\_renderers.py:394\u001b[0m, in \u001b[0;36mshow\u001b[1;34m(fig, renderer, validate, **kwargs)\u001b[0m\n\u001b[0;32m    389\u001b[0m         \u001b[38;5;28;01mraise\u001b[39;00m \u001b[38;5;167;01mValueError\u001b[39;00m(\n\u001b[0;32m    390\u001b[0m             \u001b[38;5;124m\"\u001b[39m\u001b[38;5;124mMime type rendering requires ipython but it is not installed\u001b[39m\u001b[38;5;124m\"\u001b[39m\n\u001b[0;32m    391\u001b[0m         )\n\u001b[0;32m    393\u001b[0m     \u001b[38;5;28;01mif\u001b[39;00m \u001b[38;5;129;01mnot\u001b[39;00m nbformat \u001b[38;5;129;01mor\u001b[39;00m Version(nbformat\u001b[38;5;241m.\u001b[39m__version__) \u001b[38;5;241m<\u001b[39m Version(\u001b[38;5;124m\"\u001b[39m\u001b[38;5;124m4.2.0\u001b[39m\u001b[38;5;124m\"\u001b[39m):\n\u001b[1;32m--> 394\u001b[0m         \u001b[38;5;28;01mraise\u001b[39;00m \u001b[38;5;167;01mValueError\u001b[39;00m(\n\u001b[0;32m    395\u001b[0m             \u001b[38;5;124m\"\u001b[39m\u001b[38;5;124mMime type rendering requires nbformat>=4.2.0 but it is not installed\u001b[39m\u001b[38;5;124m\"\u001b[39m\n\u001b[0;32m    396\u001b[0m         )\n\u001b[0;32m    398\u001b[0m     ipython_display\u001b[38;5;241m.\u001b[39mdisplay(bundle, raw\u001b[38;5;241m=\u001b[39m\u001b[38;5;28;01mTrue\u001b[39;00m)\n\u001b[0;32m    400\u001b[0m \u001b[38;5;66;03m# external renderers\u001b[39;00m\n",
            "\u001b[1;31mValueError\u001b[0m: Mime type rendering requires nbformat>=4.2.0 but it is not installed"
          ]
        }
      ],
      "source": [
        "fig = px.sunburst(df_data_orig, path=['Country_ISO', 'Organisation', 'Mission_Status'])\n",
        "fig.show()"
      ]
    },
    {
      "cell_type": "code",
      "execution_count": null,
      "metadata": {
        "id": "-ZwZkx1ro4X9"
      },
      "outputs": [],
      "source": []
    },
    {
      "cell_type": "code",
      "execution_count": null,
      "metadata": {
        "id": "VfTGp2hLo4Ok"
      },
      "outputs": [],
      "source": []
    },
    {
      "cell_type": "markdown",
      "metadata": {
        "id": "70pG1BCZa-qY",
        "papermill": {
          "duration": 0.062712,
          "end_time": "2020-10-20T21:34:07.951200",
          "exception": false,
          "start_time": "2020-10-20T21:34:07.888488",
          "status": "completed"
        },
        "tags": []
      },
      "source": [
        "# Analyse the Total Amount of Money Spent by Organisation on Space Missions"
      ]
    },
    {
      "cell_type": "code",
      "execution_count": 164,
      "metadata": {
        "id": "IaJYxwEVpKHy"
      },
      "outputs": [
        {
          "data": {
            "text/html": [
              "<div>\n",
              "<style scoped>\n",
              "    .dataframe tbody tr th:only-of-type {\n",
              "        vertical-align: middle;\n",
              "    }\n",
              "\n",
              "    .dataframe tbody tr th {\n",
              "        vertical-align: top;\n",
              "    }\n",
              "\n",
              "    .dataframe thead th {\n",
              "        text-align: right;\n",
              "    }\n",
              "</style>\n",
              "<table border=\"1\" class=\"dataframe\">\n",
              "  <thead>\n",
              "    <tr style=\"text-align: right;\">\n",
              "      <th></th>\n",
              "      <th>Price</th>\n",
              "    </tr>\n",
              "    <tr>\n",
              "      <th>Organisation</th>\n",
              "      <th></th>\n",
              "    </tr>\n",
              "  </thead>\n",
              "  <tbody>\n",
              "    <tr>\n",
              "      <th>NASA</th>\n",
              "      <td>67,050.00</td>\n",
              "    </tr>\n",
              "    <tr>\n",
              "      <th>Arianespace</th>\n",
              "      <td>16,345.00</td>\n",
              "    </tr>\n",
              "    <tr>\n",
              "      <th>ULA</th>\n",
              "      <td>14,798.00</td>\n",
              "    </tr>\n",
              "    <tr>\n",
              "      <th>CASC</th>\n",
              "      <td>6,340.26</td>\n",
              "    </tr>\n",
              "    <tr>\n",
              "      <th>SpaceX</th>\n",
              "      <td>5,444.00</td>\n",
              "    </tr>\n",
              "    <tr>\n",
              "      <th>Northrop</th>\n",
              "      <td>3,930.00</td>\n",
              "    </tr>\n",
              "    <tr>\n",
              "      <th>MHI</th>\n",
              "      <td>3,532.50</td>\n",
              "    </tr>\n",
              "    <tr>\n",
              "      <th>ISRO</th>\n",
              "      <td>2,177.00</td>\n",
              "    </tr>\n",
              "    <tr>\n",
              "      <th>US Air Force</th>\n",
              "      <td>1,550.92</td>\n",
              "    </tr>\n",
              "    <tr>\n",
              "      <th>VKS RF</th>\n",
              "      <td>1,548.90</td>\n",
              "    </tr>\n",
              "    <tr>\n",
              "      <th>ILS</th>\n",
              "      <td>1,320.00</td>\n",
              "    </tr>\n",
              "    <tr>\n",
              "      <th>Boeing</th>\n",
              "      <td>1,241.00</td>\n",
              "    </tr>\n",
              "    <tr>\n",
              "      <th>Roscosmos</th>\n",
              "      <td>1,187.50</td>\n",
              "    </tr>\n",
              "    <tr>\n",
              "      <th>Martin Marietta</th>\n",
              "      <td>721.40</td>\n",
              "    </tr>\n",
              "    <tr>\n",
              "      <th>Kosmotras</th>\n",
              "      <td>638.00</td>\n",
              "    </tr>\n",
              "    <tr>\n",
              "      <th>Eurockot</th>\n",
              "      <td>543.40</td>\n",
              "    </tr>\n",
              "    <tr>\n",
              "      <th>Lockheed</th>\n",
              "      <td>280.00</td>\n",
              "    </tr>\n",
              "    <tr>\n",
              "      <th>JAXA</th>\n",
              "      <td>168.00</td>\n",
              "    </tr>\n",
              "    <tr>\n",
              "      <th>Rocket Lab</th>\n",
              "      <td>97.50</td>\n",
              "    </tr>\n",
              "    <tr>\n",
              "      <th>ESA</th>\n",
              "      <td>37.00</td>\n",
              "    </tr>\n",
              "    <tr>\n",
              "      <th>ExPace</th>\n",
              "      <td>28.30</td>\n",
              "    </tr>\n",
              "    <tr>\n",
              "      <th>EER</th>\n",
              "      <td>20.00</td>\n",
              "    </tr>\n",
              "    <tr>\n",
              "      <th>Sandia</th>\n",
              "      <td>15.00</td>\n",
              "    </tr>\n",
              "    <tr>\n",
              "      <th>Virgin Orbit</th>\n",
              "      <td>12.00</td>\n",
              "    </tr>\n",
              "  </tbody>\n",
              "</table>\n",
              "</div>"
            ],
            "text/plain": [
              "                    Price\n",
              "Organisation             \n",
              "NASA            67,050.00\n",
              "Arianespace     16,345.00\n",
              "ULA             14,798.00\n",
              "CASC             6,340.26\n",
              "SpaceX           5,444.00\n",
              "Northrop         3,930.00\n",
              "MHI              3,532.50\n",
              "ISRO             2,177.00\n",
              "US Air Force     1,550.92\n",
              "VKS RF           1,548.90\n",
              "ILS              1,320.00\n",
              "Boeing           1,241.00\n",
              "Roscosmos        1,187.50\n",
              "Martin Marietta    721.40\n",
              "Kosmotras          638.00\n",
              "Eurockot           543.40\n",
              "Lockheed           280.00\n",
              "JAXA               168.00\n",
              "Rocket Lab          97.50\n",
              "ESA                 37.00\n",
              "ExPace              28.30\n",
              "EER                 20.00\n",
              "Sandia              15.00\n",
              "Virgin Orbit        12.00"
            ]
          },
          "execution_count": 164,
          "metadata": {},
          "output_type": "execute_result"
        }
      ],
      "source": [
        "\n",
        "df_data.groupby(\"Organisation\").agg({\"Price\":pd.Series.sum}).sort_values(\"Price\", ascending=False)"
      ]
    },
    {
      "cell_type": "code",
      "execution_count": null,
      "metadata": {
        "id": "orIFf-appPDL"
      },
      "outputs": [],
      "source": []
    },
    {
      "cell_type": "code",
      "execution_count": null,
      "metadata": {
        "id": "86OMPfpEpO7R"
      },
      "outputs": [],
      "source": []
    },
    {
      "cell_type": "markdown",
      "metadata": {
        "id": "DpsWkPxzpPXs"
      },
      "source": [
        "# Analyse the Amount of Money Spent by Organisation per Launch"
      ]
    },
    {
      "cell_type": "code",
      "execution_count": 167,
      "metadata": {
        "id": "opYJ6GiRpTk5"
      },
      "outputs": [
        {
          "data": {
            "text/html": [
              "<div>\n",
              "<style scoped>\n",
              "    .dataframe tbody tr th:only-of-type {\n",
              "        vertical-align: middle;\n",
              "    }\n",
              "\n",
              "    .dataframe tbody tr th {\n",
              "        vertical-align: top;\n",
              "    }\n",
              "\n",
              "    .dataframe thead th {\n",
              "        text-align: right;\n",
              "    }\n",
              "</style>\n",
              "<table border=\"1\" class=\"dataframe\">\n",
              "  <thead>\n",
              "    <tr style=\"text-align: right;\">\n",
              "      <th></th>\n",
              "      <th>Price</th>\n",
              "    </tr>\n",
              "    <tr>\n",
              "      <th>Organisation</th>\n",
              "      <th></th>\n",
              "    </tr>\n",
              "  </thead>\n",
              "  <tbody>\n",
              "    <tr>\n",
              "      <th>NASA</th>\n",
              "      <td>450.00</td>\n",
              "    </tr>\n",
              "    <tr>\n",
              "      <th>Arianespace</th>\n",
              "      <td>200.00</td>\n",
              "    </tr>\n",
              "    <tr>\n",
              "      <th>Boeing</th>\n",
              "      <td>164.00</td>\n",
              "    </tr>\n",
              "    <tr>\n",
              "      <th>ULA</th>\n",
              "      <td>123.00</td>\n",
              "    </tr>\n",
              "    <tr>\n",
              "      <th>ILS</th>\n",
              "      <td>109.00</td>\n",
              "    </tr>\n",
              "    <tr>\n",
              "      <th>MHI</th>\n",
              "      <td>90.00</td>\n",
              "    </tr>\n",
              "    <tr>\n",
              "      <th>US Air Force</th>\n",
              "      <td>59.00</td>\n",
              "    </tr>\n",
              "    <tr>\n",
              "      <th>SpaceX</th>\n",
              "      <td>56.50</td>\n",
              "    </tr>\n",
              "    <tr>\n",
              "      <th>Roscosmos</th>\n",
              "      <td>48.50</td>\n",
              "    </tr>\n",
              "    <tr>\n",
              "      <th>Eurockot</th>\n",
              "      <td>41.80</td>\n",
              "    </tr>\n",
              "    <tr>\n",
              "      <th>VKS RF</th>\n",
              "      <td>41.80</td>\n",
              "    </tr>\n",
              "    <tr>\n",
              "      <th>Northrop</th>\n",
              "      <td>40.00</td>\n",
              "    </tr>\n",
              "    <tr>\n",
              "      <th>JAXA</th>\n",
              "      <td>39.00</td>\n",
              "    </tr>\n",
              "    <tr>\n",
              "      <th>ESA</th>\n",
              "      <td>37.00</td>\n",
              "    </tr>\n",
              "    <tr>\n",
              "      <th>Martin Marietta</th>\n",
              "      <td>35.00</td>\n",
              "    </tr>\n",
              "    <tr>\n",
              "      <th>Lockheed</th>\n",
              "      <td>35.00</td>\n",
              "    </tr>\n",
              "    <tr>\n",
              "      <th>ISRO</th>\n",
              "      <td>31.00</td>\n",
              "    </tr>\n",
              "    <tr>\n",
              "      <th>CASC</th>\n",
              "      <td>30.80</td>\n",
              "    </tr>\n",
              "    <tr>\n",
              "      <th>Kosmotras</th>\n",
              "      <td>29.00</td>\n",
              "    </tr>\n",
              "    <tr>\n",
              "      <th>ExPace</th>\n",
              "      <td>28.30</td>\n",
              "    </tr>\n",
              "    <tr>\n",
              "      <th>EER</th>\n",
              "      <td>20.00</td>\n",
              "    </tr>\n",
              "    <tr>\n",
              "      <th>Sandia</th>\n",
              "      <td>15.00</td>\n",
              "    </tr>\n",
              "    <tr>\n",
              "      <th>Virgin Orbit</th>\n",
              "      <td>12.00</td>\n",
              "    </tr>\n",
              "    <tr>\n",
              "      <th>Rocket Lab</th>\n",
              "      <td>7.50</td>\n",
              "    </tr>\n",
              "  </tbody>\n",
              "</table>\n",
              "</div>"
            ],
            "text/plain": [
              "                 Price\n",
              "Organisation          \n",
              "NASA            450.00\n",
              "Arianespace     200.00\n",
              "Boeing          164.00\n",
              "ULA             123.00\n",
              "ILS             109.00\n",
              "MHI              90.00\n",
              "US Air Force     59.00\n",
              "SpaceX           56.50\n",
              "Roscosmos        48.50\n",
              "Eurockot         41.80\n",
              "VKS RF           41.80\n",
              "Northrop         40.00\n",
              "JAXA             39.00\n",
              "ESA              37.00\n",
              "Martin Marietta  35.00\n",
              "Lockheed         35.00\n",
              "ISRO             31.00\n",
              "CASC             30.80\n",
              "Kosmotras        29.00\n",
              "ExPace           28.30\n",
              "EER              20.00\n",
              "Sandia           15.00\n",
              "Virgin Orbit     12.00\n",
              "Rocket Lab        7.50"
            ]
          },
          "execution_count": 167,
          "metadata": {},
          "output_type": "execute_result"
        }
      ],
      "source": [
        "df_data.groupby(\"Organisation\").agg({\"Price\":pd.Series.median}).sort_values(\"Price\", ascending=False)"
      ]
    },
    {
      "cell_type": "code",
      "execution_count": null,
      "metadata": {
        "id": "VEkHzAk2pTvj"
      },
      "outputs": [],
      "source": []
    },
    {
      "cell_type": "code",
      "execution_count": null,
      "metadata": {
        "id": "R5rFf501pKXD"
      },
      "outputs": [],
      "source": []
    },
    {
      "cell_type": "markdown",
      "metadata": {
        "id": "yRa1BbPoa-qf",
        "papermill": {
          "duration": 0.042662,
          "end_time": "2020-10-20T21:34:09.943196",
          "exception": false,
          "start_time": "2020-10-20T21:34:09.900534",
          "status": "completed"
        },
        "tags": []
      },
      "source": [
        "# Chart the Number of Launches per Year"
      ]
    },
    {
      "cell_type": "code",
      "execution_count": null,
      "metadata": {
        "id": "_9FohVh3pcAJ"
      },
      "outputs": [],
      "source": []
    },
    {
      "cell_type": "code",
      "execution_count": null,
      "metadata": {
        "id": "b2pggcZBpb4x"
      },
      "outputs": [],
      "source": []
    },
    {
      "cell_type": "markdown",
      "metadata": {
        "id": "NomJVLi3tIaM"
      },
      "source": [
        "# Chart the Number of Launches Month-on-Month until the Present\n",
        "\n",
        "Which month has seen the highest number of launches in all time? Superimpose a rolling average on the month on month time series chart. "
      ]
    },
    {
      "cell_type": "code",
      "execution_count": 169,
      "metadata": {
        "id": "H1N2aBs5tH9z"
      },
      "outputs": [
        {
          "data": {
            "text/html": [
              "<div>\n",
              "<style scoped>\n",
              "    .dataframe tbody tr th:only-of-type {\n",
              "        vertical-align: middle;\n",
              "    }\n",
              "\n",
              "    .dataframe tbody tr th {\n",
              "        vertical-align: top;\n",
              "    }\n",
              "\n",
              "    .dataframe thead th {\n",
              "        text-align: right;\n",
              "    }\n",
              "</style>\n",
              "<table border=\"1\" class=\"dataframe\">\n",
              "  <thead>\n",
              "    <tr style=\"text-align: right;\">\n",
              "      <th></th>\n",
              "      <th>Organisation</th>\n",
              "      <th>Location</th>\n",
              "      <th>Date</th>\n",
              "      <th>Detail</th>\n",
              "      <th>Rocket_Status</th>\n",
              "      <th>Price</th>\n",
              "      <th>Mission_Status</th>\n",
              "      <th>Country_ISO</th>\n",
              "    </tr>\n",
              "  </thead>\n",
              "  <tbody>\n",
              "    <tr>\n",
              "      <th>0</th>\n",
              "      <td>SpaceX</td>\n",
              "      <td>LC-39A, Kennedy Space Center, Florida, USA</td>\n",
              "      <td>2020-08-07</td>\n",
              "      <td>Falcon 9 Block 5 | Starlink V1 L9 &amp; BlackSky</td>\n",
              "      <td>StatusActive</td>\n",
              "      <td>50.00</td>\n",
              "      <td>Success</td>\n",
              "      <td>USA</td>\n",
              "    </tr>\n",
              "    <tr>\n",
              "      <th>1</th>\n",
              "      <td>CASC</td>\n",
              "      <td>Site 9401 (SLS-2), Jiuquan Satellite Launch Ce...</td>\n",
              "      <td>2020-08-06</td>\n",
              "      <td>Long March 2D | Gaofen-9 04 &amp; Q-SAT</td>\n",
              "      <td>StatusActive</td>\n",
              "      <td>29.75</td>\n",
              "      <td>Success</td>\n",
              "      <td>CHN</td>\n",
              "    </tr>\n",
              "    <tr>\n",
              "      <th>3</th>\n",
              "      <td>Roscosmos</td>\n",
              "      <td>Site 200/39, Baikonur Cosmodrome, Kazakhstan</td>\n",
              "      <td>2020-07-30</td>\n",
              "      <td>Proton-M/Briz-M | Ekspress-80 &amp; Ekspress-103</td>\n",
              "      <td>StatusActive</td>\n",
              "      <td>65.00</td>\n",
              "      <td>Success</td>\n",
              "      <td>KAZ</td>\n",
              "    </tr>\n",
              "    <tr>\n",
              "      <th>4</th>\n",
              "      <td>ULA</td>\n",
              "      <td>SLC-41, Cape Canaveral AFS, Florida, USA</td>\n",
              "      <td>2020-07-30</td>\n",
              "      <td>Atlas V 541 | Perseverance</td>\n",
              "      <td>StatusActive</td>\n",
              "      <td>145.00</td>\n",
              "      <td>Success</td>\n",
              "      <td>USA</td>\n",
              "    </tr>\n",
              "    <tr>\n",
              "      <th>5</th>\n",
              "      <td>CASC</td>\n",
              "      <td>LC-9, Taiyuan Satellite Launch Center, China</td>\n",
              "      <td>2020-07-25</td>\n",
              "      <td>Long March 4B | Ziyuan-3 03, Apocalypse-10 &amp; N...</td>\n",
              "      <td>StatusActive</td>\n",
              "      <td>64.68</td>\n",
              "      <td>Success</td>\n",
              "      <td>CHN</td>\n",
              "    </tr>\n",
              "    <tr>\n",
              "      <th>...</th>\n",
              "      <td>...</td>\n",
              "      <td>...</td>\n",
              "      <td>...</td>\n",
              "      <td>...</td>\n",
              "      <td>...</td>\n",
              "      <td>...</td>\n",
              "      <td>...</td>\n",
              "      <td>...</td>\n",
              "    </tr>\n",
              "    <tr>\n",
              "      <th>3855</th>\n",
              "      <td>US Air Force</td>\n",
              "      <td>SLC-4W, Vandenberg AFB, California, USA</td>\n",
              "      <td>1966-07-29</td>\n",
              "      <td>Titan IIIB | KH-8</td>\n",
              "      <td>StatusRetired</td>\n",
              "      <td>59.00</td>\n",
              "      <td>Success</td>\n",
              "      <td>USA</td>\n",
              "    </tr>\n",
              "    <tr>\n",
              "      <th>3971</th>\n",
              "      <td>US Air Force</td>\n",
              "      <td>SLC-20, Cape Canaveral AFS, Florida, USA</td>\n",
              "      <td>1965-05-06</td>\n",
              "      <td>Titan IIIA | LES 2 &amp; LCS 1</td>\n",
              "      <td>StatusRetired</td>\n",
              "      <td>63.23</td>\n",
              "      <td>Success</td>\n",
              "      <td>USA</td>\n",
              "    </tr>\n",
              "    <tr>\n",
              "      <th>3993</th>\n",
              "      <td>US Air Force</td>\n",
              "      <td>SLC-20, Cape Canaveral AFS, Florida, USA</td>\n",
              "      <td>1965-02-11</td>\n",
              "      <td>Titan IIIA | LES 1</td>\n",
              "      <td>StatusRetired</td>\n",
              "      <td>63.23</td>\n",
              "      <td>Success</td>\n",
              "      <td>USA</td>\n",
              "    </tr>\n",
              "    <tr>\n",
              "      <th>4000</th>\n",
              "      <td>US Air Force</td>\n",
              "      <td>SLC-20, Cape Canaveral AFS, Florida, USA</td>\n",
              "      <td>1964-12-10</td>\n",
              "      <td>Titan IIIA | Transtage 2</td>\n",
              "      <td>StatusRetired</td>\n",
              "      <td>63.23</td>\n",
              "      <td>Success</td>\n",
              "      <td>USA</td>\n",
              "    </tr>\n",
              "    <tr>\n",
              "      <th>4020</th>\n",
              "      <td>US Air Force</td>\n",
              "      <td>SLC-20, Cape Canaveral AFS, Florida, USA</td>\n",
              "      <td>1964-09-01</td>\n",
              "      <td>Titan IIIA | Transtage 1</td>\n",
              "      <td>StatusRetired</td>\n",
              "      <td>63.23</td>\n",
              "      <td>Failure</td>\n",
              "      <td>USA</td>\n",
              "    </tr>\n",
              "  </tbody>\n",
              "</table>\n",
              "<p>962 rows × 8 columns</p>\n",
              "</div>"
            ],
            "text/plain": [
              "      Organisation                                           Location  \\\n",
              "0           SpaceX         LC-39A, Kennedy Space Center, Florida, USA   \n",
              "1             CASC  Site 9401 (SLS-2), Jiuquan Satellite Launch Ce...   \n",
              "3        Roscosmos       Site 200/39, Baikonur Cosmodrome, Kazakhstan   \n",
              "4              ULA           SLC-41, Cape Canaveral AFS, Florida, USA   \n",
              "5             CASC       LC-9, Taiyuan Satellite Launch Center, China   \n",
              "...            ...                                                ...   \n",
              "3855  US Air Force            SLC-4W, Vandenberg AFB, California, USA   \n",
              "3971  US Air Force           SLC-20, Cape Canaveral AFS, Florida, USA   \n",
              "3993  US Air Force           SLC-20, Cape Canaveral AFS, Florida, USA   \n",
              "4000  US Air Force           SLC-20, Cape Canaveral AFS, Florida, USA   \n",
              "4020  US Air Force           SLC-20, Cape Canaveral AFS, Florida, USA   \n",
              "\n",
              "           Date                                             Detail  \\\n",
              "0    2020-08-07       Falcon 9 Block 5 | Starlink V1 L9 & BlackSky   \n",
              "1    2020-08-06                Long March 2D | Gaofen-9 04 & Q-SAT   \n",
              "3    2020-07-30       Proton-M/Briz-M | Ekspress-80 & Ekspress-103   \n",
              "4    2020-07-30                         Atlas V 541 | Perseverance   \n",
              "5    2020-07-25  Long March 4B | Ziyuan-3 03, Apocalypse-10 & N...   \n",
              "...         ...                                                ...   \n",
              "3855 1966-07-29                                  Titan IIIB | KH-8   \n",
              "3971 1965-05-06                         Titan IIIA | LES 2 & LCS 1   \n",
              "3993 1965-02-11                                 Titan IIIA | LES 1   \n",
              "4000 1964-12-10                           Titan IIIA | Transtage 2   \n",
              "4020 1964-09-01                           Titan IIIA | Transtage 1   \n",
              "\n",
              "      Rocket_Status  Price Mission_Status Country_ISO  \n",
              "0      StatusActive  50.00        Success         USA  \n",
              "1      StatusActive  29.75        Success         CHN  \n",
              "3      StatusActive  65.00        Success         KAZ  \n",
              "4      StatusActive 145.00        Success         USA  \n",
              "5      StatusActive  64.68        Success         CHN  \n",
              "...             ...    ...            ...         ...  \n",
              "3855  StatusRetired  59.00        Success         USA  \n",
              "3971  StatusRetired  63.23        Success         USA  \n",
              "3993  StatusRetired  63.23        Success         USA  \n",
              "4000  StatusRetired  63.23        Success         USA  \n",
              "4020  StatusRetired  63.23        Failure         USA  \n",
              "\n",
              "[962 rows x 8 columns]"
            ]
          },
          "execution_count": 169,
          "metadata": {},
          "output_type": "execute_result"
        }
      ],
      "source": [
        "df_data_time_cleaned = df_data_orig.copy()\n",
        "\n",
        "\n",
        "date_cleaned = []\n",
        "for date in df_data_time_cleaned[\"Date\"]:\n",
        "    date_cleaned.append(\" \".join(date.split(\" \")[1:4]).replace(\",\",\"\").strip())\n",
        "\n",
        "month_mapping = {\n",
        "    \"Jan\": \"January\",\n",
        "    \"Feb\": \"February\",\n",
        "    \"Mar\": \"March\",\n",
        "    \"Apr\": \"April\",\n",
        "    \"May\": \"May\",\n",
        "    \"Jun\": \"June\",\n",
        "    \"Jul\": \"July\",\n",
        "    \"Aug\": \"August\",\n",
        "    \"Sep\": \"September\",\n",
        "    \"Oct\": \"October\",\n",
        "    \"Nov\": \"November\",\n",
        "    \"Dec\": \"December\"\n",
        "}\n",
        "\n",
        "def map_month(date):\n",
        "    parts = date.split()\n",
        "    parts[0] = month_mapping.get(parts[0], parts[0])\n",
        "\n",
        "    return \"-\".join(parts)\n",
        "\n",
        "dates_full_month = list(map(map_month, date_cleaned))\n",
        "\n",
        "\n",
        "\n",
        "df_data_time_cleaned[\"Date\"] = dates_full_month\n",
        "df_data_time_cleaned[\"Date\"] = pd.to_datetime(df_data_time_cleaned[\"Date\"], errors=\"coerce\", format=\"%B-%d-%Y\")\n",
        "df_data_time_cleaned"
      ]
    },
    {
      "cell_type": "code",
      "execution_count": null,
      "metadata": {
        "id": "pfw0aX1lpdRv"
      },
      "outputs": [],
      "source": []
    },
    {
      "cell_type": "markdown",
      "metadata": {
        "id": "t-avMIZoa-qh",
        "papermill": {
          "duration": 0.044409,
          "end_time": "2020-10-20T21:34:10.162592",
          "exception": false,
          "start_time": "2020-10-20T21:34:10.118183",
          "status": "completed"
        },
        "tags": []
      },
      "source": [
        "# Launches per Month: Which months are most popular and least popular for launches?\n",
        "\n",
        "Some months have better weather than others. Which time of year seems to be best for space missions?"
      ]
    },
    {
      "cell_type": "code",
      "execution_count": 170,
      "metadata": {
        "id": "zmtp5uBHppFG"
      },
      "outputs": [
        {
          "data": {
            "text/html": [
              "<div>\n",
              "<style scoped>\n",
              "    .dataframe tbody tr th:only-of-type {\n",
              "        vertical-align: middle;\n",
              "    }\n",
              "\n",
              "    .dataframe tbody tr th {\n",
              "        vertical-align: top;\n",
              "    }\n",
              "\n",
              "    .dataframe thead th {\n",
              "        text-align: right;\n",
              "    }\n",
              "</style>\n",
              "<table border=\"1\" class=\"dataframe\">\n",
              "  <thead>\n",
              "    <tr style=\"text-align: right;\">\n",
              "      <th></th>\n",
              "      <th>Organisation</th>\n",
              "      <th>Location</th>\n",
              "      <th>Date</th>\n",
              "      <th>Detail</th>\n",
              "      <th>Rocket_Status</th>\n",
              "      <th>Price</th>\n",
              "      <th>Mission_Status</th>\n",
              "      <th>Country_ISO</th>\n",
              "      <th>Month</th>\n",
              "      <th>Year</th>\n",
              "    </tr>\n",
              "  </thead>\n",
              "  <tbody>\n",
              "    <tr>\n",
              "      <th>0</th>\n",
              "      <td>SpaceX</td>\n",
              "      <td>LC-39A, Kennedy Space Center, Florida, USA</td>\n",
              "      <td>2020-08-07</td>\n",
              "      <td>Falcon 9 Block 5 | Starlink V1 L9 &amp; BlackSky</td>\n",
              "      <td>StatusActive</td>\n",
              "      <td>50.00</td>\n",
              "      <td>Success</td>\n",
              "      <td>USA</td>\n",
              "      <td>8</td>\n",
              "      <td>2020</td>\n",
              "    </tr>\n",
              "    <tr>\n",
              "      <th>1</th>\n",
              "      <td>CASC</td>\n",
              "      <td>Site 9401 (SLS-2), Jiuquan Satellite Launch Ce...</td>\n",
              "      <td>2020-08-06</td>\n",
              "      <td>Long March 2D | Gaofen-9 04 &amp; Q-SAT</td>\n",
              "      <td>StatusActive</td>\n",
              "      <td>29.75</td>\n",
              "      <td>Success</td>\n",
              "      <td>CHN</td>\n",
              "      <td>8</td>\n",
              "      <td>2020</td>\n",
              "    </tr>\n",
              "    <tr>\n",
              "      <th>3</th>\n",
              "      <td>Roscosmos</td>\n",
              "      <td>Site 200/39, Baikonur Cosmodrome, Kazakhstan</td>\n",
              "      <td>2020-07-30</td>\n",
              "      <td>Proton-M/Briz-M | Ekspress-80 &amp; Ekspress-103</td>\n",
              "      <td>StatusActive</td>\n",
              "      <td>65.00</td>\n",
              "      <td>Success</td>\n",
              "      <td>KAZ</td>\n",
              "      <td>7</td>\n",
              "      <td>2020</td>\n",
              "    </tr>\n",
              "    <tr>\n",
              "      <th>4</th>\n",
              "      <td>ULA</td>\n",
              "      <td>SLC-41, Cape Canaveral AFS, Florida, USA</td>\n",
              "      <td>2020-07-30</td>\n",
              "      <td>Atlas V 541 | Perseverance</td>\n",
              "      <td>StatusActive</td>\n",
              "      <td>145.00</td>\n",
              "      <td>Success</td>\n",
              "      <td>USA</td>\n",
              "      <td>7</td>\n",
              "      <td>2020</td>\n",
              "    </tr>\n",
              "    <tr>\n",
              "      <th>5</th>\n",
              "      <td>CASC</td>\n",
              "      <td>LC-9, Taiyuan Satellite Launch Center, China</td>\n",
              "      <td>2020-07-25</td>\n",
              "      <td>Long March 4B | Ziyuan-3 03, Apocalypse-10 &amp; N...</td>\n",
              "      <td>StatusActive</td>\n",
              "      <td>64.68</td>\n",
              "      <td>Success</td>\n",
              "      <td>CHN</td>\n",
              "      <td>7</td>\n",
              "      <td>2020</td>\n",
              "    </tr>\n",
              "  </tbody>\n",
              "</table>\n",
              "</div>"
            ],
            "text/plain": [
              "  Organisation                                           Location       Date  \\\n",
              "0       SpaceX         LC-39A, Kennedy Space Center, Florida, USA 2020-08-07   \n",
              "1         CASC  Site 9401 (SLS-2), Jiuquan Satellite Launch Ce... 2020-08-06   \n",
              "3    Roscosmos       Site 200/39, Baikonur Cosmodrome, Kazakhstan 2020-07-30   \n",
              "4          ULA           SLC-41, Cape Canaveral AFS, Florida, USA 2020-07-30   \n",
              "5         CASC       LC-9, Taiyuan Satellite Launch Center, China 2020-07-25   \n",
              "\n",
              "                                              Detail Rocket_Status  Price  \\\n",
              "0       Falcon 9 Block 5 | Starlink V1 L9 & BlackSky  StatusActive  50.00   \n",
              "1                Long March 2D | Gaofen-9 04 & Q-SAT  StatusActive  29.75   \n",
              "3       Proton-M/Briz-M | Ekspress-80 & Ekspress-103  StatusActive  65.00   \n",
              "4                         Atlas V 541 | Perseverance  StatusActive 145.00   \n",
              "5  Long March 4B | Ziyuan-3 03, Apocalypse-10 & N...  StatusActive  64.68   \n",
              "\n",
              "  Mission_Status Country_ISO  Month  Year  \n",
              "0        Success         USA      8  2020  \n",
              "1        Success         CHN      8  2020  \n",
              "3        Success         KAZ      7  2020  \n",
              "4        Success         USA      7  2020  \n",
              "5        Success         CHN      7  2020  "
            ]
          },
          "execution_count": 170,
          "metadata": {},
          "output_type": "execute_result"
        }
      ],
      "source": [
        "df_data_time_cleaned[\"Month\"] = df_data_time_cleaned[\"Date\"].dt.month\n",
        "df_data_time_cleaned[\"Year\"] = df_data_time_cleaned[\"Date\"].dt.year\n",
        "df_data_time_cleaned.head(5)"
      ]
    },
    {
      "cell_type": "code",
      "execution_count": 172,
      "metadata": {
        "id": "fnk2m_cpppJo"
      },
      "outputs": [
        {
          "data": {
            "text/html": [
              "<div>\n",
              "<style scoped>\n",
              "    .dataframe tbody tr th:only-of-type {\n",
              "        vertical-align: middle;\n",
              "    }\n",
              "\n",
              "    .dataframe tbody tr th {\n",
              "        vertical-align: top;\n",
              "    }\n",
              "\n",
              "    .dataframe thead th {\n",
              "        text-align: right;\n",
              "    }\n",
              "</style>\n",
              "<table border=\"1\" class=\"dataframe\">\n",
              "  <thead>\n",
              "    <tr style=\"text-align: right;\">\n",
              "      <th></th>\n",
              "      <th>Month</th>\n",
              "      <th>counts</th>\n",
              "    </tr>\n",
              "  </thead>\n",
              "  <tbody>\n",
              "    <tr>\n",
              "      <th>0</th>\n",
              "      <td>1</td>\n",
              "      <td>66</td>\n",
              "    </tr>\n",
              "    <tr>\n",
              "      <th>1</th>\n",
              "      <td>2</td>\n",
              "      <td>60</td>\n",
              "    </tr>\n",
              "    <tr>\n",
              "      <th>2</th>\n",
              "      <td>3</td>\n",
              "      <td>77</td>\n",
              "    </tr>\n",
              "    <tr>\n",
              "      <th>3</th>\n",
              "      <td>4</td>\n",
              "      <td>91</td>\n",
              "    </tr>\n",
              "    <tr>\n",
              "      <th>4</th>\n",
              "      <td>5</td>\n",
              "      <td>85</td>\n",
              "    </tr>\n",
              "    <tr>\n",
              "      <th>5</th>\n",
              "      <td>6</td>\n",
              "      <td>85</td>\n",
              "    </tr>\n",
              "    <tr>\n",
              "      <th>6</th>\n",
              "      <td>7</td>\n",
              "      <td>77</td>\n",
              "    </tr>\n",
              "    <tr>\n",
              "      <th>7</th>\n",
              "      <td>8</td>\n",
              "      <td>82</td>\n",
              "    </tr>\n",
              "    <tr>\n",
              "      <th>8</th>\n",
              "      <td>9</td>\n",
              "      <td>88</td>\n",
              "    </tr>\n",
              "    <tr>\n",
              "      <th>9</th>\n",
              "      <td>10</td>\n",
              "      <td>83</td>\n",
              "    </tr>\n",
              "    <tr>\n",
              "      <th>10</th>\n",
              "      <td>11</td>\n",
              "      <td>76</td>\n",
              "    </tr>\n",
              "    <tr>\n",
              "      <th>11</th>\n",
              "      <td>12</td>\n",
              "      <td>92</td>\n",
              "    </tr>\n",
              "  </tbody>\n",
              "</table>\n",
              "</div>"
            ],
            "text/plain": [
              "    Month  counts\n",
              "0       1      66\n",
              "1       2      60\n",
              "2       3      77\n",
              "3       4      91\n",
              "4       5      85\n",
              "5       6      85\n",
              "6       7      77\n",
              "7       8      82\n",
              "8       9      88\n",
              "9      10      83\n",
              "10     11      76\n",
              "11     12      92"
            ]
          },
          "execution_count": 172,
          "metadata": {},
          "output_type": "execute_result"
        }
      ],
      "source": [
        "df_data_time_cleaned.groupby(\"Month\").size().reset_index(name='counts')"
      ]
    },
    {
      "cell_type": "markdown",
      "metadata": {
        "id": "dPQ_N_sfa-qo",
        "papermill": {
          "duration": 0.067915,
          "end_time": "2020-10-20T21:34:11.122539",
          "exception": false,
          "start_time": "2020-10-20T21:34:11.054624",
          "status": "completed"
        },
        "tags": []
      },
      "source": [
        "# How has the Launch Price varied Over Time? \n",
        "\n",
        "Create a line chart that shows the average price of rocket launches over time. "
      ]
    },
    {
      "cell_type": "code",
      "execution_count": 173,
      "metadata": {
        "id": "hFc-2M5-qCrv"
      },
      "outputs": [
        {
          "data": {
            "text/plain": [
              "(962, 10)"
            ]
          },
          "execution_count": 173,
          "metadata": {},
          "output_type": "execute_result"
        }
      ],
      "source": [
        "df_data_time_cleaned.shape"
      ]
    },
    {
      "cell_type": "code",
      "execution_count": 174,
      "metadata": {
        "id": "ggYFiAsEqC6J"
      },
      "outputs": [
        {
          "data": {
            "text/html": [
              "<div>\n",
              "<style scoped>\n",
              "    .dataframe tbody tr th:only-of-type {\n",
              "        vertical-align: middle;\n",
              "    }\n",
              "\n",
              "    .dataframe tbody tr th {\n",
              "        vertical-align: top;\n",
              "    }\n",
              "\n",
              "    .dataframe thead th {\n",
              "        text-align: right;\n",
              "    }\n",
              "</style>\n",
              "<table border=\"1\" class=\"dataframe\">\n",
              "  <thead>\n",
              "    <tr style=\"text-align: right;\">\n",
              "      <th></th>\n",
              "      <th>Year</th>\n",
              "      <th>Price</th>\n",
              "    </tr>\n",
              "  </thead>\n",
              "  <tbody>\n",
              "    <tr>\n",
              "      <th>0</th>\n",
              "      <td>1964</td>\n",
              "      <td>63.23</td>\n",
              "    </tr>\n",
              "    <tr>\n",
              "      <th>1</th>\n",
              "      <td>1965</td>\n",
              "      <td>63.23</td>\n",
              "    </tr>\n",
              "  </tbody>\n",
              "</table>\n",
              "</div>"
            ],
            "text/plain": [
              "   Year  Price\n",
              "0  1964  63.23\n",
              "1  1965  63.23"
            ]
          },
          "execution_count": 174,
          "metadata": {},
          "output_type": "execute_result"
        }
      ],
      "source": [
        "df_price_time = df_data_time_cleaned.groupby(\"Year\").agg({\"Price\":\"mean\"}).reset_index()\n",
        "df_price_time.head(2)"
      ]
    },
    {
      "cell_type": "code",
      "execution_count": 175,
      "metadata": {},
      "outputs": [
        {
          "data": {
            "image/png": "[encoded data removed]",
            "text/plain": [
              "<Figure size 1600x600 with 1 Axes>"
            ]
          },
          "metadata": {},
          "output_type": "display_data"
        }
      ],
      "source": [
        "fig, ax = plt.subplots(figsize=(16,6))\n",
        "plt.plot(df_price_time[\"Year\"],df_price_time[\"Price\"])\n",
        "plt.xticks(np.arange(df_price_time[\"Year\"].min(), df_price_time[\"Year\"].max(), step=3))\n",
        "\n",
        "plt.show()"
      ]
    },
    {
      "cell_type": "markdown",
      "metadata": {
        "id": "8OYrWyiOa-qs",
        "papermill": {
          "duration": 0.047152,
          "end_time": "2020-10-20T21:34:11.681371",
          "exception": false,
          "start_time": "2020-10-20T21:34:11.634219",
          "status": "completed"
        },
        "tags": []
      },
      "source": [
        "# Chart the Number of Launches over Time by the Top 10 Organisations. \n",
        "\n",
        "How has the dominance of launches changed over time between the different players? "
      ]
    },
    {
      "cell_type": "code",
      "execution_count": 177,
      "metadata": {
        "id": "RcsrPPpAqVFj"
      },
      "outputs": [
        {
          "data": {
            "text/html": [
              "<div>\n",
              "<style scoped>\n",
              "    .dataframe tbody tr th:only-of-type {\n",
              "        vertical-align: middle;\n",
              "    }\n",
              "\n",
              "    .dataframe tbody tr th {\n",
              "        vertical-align: top;\n",
              "    }\n",
              "\n",
              "    .dataframe thead th {\n",
              "        text-align: right;\n",
              "    }\n",
              "</style>\n",
              "<table border=\"1\" class=\"dataframe\">\n",
              "  <thead>\n",
              "    <tr style=\"text-align: right;\">\n",
              "      <th></th>\n",
              "      <th>Organisation</th>\n",
              "      <th>counts</th>\n",
              "    </tr>\n",
              "  </thead>\n",
              "  <tbody>\n",
              "    <tr>\n",
              "      <th>2</th>\n",
              "      <td>CASC</td>\n",
              "      <td>158</td>\n",
              "    </tr>\n",
              "    <tr>\n",
              "      <th>14</th>\n",
              "      <td>NASA</td>\n",
              "      <td>149</td>\n",
              "    </tr>\n",
              "    <tr>\n",
              "      <th>19</th>\n",
              "      <td>SpaceX</td>\n",
              "      <td>99</td>\n",
              "    </tr>\n",
              "    <tr>\n",
              "      <th>20</th>\n",
              "      <td>ULA</td>\n",
              "      <td>98</td>\n",
              "    </tr>\n",
              "    <tr>\n",
              "      <th>0</th>\n",
              "      <td>Arianespace</td>\n",
              "      <td>96</td>\n",
              "    </tr>\n",
              "    <tr>\n",
              "      <th>15</th>\n",
              "      <td>Northrop</td>\n",
              "      <td>83</td>\n",
              "    </tr>\n",
              "    <tr>\n",
              "      <th>8</th>\n",
              "      <td>ISRO</td>\n",
              "      <td>67</td>\n",
              "    </tr>\n",
              "    <tr>\n",
              "      <th>12</th>\n",
              "      <td>MHI</td>\n",
              "      <td>37</td>\n",
              "    </tr>\n",
              "    <tr>\n",
              "      <th>22</th>\n",
              "      <td>VKS RF</td>\n",
              "      <td>33</td>\n",
              "    </tr>\n",
              "    <tr>\n",
              "      <th>21</th>\n",
              "      <td>US Air Force</td>\n",
              "      <td>26</td>\n",
              "    </tr>\n",
              "  </tbody>\n",
              "</table>\n",
              "</div>"
            ],
            "text/plain": [
              "    Organisation  counts\n",
              "2           CASC     158\n",
              "14          NASA     149\n",
              "19        SpaceX      99\n",
              "20           ULA      98\n",
              "0    Arianespace      96\n",
              "15      Northrop      83\n",
              "8           ISRO      67\n",
              "12           MHI      37\n",
              "22        VKS RF      33\n",
              "21  US Air Force      26"
            ]
          },
          "execution_count": 177,
          "metadata": {},
          "output_type": "execute_result"
        }
      ],
      "source": [
        "df_price_time_organisation = df_data_time_cleaned.groupby([\"Year\",\"Organisation\"]).size().reset_index(name='counts')\n",
        "\n",
        "organisation_counts = df_price_time_organisation.groupby(\"Organisation\")[\"counts\"].sum().reset_index()\n",
        "\n",
        "\n",
        "sorted_organisations = organisation_counts.sort_values(\"counts\", ascending=False)\n",
        "\n",
        "top_10_organisations = sorted_organisations.head(10)\n",
        "\n",
        "top_10_organisations"
      ]
    },
    {
      "cell_type": "code",
      "execution_count": 178,
      "metadata": {
        "id": "1IgfafiyqWEe"
      },
      "outputs": [
        {
          "data": {
            "text/plain": [
              "['CASC',\n",
              " 'NASA',\n",
              " 'SpaceX',\n",
              " 'ULA',\n",
              " 'Arianespace',\n",
              " 'Northrop',\n",
              " 'ISRO',\n",
              " 'MHI',\n",
              " 'VKS RF',\n",
              " 'US Air Force']"
            ]
          },
          "execution_count": 178,
          "metadata": {},
          "output_type": "execute_result"
        }
      ],
      "source": [
        "top_10_organisations[\"Organisation\"].to_list()"
      ]
    },
    {
      "cell_type": "code",
      "execution_count": 179,
      "metadata": {
        "id": "akCDKT8CqVjG"
      },
      "outputs": [
        {
          "data": {
            "text/html": [
              "<div>\n",
              "<style scoped>\n",
              "    .dataframe tbody tr th:only-of-type {\n",
              "        vertical-align: middle;\n",
              "    }\n",
              "\n",
              "    .dataframe tbody tr th {\n",
              "        vertical-align: top;\n",
              "    }\n",
              "\n",
              "    .dataframe thead th {\n",
              "        text-align: right;\n",
              "    }\n",
              "</style>\n",
              "<table border=\"1\" class=\"dataframe\">\n",
              "  <thead>\n",
              "    <tr style=\"text-align: right;\">\n",
              "      <th></th>\n",
              "      <th>Year</th>\n",
              "      <th>Organisation</th>\n",
              "      <th>counts</th>\n",
              "    </tr>\n",
              "  </thead>\n",
              "  <tbody>\n",
              "    <tr>\n",
              "      <th>0</th>\n",
              "      <td>1964</td>\n",
              "      <td>US Air Force</td>\n",
              "      <td>2</td>\n",
              "    </tr>\n",
              "    <tr>\n",
              "      <th>1</th>\n",
              "      <td>1965</td>\n",
              "      <td>US Air Force</td>\n",
              "      <td>2</td>\n",
              "    </tr>\n",
              "    <tr>\n",
              "      <th>2</th>\n",
              "      <td>1966</td>\n",
              "      <td>US Air Force</td>\n",
              "      <td>3</td>\n",
              "    </tr>\n",
              "    <tr>\n",
              "      <th>3</th>\n",
              "      <td>1967</td>\n",
              "      <td>NASA</td>\n",
              "      <td>1</td>\n",
              "    </tr>\n",
              "    <tr>\n",
              "      <th>4</th>\n",
              "      <td>1967</td>\n",
              "      <td>US Air Force</td>\n",
              "      <td>7</td>\n",
              "    </tr>\n",
              "    <tr>\n",
              "      <th>...</th>\n",
              "      <td>...</td>\n",
              "      <td>...</td>\n",
              "      <td>...</td>\n",
              "    </tr>\n",
              "    <tr>\n",
              "      <th>258</th>\n",
              "      <td>2020</td>\n",
              "      <td>MHI</td>\n",
              "      <td>2</td>\n",
              "    </tr>\n",
              "    <tr>\n",
              "      <th>259</th>\n",
              "      <td>2020</td>\n",
              "      <td>Northrop</td>\n",
              "      <td>2</td>\n",
              "    </tr>\n",
              "    <tr>\n",
              "      <th>262</th>\n",
              "      <td>2020</td>\n",
              "      <td>SpaceX</td>\n",
              "      <td>13</td>\n",
              "    </tr>\n",
              "    <tr>\n",
              "      <th>263</th>\n",
              "      <td>2020</td>\n",
              "      <td>ULA</td>\n",
              "      <td>4</td>\n",
              "    </tr>\n",
              "    <tr>\n",
              "      <th>264</th>\n",
              "      <td>2020</td>\n",
              "      <td>VKS RF</td>\n",
              "      <td>1</td>\n",
              "    </tr>\n",
              "  </tbody>\n",
              "</table>\n",
              "<p>201 rows × 3 columns</p>\n",
              "</div>"
            ],
            "text/plain": [
              "     Year  Organisation  counts\n",
              "0    1964  US Air Force       2\n",
              "1    1965  US Air Force       2\n",
              "2    1966  US Air Force       3\n",
              "3    1967          NASA       1\n",
              "4    1967  US Air Force       7\n",
              "..    ...           ...     ...\n",
              "258  2020           MHI       2\n",
              "259  2020      Northrop       2\n",
              "262  2020        SpaceX      13\n",
              "263  2020           ULA       4\n",
              "264  2020        VKS RF       1\n",
              "\n",
              "[201 rows x 3 columns]"
            ]
          },
          "execution_count": 179,
          "metadata": {},
          "output_type": "execute_result"
        }
      ],
      "source": [
        "df_plot_rdy = df_price_time_organisation[df_price_time_organisation[\"Organisation\"].isin(top_10_organisations[\"Organisation\"].to_list())]\n",
        "df_plot_rdy"
      ]
    },
    {
      "cell_type": "code",
      "execution_count": 180,
      "metadata": {},
      "outputs": [
        {
          "data": {
            "image/png": "[encoded data removed]",
            "text/plain": [
              "<Figure size 1600x600 with 1 Axes>"
            ]
          },
          "metadata": {},
          "output_type": "display_data"
        }
      ],
      "source": [
        "\n",
        "fig, ax = plt.subplots(figsize=(16, 6))\n",
        "\n",
        "organizations = df_plot_rdy[\"Organisation\"].unique()\n",
        "\n",
        "colors = plt.cm.tab10(np.linspace(0, 1, len(organizations)))\n",
        "\n",
        "for i, (org, color) in enumerate(zip(organizations, colors)):\n",
        "    org_data = df_plot_rdy[df_plot_rdy[\"Organisation\"] == org]\n",
        "    ax.bar(org_data[\"Year\"], org_data[\"counts\"], color=color, label=org, alpha=0.7)\n",
        "\n",
        "plt.xticks(np.arange(df_plot_rdy[\"Year\"].min(), df_plot_rdy[\"Year\"].max(), step=3))\n",
        "plt.legend()\n",
        "plt.show()"
      ]
    },
    {
      "cell_type": "markdown",
      "metadata": {
        "id": "6Cm8_ch6a-q7",
        "papermill": {
          "duration": 0.052399,
          "end_time": "2020-10-20T21:34:13.756781",
          "exception": false,
          "start_time": "2020-10-20T21:34:13.704382",
          "status": "completed"
        },
        "tags": []
      },
      "source": [
        "# Cold War Space Race: USA vs USSR\n",
        "\n",
        "The cold war lasted from the start of the dataset up until 1991. "
      ]
    },
    {
      "cell_type": "code",
      "execution_count": 181,
      "metadata": {
        "id": "AcE_U8csrICL"
      },
      "outputs": [
        {
          "data": {
            "text/plain": [
              "Month\n",
              "1     66\n",
              "2     60\n",
              "3     77\n",
              "4     91\n",
              "5     85\n",
              "6     85\n",
              "7     77\n",
              "8     82\n",
              "9     88\n",
              "10    83\n",
              "11    76\n",
              "12    92\n",
              "dtype: int64"
            ]
          },
          "execution_count": 181,
          "metadata": {},
          "output_type": "execute_result"
        }
      ],
      "source": [
        "df_data_time_cleaned.groupby(\"Month\").size()"
      ]
    },
    {
      "cell_type": "code",
      "execution_count": 182,
      "metadata": {
        "id": "cOe_t4OmrHr9"
      },
      "outputs": [
        {
          "data": {
            "text/html": [
              "<div>\n",
              "<style scoped>\n",
              "    .dataframe tbody tr th:only-of-type {\n",
              "        vertical-align: middle;\n",
              "    }\n",
              "\n",
              "    .dataframe tbody tr th {\n",
              "        vertical-align: top;\n",
              "    }\n",
              "\n",
              "    .dataframe thead th {\n",
              "        text-align: right;\n",
              "    }\n",
              "</style>\n",
              "<table border=\"1\" class=\"dataframe\">\n",
              "  <thead>\n",
              "    <tr style=\"text-align: right;\">\n",
              "      <th></th>\n",
              "      <th>Organisation</th>\n",
              "      <th>Location</th>\n",
              "      <th>Date</th>\n",
              "      <th>Detail</th>\n",
              "      <th>Rocket_Status</th>\n",
              "      <th>Price</th>\n",
              "      <th>Mission_Status</th>\n",
              "      <th>Country_ISO</th>\n",
              "      <th>Month</th>\n",
              "      <th>Year</th>\n",
              "    </tr>\n",
              "  </thead>\n",
              "  <tbody>\n",
              "    <tr>\n",
              "      <th>0</th>\n",
              "      <td>SpaceX</td>\n",
              "      <td>LC-39A, Kennedy Space Center, Florida, USA</td>\n",
              "      <td>2020-08-07</td>\n",
              "      <td>Falcon 9 Block 5 | Starlink V1 L9 &amp; BlackSky</td>\n",
              "      <td>StatusActive</td>\n",
              "      <td>50.00</td>\n",
              "      <td>Success</td>\n",
              "      <td>USA</td>\n",
              "      <td>8</td>\n",
              "      <td>2020</td>\n",
              "    </tr>\n",
              "    <tr>\n",
              "      <th>4</th>\n",
              "      <td>ULA</td>\n",
              "      <td>SLC-41, Cape Canaveral AFS, Florida, USA</td>\n",
              "      <td>2020-07-30</td>\n",
              "      <td>Atlas V 541 | Perseverance</td>\n",
              "      <td>StatusActive</td>\n",
              "      <td>145.00</td>\n",
              "      <td>Success</td>\n",
              "      <td>USA</td>\n",
              "      <td>7</td>\n",
              "      <td>2020</td>\n",
              "    </tr>\n",
              "  </tbody>\n",
              "</table>\n",
              "</div>"
            ],
            "text/plain": [
              "  Organisation                                    Location       Date  \\\n",
              "0       SpaceX  LC-39A, Kennedy Space Center, Florida, USA 2020-08-07   \n",
              "4          ULA    SLC-41, Cape Canaveral AFS, Florida, USA 2020-07-30   \n",
              "\n",
              "                                         Detail Rocket_Status  Price  \\\n",
              "0  Falcon 9 Block 5 | Starlink V1 L9 & BlackSky  StatusActive  50.00   \n",
              "4                    Atlas V 541 | Perseverance  StatusActive 145.00   \n",
              "\n",
              "  Mission_Status Country_ISO  Month  Year  \n",
              "0        Success         USA      8  2020  \n",
              "4        Success         USA      7  2020  "
            ]
          },
          "execution_count": 182,
          "metadata": {},
          "output_type": "execute_result"
        }
      ],
      "source": [
        "US_RUS = df_data_time_cleaned[(df_data_time_cleaned['Country_ISO']=='USA') | (df_data_time_cleaned['Country_ISO']=='RUS')]\n",
        "US_RUS.head(2)"
      ]
    },
    {
      "cell_type": "code",
      "execution_count": 183,
      "metadata": {},
      "outputs": [
        {
          "data": {
            "text/html": [
              "<div>\n",
              "<style scoped>\n",
              "    .dataframe tbody tr th:only-of-type {\n",
              "        vertical-align: middle;\n",
              "    }\n",
              "\n",
              "    .dataframe tbody tr th {\n",
              "        vertical-align: top;\n",
              "    }\n",
              "\n",
              "    .dataframe thead th {\n",
              "        text-align: right;\n",
              "    }\n",
              "</style>\n",
              "<table border=\"1\" class=\"dataframe\">\n",
              "  <thead>\n",
              "    <tr style=\"text-align: right;\">\n",
              "      <th></th>\n",
              "      <th>Organisation</th>\n",
              "      <th>Location</th>\n",
              "      <th>Date</th>\n",
              "      <th>Detail</th>\n",
              "      <th>Rocket_Status</th>\n",
              "      <th>Price</th>\n",
              "      <th>Mission_Status</th>\n",
              "      <th>Country_ISO</th>\n",
              "      <th>Month</th>\n",
              "      <th>Year</th>\n",
              "    </tr>\n",
              "  </thead>\n",
              "  <tbody>\n",
              "    <tr>\n",
              "      <th>4000</th>\n",
              "      <td>US Air Force</td>\n",
              "      <td>SLC-20, Cape Canaveral AFS, Florida, USA</td>\n",
              "      <td>1964-12-10</td>\n",
              "      <td>Titan IIIA | Transtage 2</td>\n",
              "      <td>StatusRetired</td>\n",
              "      <td>63.23</td>\n",
              "      <td>Success</td>\n",
              "      <td>USA</td>\n",
              "      <td>12</td>\n",
              "      <td>1964</td>\n",
              "    </tr>\n",
              "    <tr>\n",
              "      <th>4020</th>\n",
              "      <td>US Air Force</td>\n",
              "      <td>SLC-20, Cape Canaveral AFS, Florida, USA</td>\n",
              "      <td>1964-09-01</td>\n",
              "      <td>Titan IIIA | Transtage 1</td>\n",
              "      <td>StatusRetired</td>\n",
              "      <td>63.23</td>\n",
              "      <td>Failure</td>\n",
              "      <td>USA</td>\n",
              "      <td>9</td>\n",
              "      <td>1964</td>\n",
              "    </tr>\n",
              "    <tr>\n",
              "      <th>3971</th>\n",
              "      <td>US Air Force</td>\n",
              "      <td>SLC-20, Cape Canaveral AFS, Florida, USA</td>\n",
              "      <td>1965-05-06</td>\n",
              "      <td>Titan IIIA | LES 2 &amp; LCS 1</td>\n",
              "      <td>StatusRetired</td>\n",
              "      <td>63.23</td>\n",
              "      <td>Success</td>\n",
              "      <td>USA</td>\n",
              "      <td>5</td>\n",
              "      <td>1965</td>\n",
              "    </tr>\n",
              "    <tr>\n",
              "      <th>3993</th>\n",
              "      <td>US Air Force</td>\n",
              "      <td>SLC-20, Cape Canaveral AFS, Florida, USA</td>\n",
              "      <td>1965-02-11</td>\n",
              "      <td>Titan IIIA | LES 1</td>\n",
              "      <td>StatusRetired</td>\n",
              "      <td>63.23</td>\n",
              "      <td>Success</td>\n",
              "      <td>USA</td>\n",
              "      <td>2</td>\n",
              "      <td>1965</td>\n",
              "    </tr>\n",
              "    <tr>\n",
              "      <th>3815</th>\n",
              "      <td>US Air Force</td>\n",
              "      <td>SLC-4W, Vandenberg AFB, California, USA</td>\n",
              "      <td>1966-12-14</td>\n",
              "      <td>Titan IIIB | OPS 8968</td>\n",
              "      <td>StatusRetired</td>\n",
              "      <td>59.00</td>\n",
              "      <td>Success</td>\n",
              "      <td>USA</td>\n",
              "      <td>12</td>\n",
              "      <td>1966</td>\n",
              "    </tr>\n",
              "    <tr>\n",
              "      <th>...</th>\n",
              "      <td>...</td>\n",
              "      <td>...</td>\n",
              "      <td>...</td>\n",
              "      <td>...</td>\n",
              "      <td>...</td>\n",
              "      <td>...</td>\n",
              "      <td>...</td>\n",
              "      <td>...</td>\n",
              "      <td>...</td>\n",
              "      <td>...</td>\n",
              "    </tr>\n",
              "    <tr>\n",
              "      <th>1750</th>\n",
              "      <td>NASA</td>\n",
              "      <td>LC-39B, Kennedy Space Center, Florida, USA</td>\n",
              "      <td>1991-06-05</td>\n",
              "      <td>Space Shuttle Columbia | STS-40</td>\n",
              "      <td>StatusRetired</td>\n",
              "      <td>450.00</td>\n",
              "      <td>Success</td>\n",
              "      <td>USA</td>\n",
              "      <td>6</td>\n",
              "      <td>1991</td>\n",
              "    </tr>\n",
              "    <tr>\n",
              "      <th>1732</th>\n",
              "      <td>NASA</td>\n",
              "      <td>LC-39A, Kennedy Space Center, Florida, USA</td>\n",
              "      <td>1991-09-12</td>\n",
              "      <td>Space Shuttle Discovery | STS-48</td>\n",
              "      <td>StatusRetired</td>\n",
              "      <td>450.00</td>\n",
              "      <td>Success</td>\n",
              "      <td>USA</td>\n",
              "      <td>9</td>\n",
              "      <td>1991</td>\n",
              "    </tr>\n",
              "    <tr>\n",
              "      <th>1741</th>\n",
              "      <td>NASA</td>\n",
              "      <td>LC-39A, Kennedy Space Center, Florida, USA</td>\n",
              "      <td>1991-08-02</td>\n",
              "      <td>Space Shuttle Atlantis | STS-43</td>\n",
              "      <td>StatusRetired</td>\n",
              "      <td>450.00</td>\n",
              "      <td>Success</td>\n",
              "      <td>USA</td>\n",
              "      <td>8</td>\n",
              "      <td>1991</td>\n",
              "    </tr>\n",
              "    <tr>\n",
              "      <th>1760</th>\n",
              "      <td>NASA</td>\n",
              "      <td>LC-39B, Kennedy Space Center, Florida, USA</td>\n",
              "      <td>1991-04-05</td>\n",
              "      <td>Space Shuttle Atlantis | STS-37</td>\n",
              "      <td>StatusRetired</td>\n",
              "      <td>450.00</td>\n",
              "      <td>Success</td>\n",
              "      <td>USA</td>\n",
              "      <td>4</td>\n",
              "      <td>1991</td>\n",
              "    </tr>\n",
              "    <tr>\n",
              "      <th>1743</th>\n",
              "      <td>Northrop</td>\n",
              "      <td>NB-52B Carrier, Edwards AFB, California, USA</td>\n",
              "      <td>1991-07-21</td>\n",
              "      <td>Pegasus/HAPS | 7 Microsats</td>\n",
              "      <td>StatusRetired</td>\n",
              "      <td>40.00</td>\n",
              "      <td>Partial Failure</td>\n",
              "      <td>USA</td>\n",
              "      <td>7</td>\n",
              "      <td>1991</td>\n",
              "    </tr>\n",
              "  </tbody>\n",
              "</table>\n",
              "<p>90 rows × 10 columns</p>\n",
              "</div>"
            ],
            "text/plain": [
              "      Organisation                                      Location       Date  \\\n",
              "4000  US Air Force      SLC-20, Cape Canaveral AFS, Florida, USA 1964-12-10   \n",
              "4020  US Air Force      SLC-20, Cape Canaveral AFS, Florida, USA 1964-09-01   \n",
              "3971  US Air Force      SLC-20, Cape Canaveral AFS, Florida, USA 1965-05-06   \n",
              "3993  US Air Force      SLC-20, Cape Canaveral AFS, Florida, USA 1965-02-11   \n",
              "3815  US Air Force       SLC-4W, Vandenberg AFB, California, USA 1966-12-14   \n",
              "...            ...                                           ...        ...   \n",
              "1750          NASA    LC-39B, Kennedy Space Center, Florida, USA 1991-06-05   \n",
              "1732          NASA    LC-39A, Kennedy Space Center, Florida, USA 1991-09-12   \n",
              "1741          NASA    LC-39A, Kennedy Space Center, Florida, USA 1991-08-02   \n",
              "1760          NASA    LC-39B, Kennedy Space Center, Florida, USA 1991-04-05   \n",
              "1743      Northrop  NB-52B Carrier, Edwards AFB, California, USA 1991-07-21   \n",
              "\n",
              "                                Detail  Rocket_Status  Price   Mission_Status  \\\n",
              "4000          Titan IIIA | Transtage 2  StatusRetired  63.23          Success   \n",
              "4020          Titan IIIA | Transtage 1  StatusRetired  63.23          Failure   \n",
              "3971        Titan IIIA | LES 2 & LCS 1  StatusRetired  63.23          Success   \n",
              "3993                Titan IIIA | LES 1  StatusRetired  63.23          Success   \n",
              "3815             Titan IIIB | OPS 8968  StatusRetired  59.00          Success   \n",
              "...                                ...            ...    ...              ...   \n",
              "1750   Space Shuttle Columbia | STS-40  StatusRetired 450.00          Success   \n",
              "1732  Space Shuttle Discovery | STS-48  StatusRetired 450.00          Success   \n",
              "1741   Space Shuttle Atlantis | STS-43  StatusRetired 450.00          Success   \n",
              "1760   Space Shuttle Atlantis | STS-37  StatusRetired 450.00          Success   \n",
              "1743        Pegasus/HAPS | 7 Microsats  StatusRetired  40.00  Partial Failure   \n",
              "\n",
              "     Country_ISO  Month  Year  \n",
              "4000         USA     12  1964  \n",
              "4020         USA      9  1964  \n",
              "3971         USA      5  1965  \n",
              "3993         USA      2  1965  \n",
              "3815         USA     12  1966  \n",
              "...          ...    ...   ...  \n",
              "1750         USA      6  1991  \n",
              "1732         USA      9  1991  \n",
              "1741         USA      8  1991  \n",
              "1760         USA      4  1991  \n",
              "1743         USA      7  1991  \n",
              "\n",
              "[90 rows x 10 columns]"
            ]
          },
          "execution_count": 183,
          "metadata": {},
          "output_type": "execute_result"
        }
      ],
      "source": [
        "df_US_RUS = US_RUS.sort_values([\"Year\"])\n",
        "df_US_RUS[df_US_RUS[\"Year\"] <= 1991]"
      ]
    },
    {
      "cell_type": "markdown",
      "metadata": {
        "id": "Os-3A5vLa-q9",
        "papermill": {
          "duration": 0.054318,
          "end_time": "2020-10-20T21:34:14.089604",
          "exception": false,
          "start_time": "2020-10-20T21:34:14.035286",
          "status": "completed"
        },
        "tags": []
      },
      "source": [
        "## Create a Plotly Pie Chart comparing the total number of launches of the USSR and the USA\n",
        "\n",
        "Hint: Remember to include former Soviet Republics like Kazakhstan when analysing the total number of launches. "
      ]
    },
    {
      "cell_type": "code",
      "execution_count": 184,
      "metadata": {
        "id": "1irc6_W9rD59"
      },
      "outputs": [
        {
          "data": {
            "text/html": [
              "<div>\n",
              "<style scoped>\n",
              "    .dataframe tbody tr th:only-of-type {\n",
              "        vertical-align: middle;\n",
              "    }\n",
              "\n",
              "    .dataframe tbody tr th {\n",
              "        vertical-align: top;\n",
              "    }\n",
              "\n",
              "    .dataframe thead th {\n",
              "        text-align: right;\n",
              "    }\n",
              "</style>\n",
              "<table border=\"1\" class=\"dataframe\">\n",
              "  <thead>\n",
              "    <tr style=\"text-align: right;\">\n",
              "      <th></th>\n",
              "      <th>Country_ISO</th>\n",
              "      <th>counts</th>\n",
              "    </tr>\n",
              "  </thead>\n",
              "  <tbody>\n",
              "    <tr>\n",
              "      <th>0</th>\n",
              "      <td>USA</td>\n",
              "      <td>490</td>\n",
              "    </tr>\n",
              "    <tr>\n",
              "      <th>1</th>\n",
              "      <td>RUS</td>\n",
              "      <td>54</td>\n",
              "    </tr>\n",
              "  </tbody>\n",
              "</table>\n",
              "</div>"
            ],
            "text/plain": [
              "  Country_ISO  counts\n",
              "0         USA     490\n",
              "1         RUS      54"
            ]
          },
          "execution_count": 184,
          "metadata": {},
          "output_type": "execute_result"
        }
      ],
      "source": [
        "launches = df_US_RUS[\"Country_ISO\"].value_counts().rename_axis(\"Country_ISO\").reset_index(name='counts')\n",
        "launches.head()"
      ]
    },
    {
      "cell_type": "code",
      "execution_count": 185,
      "metadata": {
        "id": "OhhuLQycrEE-"
      },
      "outputs": [
        {
          "data": {
            "text/plain": [
              "([<matplotlib.patches.Wedge at 0x21a2cb00f50>,\n",
              "  <matplotlib.patches.Wedge at 0x21a2cb9dcd0>],\n",
              " [Text(1.0469445878828716, 0.3375011554095248, 'RUS'),\n",
              "  Text(-1.0469445282026113, -0.3375013405404663, 'USA')])"
            ]
          },
          "execution_count": 185,
          "metadata": {},
          "output_type": "execute_result"
        },
        {
          "data": {
            "image/png": "[encoded data removed]",
            "text/plain": [
              "<Figure size 640x480 with 1 Axes>"
            ]
          },
          "metadata": {},
          "output_type": "display_data"
        }
      ],
      "source": [
        "colors = [\"#1f77b4\", \"#ff7f0e\"]\n",
        "grouping = df_US_RUS.groupby(\"Country_ISO\").count().reset_index()\n",
        "sizes = grouping['Mission_Status']\n",
        "labels = grouping['Country_ISO']\n",
        "\n",
        "plt.pie(sizes, labels = labels, colors = colors)"
      ]
    },
    {
      "cell_type": "markdown",
      "metadata": {
        "id": "0C29Zz4xa-rA",
        "papermill": {
          "duration": 0.052921,
          "end_time": "2020-10-20T21:34:14.340085",
          "exception": false,
          "start_time": "2020-10-20T21:34:14.287164",
          "status": "completed"
        },
        "tags": []
      },
      "source": [
        "## Create a Chart that Shows the Total Number of Launches Year-On-Year by the Two Superpowers"
      ]
    },
    {
      "cell_type": "code",
      "execution_count": 186,
      "metadata": {
        "id": "9ISKvOiCrS73"
      },
      "outputs": [
        {
          "data": {
            "text/html": [
              "<div>\n",
              "<style scoped>\n",
              "    .dataframe tbody tr th:only-of-type {\n",
              "        vertical-align: middle;\n",
              "    }\n",
              "\n",
              "    .dataframe tbody tr th {\n",
              "        vertical-align: top;\n",
              "    }\n",
              "\n",
              "    .dataframe thead th {\n",
              "        text-align: right;\n",
              "    }\n",
              "</style>\n",
              "<table border=\"1\" class=\"dataframe\">\n",
              "  <thead>\n",
              "    <tr style=\"text-align: right;\">\n",
              "      <th></th>\n",
              "      <th>Country_ISO</th>\n",
              "      <th>Year</th>\n",
              "      <th>counts</th>\n",
              "    </tr>\n",
              "  </thead>\n",
              "  <tbody>\n",
              "    <tr>\n",
              "      <th>0</th>\n",
              "      <td>RUS</td>\n",
              "      <td>2000</td>\n",
              "      <td>1</td>\n",
              "    </tr>\n",
              "    <tr>\n",
              "      <th>1</th>\n",
              "      <td>RUS</td>\n",
              "      <td>2002</td>\n",
              "      <td>2</td>\n",
              "    </tr>\n",
              "    <tr>\n",
              "      <th>2</th>\n",
              "      <td>RUS</td>\n",
              "      <td>2003</td>\n",
              "      <td>2</td>\n",
              "    </tr>\n",
              "    <tr>\n",
              "      <th>3</th>\n",
              "      <td>RUS</td>\n",
              "      <td>2004</td>\n",
              "      <td>1</td>\n",
              "    </tr>\n",
              "    <tr>\n",
              "      <th>4</th>\n",
              "      <td>RUS</td>\n",
              "      <td>2005</td>\n",
              "      <td>2</td>\n",
              "    </tr>\n",
              "    <tr>\n",
              "      <th>...</th>\n",
              "      <td>...</td>\n",
              "      <td>...</td>\n",
              "      <td>...</td>\n",
              "    </tr>\n",
              "    <tr>\n",
              "      <th>64</th>\n",
              "      <td>USA</td>\n",
              "      <td>2016</td>\n",
              "      <td>21</td>\n",
              "    </tr>\n",
              "    <tr>\n",
              "      <th>65</th>\n",
              "      <td>USA</td>\n",
              "      <td>2017</td>\n",
              "      <td>27</td>\n",
              "    </tr>\n",
              "    <tr>\n",
              "      <th>66</th>\n",
              "      <td>USA</td>\n",
              "      <td>2018</td>\n",
              "      <td>29</td>\n",
              "    </tr>\n",
              "    <tr>\n",
              "      <th>67</th>\n",
              "      <td>USA</td>\n",
              "      <td>2019</td>\n",
              "      <td>19</td>\n",
              "    </tr>\n",
              "    <tr>\n",
              "      <th>68</th>\n",
              "      <td>USA</td>\n",
              "      <td>2020</td>\n",
              "      <td>20</td>\n",
              "    </tr>\n",
              "  </tbody>\n",
              "</table>\n",
              "<p>69 rows × 3 columns</p>\n",
              "</div>"
            ],
            "text/plain": [
              "   Country_ISO  Year  counts\n",
              "0          RUS  2000       1\n",
              "1          RUS  2002       2\n",
              "2          RUS  2003       2\n",
              "3          RUS  2004       1\n",
              "4          RUS  2005       2\n",
              "..         ...   ...     ...\n",
              "64         USA  2016      21\n",
              "65         USA  2017      27\n",
              "66         USA  2018      29\n",
              "67         USA  2019      19\n",
              "68         USA  2020      20\n",
              "\n",
              "[69 rows x 3 columns]"
            ]
          },
          "execution_count": 186,
          "metadata": {},
          "output_type": "execute_result"
        }
      ],
      "source": [
        "df_US_RUS_grouped = df_US_RUS.groupby([\"Country_ISO\",\"Year\"]).size().reset_index(name=\"counts\")\n",
        "df_US_RUS_grouped"
      ]
    },
    {
      "cell_type": "code",
      "execution_count": 187,
      "metadata": {
        "id": "oCc7VTzGrTK-"
      },
      "outputs": [
        {
          "data": {
            "image/png": "[encoded data removed]",
            "text/plain": [
              "<Figure size 1600x600 with 1 Axes>"
            ]
          },
          "metadata": {},
          "output_type": "display_data"
        }
      ],
      "source": [
        "color_dict = {'USA': 'blue', 'RUS': 'red'} \n",
        "\n",
        "fig, ax = plt.subplots(figsize=(16, 6))\n",
        "\n",
        "organizations = df_US_RUS_grouped[\"Country_ISO\"].unique()\n",
        "\n",
        "for org in organizations:\n",
        "    org_data = df_US_RUS_grouped[df_US_RUS_grouped[\"Country_ISO\"] == org]\n",
        "    ax.bar(org_data[\"Year\"], org_data[\"counts\"], color=color_dict[org], label=org, alpha=0.6)\n",
        "    \n",
        "\n",
        "plt.xticks(np.arange(df_US_RUS_grouped[\"Year\"].min(), df_US_RUS_grouped[\"Year\"].max(), step=3))\n",
        "plt.legend()\n",
        "plt.show()"
      ]
    },
    {
      "cell_type": "markdown",
      "metadata": {
        "id": "eWv4iZmra-rE",
        "papermill": {
          "duration": 0.079311,
          "end_time": "2020-10-20T21:34:14.933058",
          "exception": false,
          "start_time": "2020-10-20T21:34:14.853747",
          "status": "completed"
        },
        "tags": []
      },
      "source": [
        "## Chart the Total Number of Mission Failures Year on Year."
      ]
    },
    {
      "cell_type": "code",
      "execution_count": 188,
      "metadata": {
        "id": "I-Zss5-Mre-4"
      },
      "outputs": [
        {
          "data": {
            "text/html": [
              "<div>\n",
              "<style scoped>\n",
              "    .dataframe tbody tr th:only-of-type {\n",
              "        vertical-align: middle;\n",
              "    }\n",
              "\n",
              "    .dataframe tbody tr th {\n",
              "        vertical-align: top;\n",
              "    }\n",
              "\n",
              "    .dataframe thead th {\n",
              "        text-align: right;\n",
              "    }\n",
              "</style>\n",
              "<table border=\"1\" class=\"dataframe\">\n",
              "  <thead>\n",
              "    <tr style=\"text-align: right;\">\n",
              "      <th></th>\n",
              "      <th>Mission_Status</th>\n",
              "      <th>Year</th>\n",
              "      <th>counts</th>\n",
              "    </tr>\n",
              "  </thead>\n",
              "  <tbody>\n",
              "    <tr>\n",
              "      <th>0</th>\n",
              "      <td>Failure</td>\n",
              "      <td>1964</td>\n",
              "      <td>1</td>\n",
              "    </tr>\n",
              "    <tr>\n",
              "      <th>1</th>\n",
              "      <td>Failure</td>\n",
              "      <td>1967</td>\n",
              "      <td>1</td>\n",
              "    </tr>\n",
              "    <tr>\n",
              "      <th>2</th>\n",
              "      <td>Failure</td>\n",
              "      <td>1986</td>\n",
              "      <td>1</td>\n",
              "    </tr>\n",
              "    <tr>\n",
              "      <th>3</th>\n",
              "      <td>Failure</td>\n",
              "      <td>1990</td>\n",
              "      <td>1</td>\n",
              "    </tr>\n",
              "    <tr>\n",
              "      <th>4</th>\n",
              "      <td>Failure</td>\n",
              "      <td>1993</td>\n",
              "      <td>2</td>\n",
              "    </tr>\n",
              "    <tr>\n",
              "      <th>...</th>\n",
              "      <td>...</td>\n",
              "      <td>...</td>\n",
              "      <td>...</td>\n",
              "    </tr>\n",
              "    <tr>\n",
              "      <th>85</th>\n",
              "      <td>Success</td>\n",
              "      <td>2016</td>\n",
              "      <td>61</td>\n",
              "    </tr>\n",
              "    <tr>\n",
              "      <th>86</th>\n",
              "      <td>Success</td>\n",
              "      <td>2017</td>\n",
              "      <td>62</td>\n",
              "    </tr>\n",
              "    <tr>\n",
              "      <th>87</th>\n",
              "      <td>Success</td>\n",
              "      <td>2018</td>\n",
              "      <td>87</td>\n",
              "    </tr>\n",
              "    <tr>\n",
              "      <th>88</th>\n",
              "      <td>Success</td>\n",
              "      <td>2019</td>\n",
              "      <td>71</td>\n",
              "    </tr>\n",
              "    <tr>\n",
              "      <th>89</th>\n",
              "      <td>Success</td>\n",
              "      <td>2020</td>\n",
              "      <td>48</td>\n",
              "    </tr>\n",
              "  </tbody>\n",
              "</table>\n",
              "<p>90 rows × 3 columns</p>\n",
              "</div>"
            ],
            "text/plain": [
              "   Mission_Status  Year  counts\n",
              "0         Failure  1964       1\n",
              "1         Failure  1967       1\n",
              "2         Failure  1986       1\n",
              "3         Failure  1990       1\n",
              "4         Failure  1993       2\n",
              "..            ...   ...     ...\n",
              "85        Success  2016      61\n",
              "86        Success  2017      62\n",
              "87        Success  2018      87\n",
              "88        Success  2019      71\n",
              "89        Success  2020      48\n",
              "\n",
              "[90 rows x 3 columns]"
            ]
          },
          "execution_count": 188,
          "metadata": {},
          "output_type": "execute_result"
        }
      ],
      "source": [
        "df_data_time_cleaned_failures = df_data_time_cleaned.groupby([\"Mission_Status\",\"Year\"]).size().reset_index(name=\"counts\")\n",
        "df_data_time_cleaned_failures"
      ]
    },
    {
      "cell_type": "code",
      "execution_count": 191,
      "metadata": {
        "id": "7Ps9Iq_crfYl"
      },
      "outputs": [
        {
          "data": {
            "image/png": "[encoded data removed]",
            "text/plain": [
              "<Figure size 1600x600 with 1 Axes>"
            ]
          },
          "metadata": {},
          "output_type": "display_data"
        }
      ],
      "source": [
        "fig, ax = plt.subplots(figsize=(16, 6))\n",
        "\n",
        "mission_status = df_data_time_cleaned_failures[\"Mission_Status\"].unique()\n",
        "\n",
        "\n",
        "for i, (org, color) in enumerate(zip(mission_status, colors)):\n",
        "    org_data = df_data_time_cleaned_failures[df_data_time_cleaned_failures[\"Mission_Status\"] == org]\n",
        "    ax.bar(org_data[\"Year\"], org_data[\"counts\"], color=color, label=org, alpha=0.5)\n",
        "\n",
        "\n",
        "plt.xticks(np.arange(df_data_time_cleaned_failures[\"Year\"].min(), df_data_time_cleaned_failures[\"Year\"].max(), step=5))\n",
        "plt.legend()\n",
        "plt.show()"
      ]
    },
    {
      "cell_type": "code",
      "execution_count": 193,
      "metadata": {},
      "outputs": [
        {
          "data": {
            "image/png": "[encoded data removed]",
            "text/plain": [
              "<Figure size 1800x600 with 1 Axes>"
            ]
          },
          "metadata": {},
          "output_type": "display_data"
        }
      ],
      "source": [
        "\n",
        "\n"
      ]
    },
    {
      "cell_type": "markdown",
      "metadata": {
        "id": "XNp-NkrJriEF"
      },
      "source": [
        "## Chart the Percentage of Failures over Time\n",
        "\n",
        "Did failures go up or down over time? Did the countries get better at minimising risk and improving their chances of success over time? "
      ]
    },
    {
      "cell_type": "code",
      "execution_count": 195,
      "metadata": {
        "id": "Kj3-zsI0rhOS"
      },
      "outputs": [
        {
          "data": {
            "image/png": "[encoded data removed]",
            "text/plain": [
              "<Figure size 1800x600 with 1 Axes>"
            ]
          },
          "metadata": {},
          "output_type": "display_data"
        }
      ],
      "source": [
        "fig, ax = plt.subplots(figsize=(18, 6))\n",
        "\n",
        "mission_status = df_data_time_cleaned_failures[\"Mission_Status\"].unique()\n",
        "bar_width = 0.4  \n",
        "\n",
        "x = np.arange(len(df_data_time_cleaned_failures[\"Year\"].unique()))\n",
        "\n",
        "for i, (org, color) in enumerate(zip(mission_status, colors)):\n",
        "    org_data = df_data_time_cleaned_failures[df_data_time_cleaned_failures[\"Mission_Status\"] == org]\n",
        "    org_data_grouped = org_data.groupby(\"Year\").sum()[\"counts\"]\n",
        "    aligned_data = [org_data_grouped.get(year, 0) for year in df_data_time_cleaned_failures[\"Year\"].unique()]\n",
        "    ax.bar(x + i * bar_width, aligned_data, color=color, label=org, width=bar_width, alpha=0.5)\n",
        "\n",
        "ax.set_xticks(x + bar_width * (len(mission_status) - 1) / 2)\n",
        "ax.set_xticklabels(df_data_time_cleaned_failures[\"Year\"].unique(), rotation=45)\n",
        "\n",
        "plt.legend()\n",
        "plt.show()"
      ]
    },
    {
      "cell_type": "code",
      "execution_count": 196,
      "metadata": {
        "id": "nxnnzx89rwvH"
      },
      "outputs": [
        {
          "data": {
            "text/html": [
              "<div>\n",
              "<style scoped>\n",
              "    .dataframe tbody tr th:only-of-type {\n",
              "        vertical-align: middle;\n",
              "    }\n",
              "\n",
              "    .dataframe tbody tr th {\n",
              "        vertical-align: top;\n",
              "    }\n",
              "\n",
              "    .dataframe thead th {\n",
              "        text-align: right;\n",
              "    }\n",
              "</style>\n",
              "<table border=\"1\" class=\"dataframe\">\n",
              "  <thead>\n",
              "    <tr style=\"text-align: right;\">\n",
              "      <th></th>\n",
              "      <th>Mission_Status</th>\n",
              "      <th>Year</th>\n",
              "      <th>counts</th>\n",
              "    </tr>\n",
              "  </thead>\n",
              "  <tbody>\n",
              "    <tr>\n",
              "      <th>0</th>\n",
              "      <td>Failure</td>\n",
              "      <td>1964</td>\n",
              "      <td>1</td>\n",
              "    </tr>\n",
              "    <tr>\n",
              "      <th>1</th>\n",
              "      <td>Failure</td>\n",
              "      <td>1967</td>\n",
              "      <td>1</td>\n",
              "    </tr>\n",
              "    <tr>\n",
              "      <th>2</th>\n",
              "      <td>Failure</td>\n",
              "      <td>1986</td>\n",
              "      <td>1</td>\n",
              "    </tr>\n",
              "    <tr>\n",
              "      <th>3</th>\n",
              "      <td>Failure</td>\n",
              "      <td>1990</td>\n",
              "      <td>1</td>\n",
              "    </tr>\n",
              "    <tr>\n",
              "      <th>4</th>\n",
              "      <td>Failure</td>\n",
              "      <td>1993</td>\n",
              "      <td>2</td>\n",
              "    </tr>\n",
              "  </tbody>\n",
              "</table>\n",
              "</div>"
            ],
            "text/plain": [
              "  Mission_Status  Year  counts\n",
              "0        Failure  1964       1\n",
              "1        Failure  1967       1\n",
              "2        Failure  1986       1\n",
              "3        Failure  1990       1\n",
              "4        Failure  1993       2"
            ]
          },
          "execution_count": 196,
          "metadata": {},
          "output_type": "execute_result"
        }
      ],
      "source": [
        "df_only_failures = df_data_time_cleaned_failures[df_data_time_cleaned_failures[\"Mission_Status\"] != \"Success\"]\n",
        "df_only_failures.head()"
      ]
    },
    {
      "cell_type": "code",
      "execution_count": 197,
      "metadata": {
        "id": "_TPWaaJ5r1Fz"
      },
      "outputs": [
        {
          "data": {
            "image/png": "[encoded data removed]",
            "text/plain": [
              "<Figure size 1800x600 with 1 Axes>"
            ]
          },
          "metadata": {},
          "output_type": "display_data"
        }
      ],
      "source": [
        "fig, ax = plt.subplots(figsize=(18, 6))\n",
        "\n",
        "mission_status = df_only_failures[\"Mission_Status\"].unique()\n",
        "bar_width = 0.35  \n",
        "x = np.arange(len(df_only_failures[\"Year\"].unique()))\n",
        "\n",
        "# Plot each group of bars\n",
        "for i, (org, color) in enumerate(zip(mission_status, colors)):\n",
        "    org_data = df_only_failures[df_only_failures[\"Mission_Status\"] == org]\n",
        "    org_data_grouped = org_data.groupby(\"Year\").sum()[\"counts\"]\n",
        "    aligned_data = [org_data_grouped.get(year, 0) for year in df_only_failures[\"Year\"].unique()]\n",
        "    ax.bar(x + i * bar_width, aligned_data, color=color, label=org, width=bar_width, alpha=0.7)\n",
        "\n",
        "ax.set_xticks(x + bar_width * (len(mission_status) - 1) / 2)\n",
        "ax.set_xticklabels(df_only_failures[\"Year\"].unique(), rotation=45)\n",
        "\n",
        "plt.legend()\n",
        "plt.show()"
      ]
    },
    {
      "cell_type": "markdown",
      "metadata": {
        "id": "S5aOC7bGr2OX"
      },
      "source": [
        "# For Every Year Show which Country was in the Lead in terms of Total Number of Launches up to and including including 2020)\n",
        "\n",
        "Do the results change if we only look at the number of successful launches? "
      ]
    },
    {
      "cell_type": "code",
      "execution_count": 198,
      "metadata": {
        "id": "_h0grIXKsOz_"
      },
      "outputs": [
        {
          "data": {
            "text/html": [
              "<div>\n",
              "<style scoped>\n",
              "    .dataframe tbody tr th:only-of-type {\n",
              "        vertical-align: middle;\n",
              "    }\n",
              "\n",
              "    .dataframe tbody tr th {\n",
              "        vertical-align: top;\n",
              "    }\n",
              "\n",
              "    .dataframe thead th {\n",
              "        text-align: right;\n",
              "    }\n",
              "</style>\n",
              "<table border=\"1\" class=\"dataframe\">\n",
              "  <thead>\n",
              "    <tr style=\"text-align: right;\">\n",
              "      <th></th>\n",
              "      <th>Year</th>\n",
              "      <th>Country_ISO</th>\n",
              "      <th>counts</th>\n",
              "    </tr>\n",
              "  </thead>\n",
              "  <tbody>\n",
              "    <tr>\n",
              "      <th>160</th>\n",
              "      <td>2018</td>\n",
              "      <td>USA</td>\n",
              "      <td>29</td>\n",
              "    </tr>\n",
              "    <tr>\n",
              "      <th>153</th>\n",
              "      <td>2018</td>\n",
              "      <td>CHN</td>\n",
              "      <td>27</td>\n",
              "    </tr>\n",
              "    <tr>\n",
              "      <th>152</th>\n",
              "      <td>2017</td>\n",
              "      <td>USA</td>\n",
              "      <td>27</td>\n",
              "    </tr>\n",
              "    <tr>\n",
              "      <th>131</th>\n",
              "      <td>2014</td>\n",
              "      <td>USA</td>\n",
              "      <td>22</td>\n",
              "    </tr>\n",
              "    <tr>\n",
              "      <th>144</th>\n",
              "      <td>2016</td>\n",
              "      <td>USA</td>\n",
              "      <td>21</td>\n",
              "    </tr>\n",
              "    <tr>\n",
              "      <th>...</th>\n",
              "      <td>...</td>\n",
              "      <td>...</td>\n",
              "      <td>...</td>\n",
              "    </tr>\n",
              "    <tr>\n",
              "      <th>119</th>\n",
              "      <td>2012</td>\n",
              "      <td>RUS</td>\n",
              "      <td>1</td>\n",
              "    </tr>\n",
              "    <tr>\n",
              "      <th>132</th>\n",
              "      <td>2015</td>\n",
              "      <td>CHN</td>\n",
              "      <td>1</td>\n",
              "    </tr>\n",
              "    <tr>\n",
              "      <th>124</th>\n",
              "      <td>2013</td>\n",
              "      <td>KAZ</td>\n",
              "      <td>1</td>\n",
              "    </tr>\n",
              "    <tr>\n",
              "      <th>150</th>\n",
              "      <td>2017</td>\n",
              "      <td>NZL</td>\n",
              "      <td>1</td>\n",
              "    </tr>\n",
              "    <tr>\n",
              "      <th>174</th>\n",
              "      <td>2020</td>\n",
              "      <td>RUS</td>\n",
              "      <td>1</td>\n",
              "    </tr>\n",
              "  </tbody>\n",
              "</table>\n",
              "<p>176 rows × 3 columns</p>\n",
              "</div>"
            ],
            "text/plain": [
              "     Year Country_ISO  counts\n",
              "160  2018         USA      29\n",
              "153  2018         CHN      27\n",
              "152  2017         USA      27\n",
              "131  2014         USA      22\n",
              "144  2016         USA      21\n",
              "..    ...         ...     ...\n",
              "119  2012         RUS       1\n",
              "132  2015         CHN       1\n",
              "124  2013         KAZ       1\n",
              "150  2017         NZL       1\n",
              "174  2020         RUS       1\n",
              "\n",
              "[176 rows x 3 columns]"
            ]
          },
          "execution_count": 198,
          "metadata": {},
          "output_type": "execute_result"
        }
      ],
      "source": [
        "df_data_time_cleaned.groupby([\"Year\",\"Country_ISO\"]).size().reset_index(name=\"counts\").sort_values(\"counts\",ascending=False)"
      ]
    },
    {
      "cell_type": "code",
      "execution_count": null,
      "metadata": {
        "id": "zgVysedmsOp4"
      },
      "outputs": [],
      "source": []
    },
    {
      "cell_type": "markdown",
      "metadata": {
        "id": "jQcqBfJ8serG"
      },
      "source": [
        "# Create a Year-on-Year Chart Showing the Organisation Doing the Most Number of Launches\n",
        "\n",
        "Which organisation was dominant in the 1970s and 1980s? Which organisation was dominant in 2018, 2019 and 2020? "
      ]
    },
    {
      "cell_type": "code",
      "execution_count": 199,
      "metadata": {
        "id": "jc9ImQEWsztG"
      },
      "outputs": [
        {
          "data": {
            "text/html": [
              "<div>\n",
              "<style scoped>\n",
              "    .dataframe tbody tr th:only-of-type {\n",
              "        vertical-align: middle;\n",
              "    }\n",
              "\n",
              "    .dataframe tbody tr th {\n",
              "        vertical-align: top;\n",
              "    }\n",
              "\n",
              "    .dataframe thead th {\n",
              "        text-align: right;\n",
              "    }\n",
              "</style>\n",
              "<table border=\"1\" class=\"dataframe\">\n",
              "  <thead>\n",
              "    <tr style=\"text-align: right;\">\n",
              "      <th></th>\n",
              "      <th>Year</th>\n",
              "      <th>Organisation</th>\n",
              "      <th>counts</th>\n",
              "    </tr>\n",
              "  </thead>\n",
              "  <tbody>\n",
              "    <tr>\n",
              "      <th>9</th>\n",
              "      <td>1970</td>\n",
              "      <td>NASA</td>\n",
              "      <td>1</td>\n",
              "    </tr>\n",
              "    <tr>\n",
              "      <th>10</th>\n",
              "      <td>1971</td>\n",
              "      <td>NASA</td>\n",
              "      <td>2</td>\n",
              "    </tr>\n",
              "    <tr>\n",
              "      <th>11</th>\n",
              "      <td>1972</td>\n",
              "      <td>NASA</td>\n",
              "      <td>2</td>\n",
              "    </tr>\n",
              "    <tr>\n",
              "      <th>12</th>\n",
              "      <td>1973</td>\n",
              "      <td>NASA</td>\n",
              "      <td>1</td>\n",
              "    </tr>\n",
              "  </tbody>\n",
              "</table>\n",
              "</div>"
            ],
            "text/plain": [
              "    Year Organisation  counts\n",
              "9   1970         NASA       1\n",
              "10  1971         NASA       2\n",
              "11  1972         NASA       2\n",
              "12  1973         NASA       1"
            ]
          },
          "execution_count": 199,
          "metadata": {},
          "output_type": "execute_result"
        }
      ],
      "source": [
        "df_orga_1970_1980 = df_data_time_cleaned.groupby([\"Year\",\"Organisation\"]).size().reset_index(name=\"counts\").sort_values(\"counts\",ascending=False)\n",
        "df_orga_1970_1980 = df_orga_1970_1980[(df_orga_1970_1980[\"Year\"] >= 1970) & (df_orga_1970_1980[\"Year\"] <= 1980)].sort_values(\"Year\",ascending=True)\n",
        "df_orga_1970_1980"
      ]
    },
    {
      "cell_type": "code",
      "execution_count": 200,
      "metadata": {
        "id": "r5frxzwlsz5W"
      },
      "outputs": [
        {
          "data": {
            "image/png": "[encoded data removed]",
            "text/plain": [
              "<Figure size 1800x600 with 1 Axes>"
            ]
          },
          "metadata": {},
          "output_type": "display_data"
        }
      ],
      "source": [
        "fig, ax = plt.subplots(figsize=(18, 6))\n",
        "\n",
        "mission_status = df_orga_1970_1980[\"Organisation\"].unique()\n",
        "colors = ['#1f77b4', '#ff7f0e', '#2ca02c', '#d62728', '#9467bd', '#8c564b', '#e377c2']\n",
        "\n",
        "bar_width = 1 / len(mission_status)  \n",
        "\n",
        "x = np.arange(len(df_orga_1970_1980[\"Year\"].unique()))\n",
        "\n",
        "# Plot each group of bars\n",
        "for i, org in enumerate(mission_status):\n",
        "    org_data = df_orga_1970_1980[df_orga_1970_1980[\"Organisation\"] == org]\n",
        "    org_data_grouped = org_data.groupby(\"Year\").sum()[\"counts\"]\n",
        "    aligned_data = [org_data_grouped.get(year, 0) for year in df_orga_1970_1980[\"Year\"].unique()]\n",
        "    ax.bar(x + i * bar_width, aligned_data, color=colors[i % len(colors)], label=org, width=bar_width, alpha=0.7)\n",
        "\n",
        "ax.set_xticks(x + bar_width * (len(mission_status) - 1) / 2)\n",
        "ax.set_xticklabels(df_orga_1970_1980[\"Year\"].unique(), rotation=45)\n",
        "\n",
        "plt.legend()\n",
        "plt.show()"
      ]
    },
    {
      "cell_type": "code",
      "execution_count": 201,
      "metadata": {
        "id": "8vHKpuc5a-rc",
        "papermill": {
          "duration": 0.092403,
          "end_time": "2020-10-20T21:34:26.709168",
          "exception": false,
          "start_time": "2020-10-20T21:34:26.616765",
          "status": "completed"
        },
        "tags": []
      },
      "outputs": [
        {
          "data": {
            "text/html": [
              "<div>\n",
              "<style scoped>\n",
              "    .dataframe tbody tr th:only-of-type {\n",
              "        vertical-align: middle;\n",
              "    }\n",
              "\n",
              "    .dataframe tbody tr th {\n",
              "        vertical-align: top;\n",
              "    }\n",
              "\n",
              "    .dataframe thead th {\n",
              "        text-align: right;\n",
              "    }\n",
              "</style>\n",
              "<table border=\"1\" class=\"dataframe\">\n",
              "  <thead>\n",
              "    <tr style=\"text-align: right;\">\n",
              "      <th></th>\n",
              "      <th>Year</th>\n",
              "      <th>Organisation</th>\n",
              "      <th>counts</th>\n",
              "    </tr>\n",
              "  </thead>\n",
              "  <tbody>\n",
              "    <tr>\n",
              "      <th>231</th>\n",
              "      <td>2018</td>\n",
              "      <td>CASC</td>\n",
              "      <td>27</td>\n",
              "    </tr>\n",
              "    <tr>\n",
              "      <th>239</th>\n",
              "      <td>2018</td>\n",
              "      <td>SpaceX</td>\n",
              "      <td>21</td>\n",
              "    </tr>\n",
              "    <tr>\n",
              "      <th>233</th>\n",
              "      <td>2018</td>\n",
              "      <td>ISRO</td>\n",
              "      <td>7</td>\n",
              "    </tr>\n",
              "    <tr>\n",
              "      <th>230</th>\n",
              "      <td>2018</td>\n",
              "      <td>Arianespace</td>\n",
              "      <td>7</td>\n",
              "    </tr>\n",
              "    <tr>\n",
              "      <th>241</th>\n",
              "      <td>2018</td>\n",
              "      <td>VKS RF</td>\n",
              "      <td>4</td>\n",
              "    </tr>\n",
              "  </tbody>\n",
              "</table>\n",
              "</div>"
            ],
            "text/plain": [
              "     Year Organisation  counts\n",
              "231  2018         CASC      27\n",
              "239  2018       SpaceX      21\n",
              "233  2018         ISRO       7\n",
              "230  2018  Arianespace       7\n",
              "241  2018       VKS RF       4"
            ]
          },
          "execution_count": 201,
          "metadata": {},
          "output_type": "execute_result"
        }
      ],
      "source": [
        "df_orga_2018_2020 = df_data_time_cleaned.groupby([\"Year\",\"Organisation\"]).size().reset_index(name=\"counts\").sort_values(\"counts\",ascending=False)\n",
        "df_orga_2018_2020 = df_orga_2018_2020[(df_orga_2018_2020[\"Year\"] >= 2018) & (df_orga_2018_2020[\"Year\"] <= 2020)].sort_values(\"Year\",ascending=True)\n",
        "df_orga_2018_2020.head(5)"
      ]
    },
    {
      "cell_type": "code",
      "execution_count": 202,
      "metadata": {},
      "outputs": [
        {
          "data": {
            "image/png": "[encoded data removed]",
            "text/plain": [
              "<Figure size 1800x1000 with 1 Axes>"
            ]
          },
          "metadata": {},
          "output_type": "display_data"
        }
      ],
      "source": [
        "# Sample data and colors\n",
        "mission_status = df_orga_2018_2020[\"Organisation\"].unique()\n",
        "colors = ['#1f77b4', '#ff7f0e', '#2ca02c', '#d62728', '#9467bd', '#8c564b', '#e377c2']\n",
        "\n",
        "fig, ax = plt.subplots(figsize=(18, 10))\n",
        "\n",
        "bar_width = 0.6 / len(mission_status)  \n",
        "\n",
        "x = np.arange(len(df_orga_2018_2020[\"Year\"].unique()))\n",
        "\n",
        "# Plot each group of bars\n",
        "for i, org in enumerate(mission_status):\n",
        "    org_data = df_orga_2018_2020[df_orga_2018_2020[\"Organisation\"] == org]\n",
        "    org_data_grouped = org_data.groupby(\"Year\").sum()[\"counts\"]\n",
        "\n",
        "    aligned_data = [org_data_grouped.get(year, 0) for year in df_orga_2018_2020[\"Year\"].unique()]\n",
        "    ax.bar(x + i * bar_width, aligned_data, color=colors[i % len(colors)], label=org, width=bar_width, alpha=0.7)\n",
        "\n",
        "ax.set_xticks(x + bar_width * (len(mission_status) - 1) / 2)\n",
        "ax.set_xticklabels(df_orga_2018_2020[\"Year\"].unique(), rotation=45)\n",
        "\n",
        "plt.legend()\n",
        "plt.show()"
      ]
    }
  ],
  "metadata": {
    "colab": {
      "name": "Space Missions Analysis (start).ipynb",
      "provenance": []
    },
    "kernelspec": {
      "display_name": "Python 3",
      "language": "python",
      "name": "python3"
    },
    "language_info": {
      "codemirror_mode": {
        "name": "ipython",
        "version": 3
      },
      "file_extension": ".py",
      "mimetype": "text/x-python",
      "name": "python",
      "nbconvert_exporter": "python",
      "pygments_lexer": "ipython3",
      "version": "3.11.4"
    },
    "papermill": {
      "duration": 28.468597,
      "end_time": "2020-10-20T21:34:26.910951",
      "environment_variables": {},
      "exception": null,
      "input_path": "__notebook__.ipynb",
      "output_path": "__notebook__.ipynb",
      "parameters": {},
      "start_time": "2020-10-20T21:33:58.442354",
      "version": "2.1.0"
    }
  },
  "nbformat": 4,
  "nbformat_minor": 0
}
